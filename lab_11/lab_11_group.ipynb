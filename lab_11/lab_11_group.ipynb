{
 "cells": [
  {
   "cell_type": "markdown",
   "metadata": {},
   "source": [
    "# Lab 11 - Group - Midterm 2 Review - [5 points]\n",
    "\n"
   ]
  },
  {
   "cell_type": "markdown",
   "metadata": {},
   "source": [
    "## <u>Case Study</u>: Inference on a Population Proportion\n",
    "\n",
    "Suppose that a Calculus student is curious about the proportion of former Calculus students that got A's in the class that they are currently enrolled in (taught by Dr. Difficult). This class has had thousands of students enrolled in the past. The student collects a random sample of 60 former students who have taken the class and asks them if they got an A in the class (or not). 40% of the students in the sample got an A.\n",
    "\n",
    "This student also knows that the proportion of all students who took another Calculus class (taught by Dr. Eezee) and got an A was 0.80. The student would like to determine if there is evidence to suggest that the proportion of students who have taken Dr. Difficult's class that get A's is *different* than the the proportion of students who have taken Dr. Eezee's class that get A's.\n",
    "\n",
    "So we will be testing the following hypotheses below.\n",
    "\n",
    "$H_0: p=0.8$\n",
    "\n",
    "$H_A: p\\neq 0.8$,\n",
    "\n",
    "where $p=$ the proportion of all student's who have taken Dr. Difficult's class that got A's."
   ]
  },
  {
   "cell_type": "code",
   "execution_count": 1,
   "metadata": {},
   "outputs": [],
   "source": [
    "import pandas as pd\n",
    "import seaborn as sns\n",
    "import statsmodels.formula.api as smf\n",
    "import numpy as np\n"
   ]
  },
  {
   "cell_type": "markdown",
   "metadata": {},
   "source": [
    "### Test Statistic\n",
    "\n",
    "First, we calculate the test statistic for this hypothesis test."
   ]
  },
  {
   "cell_type": "code",
   "execution_count": 11,
   "metadata": {},
   "outputs": [
    {
     "data": {
      "text/plain": [
       "7.745966692414835"
      ]
     },
     "execution_count": 11,
     "metadata": {},
     "output_type": "execute_result"
    }
   ],
   "source": [
    "point_estimate = 0.4\n",
    "n = 60\n",
    "null_value = 0.8\n",
    "std_error = np.sqrt(null_value*(1-null_value)/n)\n",
    "\n",
    "test_stat = (null_value - point_estimate)/std_error\n",
    "test_stat"
   ]
  },
  {
   "cell_type": "markdown",
   "metadata": {},
   "source": [
    "### p-value \n",
    "\n",
    "Then, we calculate the p-value for this hypothesis test."
   ]
  },
  {
   "cell_type": "code",
   "execution_count": 9,
   "metadata": {},
   "outputs": [
    {
     "data": {
      "text/plain": [
       "9.485737571073745e-15"
      ]
     },
     "execution_count": 9,
     "metadata": {},
     "output_type": "execute_result"
    }
   ],
   "source": [
    "from scipy.stats import norm\n",
    "pvalue = 2*(norm.cdf(0.4, loc=null_value, scale = std_error))\n",
    "pvalue"
   ]
  },
  {
   "cell_type": "markdown",
   "metadata": {},
   "source": [
    "###  Fill in the Blank Section [0.25 points for each number or letter blank]\n",
    "\n",
    "Write your answers below to the corresponding numbered (or lettered) blanks in the attached pdf in this folder."
   ]
  },
  {
   "cell_type": "markdown",
   "metadata": {},
   "source": [
    "#### Numbers\n",
    "1. sample proportions\n",
    "2. with\n",
    "3. sample proportion\n",
    "4. 0.8\n",
    "5. 0.05\n",
    "6. Central Limit\n",
    "7. approximately normal\n",
    "8. the evidence that we actually observed\n",
    "9. the null hypothesis is true\n",
    "10. the proportion of former students of Dr. Difficult's Calculus class who got A's is equal to 0.8.\n",
    "11. sample mean = 0.8\n",
    "12. normal\n",
    "13. 0.8\n",
    "14. 0.1\n",
    "15. 2.11\n",
    "16. is\n",
    "17. doesn't\n",
    "\n",
    "\n",
    "#### Conditions\n",
    "a. the sample is random\n",
    "\n",
    "b.  n < 10% of the population size\n",
    "\n",
    "c. (xp) >= 10 AND (1-p) >= 10"
   ]
  },
  {
   "cell_type": "code",
   "execution_count": 12,
   "metadata": {},
   "outputs": [
    {
     "data": {
      "text/plain": [
       "2.1081851067789197"
      ]
     },
     "execution_count": 12,
     "metadata": {},
     "output_type": "execute_result"
    }
   ],
   "source": [
    "z_score = (0.8 - 0.4) / (0.4 / np.sqrt(40) + (0.8 / np.sqrt(40)))\n",
    "z_score"
   ]
  },
  {
   "cell_type": "code",
   "execution_count": null,
   "metadata": {},
   "outputs": [],
   "source": []
  }
 ],
 "metadata": {
  "interpreter": {
   "hash": "7812ea015bdcee6f23a998adcdd2ef97c151c0c241b7b7070987d9313e41299d"
  },
  "kernelspec": {
   "display_name": "Python 3.9.6 64-bit",
   "name": "python3"
  },
  "language_info": {
   "codemirror_mode": {
    "name": "ipython",
    "version": 3
   },
   "file_extension": ".py",
   "mimetype": "text/x-python",
   "name": "python",
   "nbconvert_exporter": "python",
   "pygments_lexer": "ipython3",
   "version": "3.9.6"
  }
 },
 "nbformat": 4,
 "nbformat_minor": 4
}
