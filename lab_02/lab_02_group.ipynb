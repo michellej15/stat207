{
 "cells": [
  {
   "cell_type": "markdown",
   "metadata": {},
   "source": [
    "# STAT 207 Lab Assignment 2 - Group Part - [5 total points]\n",
    "\n",
    "## Steam Game Play Comparision"
   ]
  },
  {
   "cell_type": "markdown",
   "metadata": {},
   "source": [
    "Due: Tuesday, September 7, 11:59pm CST\n",
    "\n",
    "<hr>\n"
   ]
  },
  {
   "cell_type": "markdown",
   "metadata": {},
   "source": [
    "## <u>Case Study</u>: Steam Game Play Comparison\n",
    "Steam is the world's most popular PC Gaming hub. With a massive collection that includes everything from AAA blockbusters to small indie titles, great discovery tools can be super valuable for Steam. What can we learn about Steam gaming behavior?\n",
    "\n",
    "The dataset we will be analyzing is comprised of a random sample of 500 steam users and their game play and purchase behaviors. It has the following columns:\n",
    "* user_id\n",
    "* game_name,\n",
    "* activity:\n",
    "    - purchase: indicating that the user has *purchased* the corresponding game\n",
    "    - play: indicating that the user has *played* the corresponding game (for at least some amount of time.) \n",
    "* hours_played_if_play:\n",
    "    - if the row corresponds to a 'play' activity, this number represents the number of hours the user has played the game\n",
    "    - if the row corresponds to a 'purchase' activity, this number is always a 1 (and means nothing... it's a placeholder).\n",
    "\n",
    "<hr>"
   ]
  },
  {
   "cell_type": "markdown",
   "metadata": {},
   "source": [
    "### <u>Research Question</u> [4.75 pt]\n",
    "\n",
    "Select two games of your choosing in this dataset. \n",
    "\n",
    "1. Plot two histograms, one for the number of hours played for each of these two games.\n",
    "2. Describe and compare the shapes of these histograms.\n",
    "3. Calculate and compare the measures of center for the number of hours played for each of these two games. Explain why you chose these particular measures of center to use.\n",
    "4. Calculate and compare the measures of spread for the number of hours played for each of these two games. Explain why you chose these particular measures of spread to use.\n",
    "\n",
    "\n",
    "**<u>Note</u>: You will have to clean the dataframe just you like did in individual part of the assignment. #1-#5 in the individual assignment can be useful in completing this group assignment.**"
   ]
  },
  {
   "cell_type": "markdown",
   "metadata": {},
   "source": [
    "### Imports"
   ]
  },
  {
   "cell_type": "code",
   "execution_count": 1,
   "metadata": {},
   "outputs": [],
   "source": [
    "import pandas as pd\n",
    "import matplotlib.pyplot as plt\n",
    "import seaborn as sns           \n",
    "sns.set()   "
   ]
  },
  {
   "cell_type": "code",
   "execution_count": 2,
   "metadata": {},
   "outputs": [
    {
     "data": {
      "text/html": [
       "<div>\n",
       "<style scoped>\n",
       "    .dataframe tbody tr th:only-of-type {\n",
       "        vertical-align: middle;\n",
       "    }\n",
       "\n",
       "    .dataframe tbody tr th {\n",
       "        vertical-align: top;\n",
       "    }\n",
       "\n",
       "    .dataframe thead th {\n",
       "        text-align: right;\n",
       "    }\n",
       "</style>\n",
       "<table border=\"1\" class=\"dataframe\">\n",
       "  <thead>\n",
       "    <tr style=\"text-align: right;\">\n",
       "      <th></th>\n",
       "      <th>user_id</th>\n",
       "      <th>game_name</th>\n",
       "      <th>activity</th>\n",
       "      <th>hours_played_if_play</th>\n",
       "    </tr>\n",
       "  </thead>\n",
       "  <tbody>\n",
       "    <tr>\n",
       "      <th>0</th>\n",
       "      <td>308653033</td>\n",
       "      <td>Unturned</td>\n",
       "      <td>purchase</td>\n",
       "      <td>1</td>\n",
       "    </tr>\n",
       "    <tr>\n",
       "      <th>1</th>\n",
       "      <td>308653033</td>\n",
       "      <td>Unturned</td>\n",
       "      <td>play</td>\n",
       "      <td>0.6</td>\n",
       "    </tr>\n",
       "    <tr>\n",
       "      <th>2</th>\n",
       "      <td>308653033</td>\n",
       "      <td>theHunter</td>\n",
       "      <td>purchase</td>\n",
       "      <td>1</td>\n",
       "    </tr>\n",
       "    <tr>\n",
       "      <th>3</th>\n",
       "      <td>144004384</td>\n",
       "      <td>Dota 2</td>\n",
       "      <td>purchase</td>\n",
       "      <td>1</td>\n",
       "    </tr>\n",
       "    <tr>\n",
       "      <th>4</th>\n",
       "      <td>144004384</td>\n",
       "      <td>Dota 2</td>\n",
       "      <td>play</td>\n",
       "      <td>22</td>\n",
       "    </tr>\n",
       "    <tr>\n",
       "      <th>...</th>\n",
       "      <td>...</td>\n",
       "      <td>...</td>\n",
       "      <td>...</td>\n",
       "      <td>...</td>\n",
       "    </tr>\n",
       "    <tr>\n",
       "      <th>7801</th>\n",
       "      <td>99096740</td>\n",
       "      <td>SimCity 4 Deluxe</td>\n",
       "      <td>play</td>\n",
       "      <td>0.2</td>\n",
       "    </tr>\n",
       "    <tr>\n",
       "      <th>7802</th>\n",
       "      <td>99096740</td>\n",
       "      <td>BioShock Infinite Burial at Sea - Episode 2</td>\n",
       "      <td>purchase</td>\n",
       "      <td>1</td>\n",
       "    </tr>\n",
       "    <tr>\n",
       "      <th>7803</th>\n",
       "      <td>99096740</td>\n",
       "      <td>The Elder Scrolls V Skyrim - Dawnguard</td>\n",
       "      <td>purchase</td>\n",
       "      <td>1</td>\n",
       "    </tr>\n",
       "    <tr>\n",
       "      <th>7804</th>\n",
       "      <td>99096740</td>\n",
       "      <td>The Elder Scrolls V Skyrim - Dragonborn</td>\n",
       "      <td>purchase</td>\n",
       "      <td>1</td>\n",
       "    </tr>\n",
       "    <tr>\n",
       "      <th>7805</th>\n",
       "      <td>99096740</td>\n",
       "      <td>The Elder Scrolls V Skyrim - Hearthfire</td>\n",
       "      <td>purchase</td>\n",
       "      <td>1</td>\n",
       "    </tr>\n",
       "  </tbody>\n",
       "</table>\n",
       "<p>7806 rows × 4 columns</p>\n",
       "</div>"
      ],
      "text/plain": [
       "        user_id                                    game_name  activity  \\\n",
       "0     308653033                                     Unturned  purchase   \n",
       "1     308653033                                     Unturned      play   \n",
       "2     308653033                                    theHunter  purchase   \n",
       "3     144004384                                       Dota 2  purchase   \n",
       "4     144004384                                       Dota 2      play   \n",
       "...         ...                                          ...       ...   \n",
       "7801   99096740                             SimCity 4 Deluxe      play   \n",
       "7802   99096740  BioShock Infinite Burial at Sea - Episode 2  purchase   \n",
       "7803   99096740       The Elder Scrolls V Skyrim - Dawnguard  purchase   \n",
       "7804   99096740      The Elder Scrolls V Skyrim - Dragonborn  purchase   \n",
       "7805   99096740      The Elder Scrolls V Skyrim - Hearthfire  purchase   \n",
       "\n",
       "     hours_played_if_play  \n",
       "0                       1  \n",
       "1                     0.6  \n",
       "2                       1  \n",
       "3                       1  \n",
       "4                      22  \n",
       "...                   ...  \n",
       "7801                  0.2  \n",
       "7802                    1  \n",
       "7803                    1  \n",
       "7804                    1  \n",
       "7805                    1  \n",
       "\n",
       "[7806 rows x 4 columns]"
      ]
     },
     "execution_count": 2,
     "metadata": {},
     "output_type": "execute_result"
    }
   ],
   "source": [
    "df = pd.read_csv(\"steam_sample.csv\")\n",
    "df"
   ]
  },
  {
   "cell_type": "code",
   "execution_count": 17,
   "metadata": {},
   "outputs": [
    {
     "data": {
      "text/html": [
       "<div>\n",
       "<style scoped>\n",
       "    .dataframe tbody tr th:only-of-type {\n",
       "        vertical-align: middle;\n",
       "    }\n",
       "\n",
       "    .dataframe tbody tr th {\n",
       "        vertical-align: top;\n",
       "    }\n",
       "\n",
       "    .dataframe thead th {\n",
       "        text-align: right;\n",
       "    }\n",
       "</style>\n",
       "<table border=\"1\" class=\"dataframe\">\n",
       "  <thead>\n",
       "    <tr style=\"text-align: right;\">\n",
       "      <th></th>\n",
       "      <th>user_id</th>\n",
       "      <th>game_name</th>\n",
       "      <th>activity</th>\n",
       "      <th>hours_played_if_play</th>\n",
       "    </tr>\n",
       "  </thead>\n",
       "  <tbody>\n",
       "    <tr>\n",
       "      <th>1</th>\n",
       "      <td>308653033</td>\n",
       "      <td>Unturned</td>\n",
       "      <td>play</td>\n",
       "      <td>0.6</td>\n",
       "    </tr>\n",
       "    <tr>\n",
       "      <th>4</th>\n",
       "      <td>144004384</td>\n",
       "      <td>Dota 2</td>\n",
       "      <td>play</td>\n",
       "      <td>22.0</td>\n",
       "    </tr>\n",
       "    <tr>\n",
       "      <th>6</th>\n",
       "      <td>54103616</td>\n",
       "      <td>Counter-Strike Global Offensive</td>\n",
       "      <td>play</td>\n",
       "      <td>1028.0</td>\n",
       "    </tr>\n",
       "    <tr>\n",
       "      <th>8</th>\n",
       "      <td>54103616</td>\n",
       "      <td>Counter-Strike</td>\n",
       "      <td>play</td>\n",
       "      <td>1008.0</td>\n",
       "    </tr>\n",
       "    <tr>\n",
       "      <th>10</th>\n",
       "      <td>54103616</td>\n",
       "      <td>Left 4 Dead</td>\n",
       "      <td>play</td>\n",
       "      <td>148.0</td>\n",
       "    </tr>\n",
       "  </tbody>\n",
       "</table>\n",
       "</div>"
      ],
      "text/plain": [
       "      user_id                        game_name activity  hours_played_if_play\n",
       "1   308653033                         Unturned     play                   0.6\n",
       "4   144004384                           Dota 2     play                  22.0\n",
       "6    54103616  Counter-Strike Global Offensive     play                1028.0\n",
       "8    54103616                   Counter-Strike     play                1008.0\n",
       "10   54103616                      Left 4 Dead     play                 148.0"
      ]
     },
     "execution_count": 17,
     "metadata": {},
     "output_type": "execute_result"
    }
   ],
   "source": [
    "play_game = df[df['activity'] == 'play']\n",
    "play_game.head()"
   ]
  },
  {
   "cell_type": "code",
   "execution_count": 4,
   "metadata": {},
   "outputs": [
    {
     "data": {
      "text/plain": [
       "user_id                 0\n",
       "game_name               0\n",
       "activity                0\n",
       "hours_played_if_play    0\n",
       "dtype: int64"
      ]
     },
     "execution_count": 4,
     "metadata": {},
     "output_type": "execute_result"
    }
   ],
   "source": [
    "df.isna().sum()"
   ]
  },
  {
   "cell_type": "code",
   "execution_count": 5,
   "metadata": {},
   "outputs": [
    {
     "data": {
      "text/plain": [
       "user_id                  int64\n",
       "game_name               object\n",
       "activity                object\n",
       "hours_played_if_play    object\n",
       "dtype: object"
      ]
     },
     "execution_count": 5,
     "metadata": {},
     "output_type": "execute_result"
    }
   ],
   "source": [
    "df.dtypes"
   ]
  },
  {
   "cell_type": "code",
   "execution_count": 6,
   "metadata": {},
   "outputs": [
    {
     "data": {
      "text/plain": [
       "array(['1', '0.6', '22', '1028', '1008', '148', '108', '72', '36', '35',\n",
       "       '32', '21', '16', '15.8', '8.6', '7.8', '7.3', '3.1', '1.9', '1.7',\n",
       "       '1.1', '0.4', '153', '63', '26', '1.4', '639', '479', '70', '65',\n",
       "       '33', '30', '19.8', '16.2', '11.3', '4.2', '3.9', '2.3', '0.8',\n",
       "       '0.7', '0.5', '0.3', '396', '227', '13.4', '12.6', '11.2', '10.1',\n",
       "       '2.4', '210', '1.2', '0.2', '13.2', '48', '110', '0.1', '67',\n",
       "       '429', '5.5', '61', '1.6', '18.3', '9.9', '4.7', '1714', '441',\n",
       "       '197', '147', '117', '86', '73', '49', '46', '31', '24', '20',\n",
       "       '19.7', '18.2', '14.2', '11.6', '9.8', '9.7', '8.4', '6.5', '4.8',\n",
       "       '4.1', '3.7', '2.9', '2.7', '2.1', '222', 'unknown', '14.9',\n",
       "       '14.1', '83', '11.1', '3.2', '6.9', '395', '251', '9.3', '7.4',\n",
       "       '54', '34', '1.8', '99', '98', '96', '29', '27', '23', '19.1',\n",
       "       '18.7', '17.5', '17', '16.6', '14.7', '13.3', '10.7', '10.2', '10',\n",
       "       '9.6', '9.5', '8', '7.9', '7.6', '7', '6.6', '6', '5.8', '5.6',\n",
       "       '5.3', '4.4', '4.3', '3.3', '3', '2.6', '2.5', '0.9', '6.2',\n",
       "       '18.9', '2.8', '4814', '4', '494', '1.3', '184', '13.8', '11.4',\n",
       "       '8.9', '6.7', '496', '1086', '525', '370', '270', '151', '85',\n",
       "       '66', '56', '15.3', '15.1', '11.5', '7.2', '3.8', '19.6', '2',\n",
       "       '274', '7.1', '4.9', '4.6', '3.6', '12.1', '103', '13.1', '60',\n",
       "       '3309', '524', '431', '428', '262', '250', '180', '154', '137',\n",
       "       '106', '100', '80', '68', '62', '50', '47', '44', '38', '37',\n",
       "       '13.5', '12', '11.9', '11', '9', '8.2', '8.1', '7.5', '6.8', '5.1',\n",
       "       '5', '2.2', '1.5', '57', '964', '41', '12.5', '10.4', '361', '88',\n",
       "       '82', '17.6', '17.1', '16.3', '15.2', '14.6', '11.7', '8.8', '8.3',\n",
       "       '5.9', '717', '303', '13.9', '10.6', '2179', '526', '28', '14.5',\n",
       "       '12.4', '149', '10.8', '15', '19.9', '113', '76', '646', '25',\n",
       "       '14', '546', '11.8', '381', '16.1', '215', '81', '19.5', '248',\n",
       "       '59', '42', '13.7', '3626', '997', '665', '622', '522', '344',\n",
       "       '224', '213', '208', '186', '95', '79', '78', '40', '18.1', '18',\n",
       "       '17.8', '17.4', '15.9', '15.5', '14.8', '12.3', '3.5', '3.4',\n",
       "       '116', '6.1', '393', '332', '238', '307', '157', '550', '52',\n",
       "       '9.2', '1343', '13.6', '8.5', '15.7', '202', '530', '43', '6.3',\n",
       "       '518', '232', '175', '58', '90', '15.4', '14.4', '193', '173',\n",
       "       '12.2', '1339', '190', '121', '7.7', '4.5', '249', '77', '399',\n",
       "       '278', '91', '6.4', '162', '89', '17.2', '9.1', '652', '517',\n",
       "       '125', '105', '75', '55', '17.9', '10.9', '8.7', '10.3', '5.7',\n",
       "       '5.4', '10.5', '118', '9.4', '284', '71', '19.3', '209', '5.2',\n",
       "       '1605', '1540', '710', '617', '312', '644', '189', '191', '176',\n",
       "       '136', '115', '39', '19', '69', '1912', '777', '686', '15.6',\n",
       "       '18.4', '539', '1760', '165', '17.3', '112', '386', '720', '466',\n",
       "       '124', '109', '87', '14.3', '676', '449', '236', '119', '53', '45',\n",
       "       '3178', '1302', '795', '174', '123', '104', '101', '64', '51',\n",
       "       '16.9', '16.8', '16.5', '1030', '145', '214', '11754', '144',\n",
       "       '579', '263', '241', '160', '141', '120', '92', '13', '289',\n",
       "       '1337', '17.7', '2258', '217', '135', '389', '228', '187', '111',\n",
       "       '357', '923', '172', '1369', '1049', '488', '130', '126', '93',\n",
       "       '18.8', '1064', '18.5', '12.9', '458', '418', '194', '272', '16.4',\n",
       "       '419', '107', '290', '1499', '891', '693', '302', '273', '264',\n",
       "       '158', '133', '1301', '485', '1754', '231', '12.8', '132', '733',\n",
       "       '230', '127', '627', '994', '387', '487', '528', '138', '809',\n",
       "       '511', '2055', '402', '451', '170', '527', '206', '164', '207',\n",
       "       '196', '143', '1295', '520', '364', '1704'], dtype=object)"
      ]
     },
     "execution_count": 6,
     "metadata": {},
     "output_type": "execute_result"
    }
   ],
   "source": [
    "df['hours_played_if_play'].unique()"
   ]
  },
  {
   "cell_type": "code",
   "execution_count": 15,
   "metadata": {},
   "outputs": [
    {
     "data": {
      "text/html": [
       "<div>\n",
       "<style scoped>\n",
       "    .dataframe tbody tr th:only-of-type {\n",
       "        vertical-align: middle;\n",
       "    }\n",
       "\n",
       "    .dataframe tbody tr th {\n",
       "        vertical-align: top;\n",
       "    }\n",
       "\n",
       "    .dataframe thead th {\n",
       "        text-align: right;\n",
       "    }\n",
       "</style>\n",
       "<table border=\"1\" class=\"dataframe\">\n",
       "  <thead>\n",
       "    <tr style=\"text-align: right;\">\n",
       "      <th></th>\n",
       "      <th>user_id</th>\n",
       "      <th>game_name</th>\n",
       "      <th>activity</th>\n",
       "      <th>hours_played_if_play</th>\n",
       "    </tr>\n",
       "  </thead>\n",
       "  <tbody>\n",
       "    <tr>\n",
       "      <th>0</th>\n",
       "      <td>308653033</td>\n",
       "      <td>Unturned</td>\n",
       "      <td>purchase</td>\n",
       "      <td>1.0</td>\n",
       "    </tr>\n",
       "    <tr>\n",
       "      <th>1</th>\n",
       "      <td>308653033</td>\n",
       "      <td>Unturned</td>\n",
       "      <td>play</td>\n",
       "      <td>0.6</td>\n",
       "    </tr>\n",
       "    <tr>\n",
       "      <th>2</th>\n",
       "      <td>308653033</td>\n",
       "      <td>theHunter</td>\n",
       "      <td>purchase</td>\n",
       "      <td>1.0</td>\n",
       "    </tr>\n",
       "    <tr>\n",
       "      <th>3</th>\n",
       "      <td>144004384</td>\n",
       "      <td>Dota 2</td>\n",
       "      <td>purchase</td>\n",
       "      <td>1.0</td>\n",
       "    </tr>\n",
       "    <tr>\n",
       "      <th>4</th>\n",
       "      <td>144004384</td>\n",
       "      <td>Dota 2</td>\n",
       "      <td>play</td>\n",
       "      <td>22.0</td>\n",
       "    </tr>\n",
       "  </tbody>\n",
       "</table>\n",
       "</div>"
      ],
      "text/plain": [
       "     user_id  game_name  activity  hours_played_if_play\n",
       "0  308653033   Unturned  purchase                   1.0\n",
       "1  308653033   Unturned      play                   0.6\n",
       "2  308653033  theHunter  purchase                   1.0\n",
       "3  144004384     Dota 2  purchase                   1.0\n",
       "4  144004384     Dota 2      play                  22.0"
      ]
     },
     "execution_count": 15,
     "metadata": {},
     "output_type": "execute_result"
    }
   ],
   "source": [
    "missing_values = ['unknown']\n",
    "df = pd.read_csv('steam_sample.csv', na_values = missing_values)\n",
    "df.head()"
   ]
  },
  {
   "cell_type": "code",
   "execution_count": 8,
   "metadata": {},
   "outputs": [
    {
     "data": {
      "text/plain": [
       "array([1.0000e+00, 6.0000e-01, 2.2000e+01, 1.0280e+03, 1.0080e+03,\n",
       "       1.4800e+02, 1.0800e+02, 7.2000e+01, 3.6000e+01, 3.5000e+01,\n",
       "       3.2000e+01, 2.1000e+01, 1.6000e+01, 1.5800e+01, 8.6000e+00,\n",
       "       7.8000e+00, 7.3000e+00, 3.1000e+00, 1.9000e+00, 1.7000e+00,\n",
       "       1.1000e+00, 4.0000e-01, 1.5300e+02, 6.3000e+01, 2.6000e+01,\n",
       "       1.4000e+00, 6.3900e+02, 4.7900e+02, 7.0000e+01, 6.5000e+01,\n",
       "       3.3000e+01, 3.0000e+01, 1.9800e+01, 1.6200e+01, 1.1300e+01,\n",
       "       4.2000e+00, 3.9000e+00, 2.3000e+00, 8.0000e-01, 7.0000e-01,\n",
       "       5.0000e-01, 3.0000e-01, 3.9600e+02, 2.2700e+02, 1.3400e+01,\n",
       "       1.2600e+01, 1.1200e+01, 1.0100e+01, 2.4000e+00, 2.1000e+02,\n",
       "       1.2000e+00, 2.0000e-01, 1.3200e+01, 4.8000e+01, 1.1000e+02,\n",
       "       1.0000e-01, 6.7000e+01, 4.2900e+02, 5.5000e+00, 6.1000e+01,\n",
       "       1.6000e+00, 1.8300e+01, 9.9000e+00, 4.7000e+00, 1.7140e+03,\n",
       "       4.4100e+02, 1.9700e+02, 1.4700e+02, 1.1700e+02, 8.6000e+01,\n",
       "       7.3000e+01, 4.9000e+01, 4.6000e+01, 3.1000e+01, 2.4000e+01,\n",
       "       2.0000e+01, 1.9700e+01, 1.8200e+01, 1.4200e+01, 1.1600e+01,\n",
       "       9.8000e+00, 9.7000e+00, 8.4000e+00, 6.5000e+00, 4.8000e+00,\n",
       "       4.1000e+00, 3.7000e+00, 2.9000e+00, 2.7000e+00, 2.1000e+00,\n",
       "       2.2200e+02,        nan, 1.4900e+01, 1.4100e+01, 8.3000e+01,\n",
       "       1.1100e+01, 3.2000e+00, 6.9000e+00, 3.9500e+02, 2.5100e+02,\n",
       "       9.3000e+00, 7.4000e+00, 5.4000e+01, 3.4000e+01, 1.8000e+00,\n",
       "       9.9000e+01, 9.8000e+01, 9.6000e+01, 2.9000e+01, 2.7000e+01,\n",
       "       2.3000e+01, 1.9100e+01, 1.8700e+01, 1.7500e+01, 1.7000e+01,\n",
       "       1.6600e+01, 1.4700e+01, 1.3300e+01, 1.0700e+01, 1.0200e+01,\n",
       "       1.0000e+01, 9.6000e+00, 9.5000e+00, 8.0000e+00, 7.9000e+00,\n",
       "       7.6000e+00, 7.0000e+00, 6.6000e+00, 6.0000e+00, 5.8000e+00,\n",
       "       5.6000e+00, 5.3000e+00, 4.4000e+00, 4.3000e+00, 3.3000e+00,\n",
       "       3.0000e+00, 2.6000e+00, 2.5000e+00, 9.0000e-01, 6.2000e+00,\n",
       "       1.8900e+01, 2.8000e+00, 4.8140e+03, 4.0000e+00, 4.9400e+02,\n",
       "       1.3000e+00, 1.8400e+02, 1.3800e+01, 1.1400e+01, 8.9000e+00,\n",
       "       6.7000e+00, 4.9600e+02, 1.0860e+03, 5.2500e+02, 3.7000e+02,\n",
       "       2.7000e+02, 1.5100e+02, 8.5000e+01, 6.6000e+01, 5.6000e+01,\n",
       "       1.5300e+01, 1.5100e+01, 1.1500e+01, 7.2000e+00, 3.8000e+00,\n",
       "       1.9600e+01, 2.0000e+00, 2.7400e+02, 7.1000e+00, 4.9000e+00,\n",
       "       4.6000e+00, 3.6000e+00, 1.2100e+01, 1.0300e+02, 1.3100e+01,\n",
       "       6.0000e+01, 3.3090e+03, 5.2400e+02, 4.3100e+02, 4.2800e+02,\n",
       "       2.6200e+02, 2.5000e+02, 1.8000e+02, 1.5400e+02, 1.3700e+02,\n",
       "       1.0600e+02, 1.0000e+02, 8.0000e+01, 6.8000e+01, 6.2000e+01,\n",
       "       5.0000e+01, 4.7000e+01, 4.4000e+01, 3.8000e+01, 3.7000e+01,\n",
       "       1.3500e+01, 1.2000e+01, 1.1900e+01, 1.1000e+01, 9.0000e+00,\n",
       "       8.2000e+00, 8.1000e+00, 7.5000e+00, 6.8000e+00, 5.1000e+00,\n",
       "       5.0000e+00, 2.2000e+00, 1.5000e+00, 5.7000e+01, 9.6400e+02,\n",
       "       4.1000e+01, 1.2500e+01, 1.0400e+01, 3.6100e+02, 8.8000e+01,\n",
       "       8.2000e+01, 1.7600e+01, 1.7100e+01, 1.6300e+01, 1.5200e+01,\n",
       "       1.4600e+01, 1.1700e+01, 8.8000e+00, 8.3000e+00, 5.9000e+00,\n",
       "       7.1700e+02, 3.0300e+02, 1.3900e+01, 1.0600e+01, 2.1790e+03,\n",
       "       5.2600e+02, 2.8000e+01, 1.4500e+01, 1.2400e+01, 1.4900e+02,\n",
       "       1.0800e+01, 1.5000e+01, 1.9900e+01, 1.1300e+02, 7.6000e+01,\n",
       "       6.4600e+02, 2.5000e+01, 1.4000e+01, 5.4600e+02, 1.1800e+01,\n",
       "       3.8100e+02, 1.6100e+01, 2.1500e+02, 8.1000e+01, 1.9500e+01,\n",
       "       2.4800e+02, 5.9000e+01, 4.2000e+01, 1.3700e+01, 3.6260e+03,\n",
       "       9.9700e+02, 6.6500e+02, 6.2200e+02, 5.2200e+02, 3.4400e+02,\n",
       "       2.2400e+02, 2.1300e+02, 2.0800e+02, 1.8600e+02, 9.5000e+01,\n",
       "       7.9000e+01, 7.8000e+01, 4.0000e+01, 1.8100e+01, 1.8000e+01,\n",
       "       1.7800e+01, 1.7400e+01, 1.5900e+01, 1.5500e+01, 1.4800e+01,\n",
       "       1.2300e+01, 3.5000e+00, 3.4000e+00, 1.1600e+02, 6.1000e+00,\n",
       "       3.9300e+02, 3.3200e+02, 2.3800e+02, 3.0700e+02, 1.5700e+02,\n",
       "       5.5000e+02, 5.2000e+01, 9.2000e+00, 1.3430e+03, 1.3600e+01,\n",
       "       8.5000e+00, 1.5700e+01, 2.0200e+02, 5.3000e+02, 4.3000e+01,\n",
       "       6.3000e+00, 5.1800e+02, 2.3200e+02, 1.7500e+02, 5.8000e+01,\n",
       "       9.0000e+01, 1.5400e+01, 1.4400e+01, 1.9300e+02, 1.7300e+02,\n",
       "       1.2200e+01, 1.3390e+03, 1.9000e+02, 1.2100e+02, 7.7000e+00,\n",
       "       4.5000e+00, 2.4900e+02, 7.7000e+01, 3.9900e+02, 2.7800e+02,\n",
       "       9.1000e+01, 6.4000e+00, 1.6200e+02, 8.9000e+01, 1.7200e+01,\n",
       "       9.1000e+00, 6.5200e+02, 5.1700e+02, 1.2500e+02, 1.0500e+02,\n",
       "       7.5000e+01, 5.5000e+01, 1.7900e+01, 1.0900e+01, 8.7000e+00,\n",
       "       1.0300e+01, 5.7000e+00, 5.4000e+00, 1.0500e+01, 1.1800e+02,\n",
       "       9.4000e+00, 2.8400e+02, 7.1000e+01, 1.9300e+01, 2.0900e+02,\n",
       "       5.2000e+00, 1.6050e+03, 1.5400e+03, 7.1000e+02, 6.1700e+02,\n",
       "       3.1200e+02, 6.4400e+02, 1.8900e+02, 1.9100e+02, 1.7600e+02,\n",
       "       1.3600e+02, 1.1500e+02, 3.9000e+01, 1.9000e+01, 6.9000e+01,\n",
       "       1.9120e+03, 7.7700e+02, 6.8600e+02, 1.5600e+01, 1.8400e+01,\n",
       "       5.3900e+02, 1.7600e+03, 1.6500e+02, 1.7300e+01, 1.1200e+02,\n",
       "       3.8600e+02, 7.2000e+02, 4.6600e+02, 1.2400e+02, 1.0900e+02,\n",
       "       8.7000e+01, 1.4300e+01, 6.7600e+02, 4.4900e+02, 2.3600e+02,\n",
       "       1.1900e+02, 5.3000e+01, 4.5000e+01, 3.1780e+03, 1.3020e+03,\n",
       "       7.9500e+02, 1.7400e+02, 1.2300e+02, 1.0400e+02, 1.0100e+02,\n",
       "       6.4000e+01, 5.1000e+01, 1.6900e+01, 1.6800e+01, 1.6500e+01,\n",
       "       1.0300e+03, 1.4500e+02, 2.1400e+02, 1.1754e+04, 1.4400e+02,\n",
       "       5.7900e+02, 2.6300e+02, 2.4100e+02, 1.6000e+02, 1.4100e+02,\n",
       "       1.2000e+02, 9.2000e+01, 1.3000e+01, 2.8900e+02, 1.3370e+03,\n",
       "       1.7700e+01, 2.2580e+03, 2.1700e+02, 1.3500e+02, 3.8900e+02,\n",
       "       2.2800e+02, 1.8700e+02, 1.1100e+02, 3.5700e+02, 9.2300e+02,\n",
       "       1.7200e+02, 1.3690e+03, 1.0490e+03, 4.8800e+02, 1.3000e+02,\n",
       "       1.2600e+02, 9.3000e+01, 1.8800e+01, 1.0640e+03, 1.8500e+01,\n",
       "       1.2900e+01, 4.5800e+02, 4.1800e+02, 1.9400e+02, 2.7200e+02,\n",
       "       1.6400e+01, 4.1900e+02, 1.0700e+02, 2.9000e+02, 1.4990e+03,\n",
       "       8.9100e+02, 6.9300e+02, 3.0200e+02, 2.7300e+02, 2.6400e+02,\n",
       "       1.5800e+02, 1.3300e+02, 1.3010e+03, 4.8500e+02, 1.7540e+03,\n",
       "       2.3100e+02, 1.2800e+01, 1.3200e+02, 7.3300e+02, 2.3000e+02,\n",
       "       1.2700e+02, 6.2700e+02, 9.9400e+02, 3.8700e+02, 4.8700e+02,\n",
       "       5.2800e+02, 1.3800e+02, 8.0900e+02, 5.1100e+02, 2.0550e+03,\n",
       "       4.0200e+02, 4.5100e+02, 1.7000e+02, 5.2700e+02, 2.0600e+02,\n",
       "       1.6400e+02, 2.0700e+02, 1.9600e+02, 1.4300e+02, 1.2950e+03,\n",
       "       5.2000e+02, 3.6400e+02, 1.7040e+03])"
      ]
     },
     "execution_count": 8,
     "metadata": {},
     "output_type": "execute_result"
    }
   ],
   "source": [
    "df['hours_played_if_play'].unique()"
   ]
  },
  {
   "cell_type": "code",
   "execution_count": 18,
   "metadata": {},
   "outputs": [],
   "source": [
    "unturned_game = play_game[play_game['game_name'] == 'Unturned']\n",
    "theHunter_game = play_game[play_game['game_name'] == 'theHunter']"
   ]
  },
  {
   "cell_type": "code",
   "execution_count": 26,
   "metadata": {},
   "outputs": [
    {
     "data": {
      "image/png": "[encoded data removed]",
      "text/plain": [
       "<Figure size 432x288 with 1 Axes>"
      ]
     },
     "metadata": {},
     "output_type": "display_data"
    }
   ],
   "source": [
    "unturned_game['hours_played_if_play'].hist()\n",
    "plt.xlabel('total amount of hours played')\n",
    "plt.ylabel('frequency')\n",
    "plt.show()"
   ]
  },
  {
   "cell_type": "code",
   "execution_count": 27,
   "metadata": {},
   "outputs": [
    {
     "data": {
      "image/png": "[encoded data removed]",
      "text/plain": [
       "<Figure size 432x288 with 1 Axes>"
      ]
     },
     "metadata": {},
     "output_type": "display_data"
    }
   ],
   "source": [
    "theHunter_game['hours_played_if_play'].hist()\n",
    "plt.xlabel('total amount of hours played')\n",
    "plt.ylabel('frequency')\n",
    "plt.show()"
   ]
  },
  {
   "cell_type": "markdown",
   "metadata": {},
   "source": [
    "The first histogram (Unturned game) is right skewed and unimodal. The second histogram (The Hunter game) is right skewed and bimodal."
   ]
  },
  {
   "cell_type": "code",
   "execution_count": 51,
   "metadata": {},
   "outputs": [
    {
     "name": "stdout",
     "output_type": "stream",
     "text": [
      "Median =  4.5\n",
      "Mean =  13.648837209302325\n",
      "Q1 =  1.6500000000000001\n",
      "Q3 =  18.950000000000003\n",
      "Max =  138.0\n",
      "Standard Deviation =  23.08324863755846\n",
      "IQR =  17.300000000000004\n",
      "Range =  137.9\n"
     ]
    }
   ],
   "source": [
    "x = unturned_game['hours_played_if_play']\n",
    "print(\"Median = \", x.median())\n",
    "print(\"Mean = \", x.mean())\n",
    "print(\"Q1 = \", x.quantile(q=0.25))\n",
    "print(\"Q3 = \", x.quantile(q=0.75))\n",
    "print(\"Max = \", x.max())\n",
    "print(\"Standard Deviation = \", x.std())\n",
    "print(\"IQR = \", x.quantile(q=0.75) - x.quantile(q=0.25))\n",
    "print(\"Range = \", x.max() - x.min())"
   ]
  },
  {
   "cell_type": "code",
   "execution_count": 52,
   "metadata": {},
   "outputs": [
    {
     "name": "stdout",
     "output_type": "stream",
     "text": [
      "Median =  0.9\n",
      "Mean =  2.1999999999999997\n",
      "Q1 =  0.7249999999999999\n",
      "Q3 =  1.6\n",
      "Max =  8.6\n",
      "Standard Deviation =  3.1742715699826314\n",
      "IQR =  0.8750000000000002\n",
      "Range =  8.299999999999999\n"
     ]
    }
   ],
   "source": [
    "y = theHunter_game['hours_played_if_play']\n",
    "print(\"Median = \", y.median())\n",
    "print(\"Mean = \", y.mean())\n",
    "print(\"Q1 = \", y.quantile(q=0.25))\n",
    "print(\"Q3 = \", y.quantile(q=0.75))\n",
    "print(\"Max = \", y.max())\n",
    "print(\"Standard Deviation = \", y.std())\n",
    "print(\"IQR = \", y.quantile(q=0.75) - y.quantile(q=0.25))\n",
    "print(\"Range = \", y.max() - y.min())"
   ]
  },
  {
   "cell_type": "markdown",
   "metadata": {},
   "source": [
    "Median is a better choice for a measure of center in both games. For the Unturned game, Q1 is 1.65 and Q3 is 18.95 but the mean is 13.65 and max is 138.0. This means that the max is an outlier and is increasing the value of the mean, so median is a better representation of the center. This is the same for the Hunter game. Q1 is 0.72 and Q3 is 1.6 and the mean is higher than the Q3 value so this is why we chose median for this dataset as well."
   ]
  },
  {
   "cell_type": "markdown",
   "metadata": {},
   "source": [
    "For both games, IQR is better measure of spread because it is not as affected by the signifigant outliers."
   ]
  },
  {
   "cell_type": "markdown",
   "metadata": {},
   "source": [
    "### Contribution Report [0.25 pt]\n",
    "These contribution reports should be included in all group lab assignments. In this contribution report below you should list of the following:\n",
    "1. Names of each team member.\n",
    "2. Contributions of each team member to report.\n",
    "\n",
    "*For example:*\n",
    "\n",
    "*<u>Teammates:</u>*\n",
    "\n",
    "*1. John Smith: did number 1,2 and 3*\n",
    "\n",
    "*2. Jane Doe: did number 4, and 5*"
   ]
  },
  {
   "cell_type": "markdown",
   "metadata": {},
   "source": [
    "1. Michelle Jun\n",
    "2. Khushi Jain\n",
    "3. Riya Shah\n",
    "\n",
    "We worked on all questions together because we were working off one laptop."
   ]
  }
 ],
 "metadata": {
  "kernelspec": {
   "display_name": "Python 3",
   "language": "python",
   "name": "python3"
  },
  "language_info": {
   "codemirror_mode": {
    "name": "ipython",
    "version": 3
   },
   "file_extension": ".py",
   "mimetype": "text/x-python",
   "name": "python",
   "nbconvert_exporter": "python",
   "pygments_lexer": "ipython3",
   "version": "3.7.3"
  }
 },
 "nbformat": 4,
 "nbformat_minor": 2
}
