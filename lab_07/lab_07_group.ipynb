{
 "cells": [
  {
   "cell_type": "markdown",
   "source": [
    "# STAT 207 Lab 7 - Group Part - [5 total points] - Solutions\n",
    "\n",
    "## Inference for Associations"
   ],
   "metadata": {}
  },
  {
   "cell_type": "markdown",
   "source": [
    "Due: Tuesday, October 12, 11:59pm CST\n",
    "\n",
    "## <u>Case Study</u>: Fake and Real Instagram Associations with Other Numerical Variables\n",
    "\n",
    "In this group assignment, we will explore whether a relationship exists between an Instagram account's status (ie. fake vs. real) and some other *numerical variable* that we were given in the **fake_insta.csv** dataset. You can choose which numerical variable you find most interesting. \n",
    "\n",
    "For instance, one research question we could ask is: \"is there an association between the **account status** and the **number of posts that an account makes**?\"\n",
    "\n",
    "We will assume that the data in this csv file contains two random samples of fake and real Instagram accounts drawn from the greater populations of ALL fake Instagram account and ALL real Instagram accounts, respectively. \n",
    "\n",
    "\n",
    "### <u>Research Questions</u>:\n",
    "1. First, we would like to explore the relationship between these two variables *for accounts just in this dataset*.\n",
    "\n",
    "2. Then, we would like to explore the relationship between these two variables *for ALL Fake and Real Instagram accounts*."
   ],
   "metadata": {}
  },
  {
   "cell_type": "code",
   "execution_count": 1,
   "source": [
    "import pandas as pd\n",
    "import seaborn as sns\n",
    "import matplotlib.pyplot as plt\n",
    "import numpy as np"
   ],
   "outputs": [],
   "metadata": {}
  },
  {
   "cell_type": "markdown",
   "source": [
    "### 1. [0.5 pts] Association in the Dataset\n",
    "\n",
    "First, read fake_insta.csv into a dataframe. Then visualize the relationship between the **account_type** variable and the **numerical variable** that you have chosen."
   ],
   "metadata": {}
  },
  {
   "cell_type": "code",
   "execution_count": 3,
   "source": [
    "df = pd.read_csv('fake_insta.csv')\n",
    "df = df[['account_type', 'num_characters_in_bio']]\n",
    "df"
   ],
   "outputs": [
    {
     "output_type": "execute_result",
     "data": {
      "text/html": [
       "<div>\n",
       "<style scoped>\n",
       "    .dataframe tbody tr th:only-of-type {\n",
       "        vertical-align: middle;\n",
       "    }\n",
       "\n",
       "    .dataframe tbody tr th {\n",
       "        vertical-align: top;\n",
       "    }\n",
       "\n",
       "    .dataframe thead th {\n",
       "        text-align: right;\n",
       "    }\n",
       "</style>\n",
       "<table border=\"1\" class=\"dataframe\">\n",
       "  <thead>\n",
       "    <tr style=\"text-align: right;\">\n",
       "      <th></th>\n",
       "      <th>account_type</th>\n",
       "      <th>num_characters_in_bio</th>\n",
       "    </tr>\n",
       "  </thead>\n",
       "  <tbody>\n",
       "    <tr>\n",
       "      <th>0</th>\n",
       "      <td>real</td>\n",
       "      <td>30</td>\n",
       "    </tr>\n",
       "    <tr>\n",
       "      <th>1</th>\n",
       "      <td>real</td>\n",
       "      <td>64</td>\n",
       "    </tr>\n",
       "    <tr>\n",
       "      <th>2</th>\n",
       "      <td>real</td>\n",
       "      <td>82</td>\n",
       "    </tr>\n",
       "    <tr>\n",
       "      <th>3</th>\n",
       "      <td>real</td>\n",
       "      <td>143</td>\n",
       "    </tr>\n",
       "    <tr>\n",
       "      <th>4</th>\n",
       "      <td>real</td>\n",
       "      <td>76</td>\n",
       "    </tr>\n",
       "    <tr>\n",
       "      <th>...</th>\n",
       "      <td>...</td>\n",
       "      <td>...</td>\n",
       "    </tr>\n",
       "    <tr>\n",
       "      <th>115</th>\n",
       "      <td>fake</td>\n",
       "      <td>0</td>\n",
       "    </tr>\n",
       "    <tr>\n",
       "      <th>116</th>\n",
       "      <td>fake</td>\n",
       "      <td>0</td>\n",
       "    </tr>\n",
       "    <tr>\n",
       "      <th>117</th>\n",
       "      <td>fake</td>\n",
       "      <td>0</td>\n",
       "    </tr>\n",
       "    <tr>\n",
       "      <th>118</th>\n",
       "      <td>fake</td>\n",
       "      <td>0</td>\n",
       "    </tr>\n",
       "    <tr>\n",
       "      <th>119</th>\n",
       "      <td>fake</td>\n",
       "      <td>0</td>\n",
       "    </tr>\n",
       "  </tbody>\n",
       "</table>\n",
       "<p>120 rows × 2 columns</p>\n",
       "</div>"
      ],
      "text/plain": [
       "    account_type  num_characters_in_bio\n",
       "0           real                     30\n",
       "1           real                     64\n",
       "2           real                     82\n",
       "3           real                    143\n",
       "4           real                     76\n",
       "..           ...                    ...\n",
       "115         fake                      0\n",
       "116         fake                      0\n",
       "117         fake                      0\n",
       "118         fake                      0\n",
       "119         fake                      0\n",
       "\n",
       "[120 rows x 2 columns]"
      ]
     },
     "metadata": {},
     "execution_count": 3
    }
   ],
   "metadata": {}
  },
  {
   "cell_type": "code",
   "execution_count": 8,
   "source": [
    "df.boxplot(by = 'account_type')\n",
    "plt.show()"
   ],
   "outputs": [
    {
     "output_type": "display_data",
     "data": {
      "image/png": "[encoded data removed]",
      "text/plain": [
       "<Figure size 640x480 with 1 Axes>"
      ]
     },
     "metadata": {}
    }
   ],
   "metadata": {}
  },
  {
   "cell_type": "markdown",
   "source": [
    "### 2. Two Samples\n",
    "\n",
    "\n",
    "#### 2.1. [0.25 pts] Sample Means\n",
    "Now, calculate the sample mean numerical value of the real accounts and the sample mean numerical value of the fake accounts."
   ],
   "metadata": {}
  },
  {
   "cell_type": "code",
   "execution_count": 19,
   "source": [
    "real = df[df['account_type'] == 'real']\n",
    "sample_mean_real = real['num_characters_in_bio'].mean()\n",
    "sample_mean_real"
   ],
   "outputs": [
    {
     "output_type": "execute_result",
     "data": {
      "text/plain": [
       "51.0"
      ]
     },
     "metadata": {},
     "execution_count": 19
    }
   ],
   "metadata": {}
  },
  {
   "cell_type": "code",
   "execution_count": 21,
   "source": [
    "fake = df[df['account_type'] == 'fake']\n",
    "sample_mean_fake = fake['num_characters_in_bio'].mean()\n",
    "sample_mean_fake"
   ],
   "outputs": [
    {
     "output_type": "execute_result",
     "data": {
      "text/plain": [
       "3.4"
      ]
     },
     "metadata": {},
     "execution_count": 21
    }
   ],
   "metadata": {}
  },
  {
   "cell_type": "markdown",
   "source": [
    "#### 2.2.  [0.25 pts] Sample Standard Deviations\n",
    "Then, calculate the sample standard deviation numerical value of the real accounts and the sample standard deviation numerical value of the fake accounts."
   ],
   "metadata": {}
  },
  {
   "cell_type": "code",
   "execution_count": 12,
   "source": [
    "sample_std_real = real['num_characters_in_bio'].std()\n",
    "sample_std_real"
   ],
   "outputs": [
    {
     "output_type": "execute_result",
     "data": {
      "text/plain": [
       "47.310370812758144"
      ]
     },
     "metadata": {},
     "execution_count": 12
    }
   ],
   "metadata": {}
  },
  {
   "cell_type": "code",
   "execution_count": 13,
   "source": [
    "sample_std_fake = fake['num_characters_in_bio'].std()\n",
    "sample_std_fake"
   ],
   "outputs": [
    {
     "output_type": "execute_result",
     "data": {
      "text/plain": [
       "16.36987725537159"
      ]
     },
     "metadata": {},
     "execution_count": 13
    }
   ],
   "metadata": {}
  },
  {
   "cell_type": "markdown",
   "source": [
    "#### 2.3.  [0.25 pts] Sample Distributions\n",
    "\n",
    "Finally, plot a histogram of the numerical values for the real accounts. Then plot a histogram of the numerical values for the fake accounts. Make sure you give an appropriate x-axis label, y-axis label, and title for these two plots."
   ],
   "metadata": {}
  },
  {
   "cell_type": "code",
   "execution_count": 14,
   "source": [
    "real.hist(color = 'orange')\n",
    "plt.title('Number of Characters in Bio for Real Accounts')\n",
    "plt.xlabel('Number of Characters in Bio')\n",
    "plt.show()"
   ],
   "outputs": [
    {
     "output_type": "display_data",
     "data": {
      "image/png": "[encoded data removed]",
      "text/plain": [
       "<Figure size 640x480 with 1 Axes>"
      ]
     },
     "metadata": {}
    }
   ],
   "metadata": {}
  },
  {
   "cell_type": "code",
   "execution_count": 15,
   "source": [
    "fake.hist(color = 'blue')\n",
    "plt.title('Number of Characters in Bio for Fake Accounts')\n",
    "plt.xlabel('Number of Characters in Bio')\n",
    "plt.show()"
   ],
   "outputs": [
    {
     "output_type": "display_data",
     "data": {
      "image/png": "[encoded data removed]",
      "text/plain": [
       "<Figure size 640x480 with 1 Axes>"
      ]
     },
     "metadata": {}
    }
   ],
   "metadata": {}
  },
  {
   "cell_type": "markdown",
   "source": [
    "### 3. Hypothesis Testing\n",
    "\n",
    "Finally, we would like to see if we have enough evidence to suggest that there is an association between the account status (ie. fake vs. real) and this numerical variable you chose *for ALL Instagram accounts*. Or in other words, we would like to test whether there is a difference in the population average value for real accounts and the population average value for fake accounts.\n",
    "\n",
    "*Ex: For instance, I want to know if there is an association between account status and the number of posts an account makes. So I would be interested in testing whether $\\mu_{real}-\\mu_{fake}\\neq 0$, where $\\mu_{real}$ is the average number of posts made by all real Instagram accounts and $\\mu_{fake}$ is the average number of posts made by all fake Instagram accounts.*\n",
    "\n",
    "#### 3.1. [0.5 pt] Hypotheses Set Up\n",
    "\n",
    "\n",
    "First, set up your hypotheses below for this test. You should use the appropriate notation to write these hypotheses. For any population parameter terms that you use, you should define what this parameter refers to. "
   ],
   "metadata": {}
  },
  {
   "cell_type": "markdown",
   "source": [
    "H0: $\\mu_{real}-\\mu_{fake} = 0$, where $\\mu_{real}$ is the average number of characters in the real account bio and $\\mu_{fake}$ is the average number of characters in the fake account bio <br>\n",
    "HA: $\\mu_{real}-\\mu_{fake}\\neq 0$, where $\\mu_{real}$ is the average number of characters in the real account bio and $\\mu_{fake}$ is the average number of characters in the fake account bio "
   ],
   "metadata": {}
  },
  {
   "cell_type": "markdown",
   "source": [
    "#### 3.2. [0.75 pt] Hypothesis Test Conditions\n",
    "\n",
    "Next, check your conditions for conducting this hypothesis test."
   ],
   "metadata": {}
  },
  {
   "cell_type": "markdown",
   "source": [
    "This sample distribution of sample mean differences are approximately normal because the following conditions hold: <br>\n",
    "a) n1 > 30 <br>\n",
    "b) n2 > 30 <br>\n",
    "c) Sample 1 in randomly collected and n1 < 10% of all real instagram accounts <br>\n",
    "d) Sample 2 is randomly collected and n2 < 10% of all fake instagram accounts <br>\n",
    "e) Observations in sample 1 and sample 2 are independent."
   ],
   "metadata": {}
  },
  {
   "cell_type": "code",
   "execution_count": 24,
   "source": [
    "test_stat = (sample_mean_real - sample_mean_fake) / np.sqrt((sample_std_real**2/len(real)) + (sample_std_fake**2/len(fake)))\n",
    "test_stat"
   ],
   "outputs": [
    {
     "output_type": "execute_result",
     "data": {
      "text/plain": [
       "7.36496855438775"
      ]
     },
     "metadata": {},
     "execution_count": 24
    }
   ],
   "metadata": {}
  },
  {
   "cell_type": "code",
   "execution_count": null,
   "source": [],
   "outputs": [],
   "metadata": {}
  },
  {
   "cell_type": "markdown",
   "source": [
    "#### 4.3. [3 pt] p-value\n",
    "\n",
    "Calculate the p-value for this hypothesis test.\n",
    "\n",
    "**Note: you should use the most \"accurate\" way of calculating this p-value using the methods that we have recently discussed in class.**"
   ],
   "metadata": {}
  },
  {
   "cell_type": "code",
   "execution_count": 23,
   "source": [
    "from scipy.stats import t\n",
    "pvalue = 2*(1 - t.cdf(np.abs(test_stat), df = 59))\n",
    "pvalue"
   ],
   "outputs": [
    {
     "output_type": "execute_result",
     "data": {
      "text/plain": [
       "6.514750960917581e-10"
      ]
     },
     "metadata": {},
     "execution_count": 23
    }
   ],
   "metadata": {}
  },
  {
   "cell_type": "code",
   "execution_count": null,
   "source": [],
   "outputs": [],
   "metadata": {}
  },
  {
   "cell_type": "markdown",
   "source": [
    "#### 4.4. [0.5 pt] Conclusion with p-value\n",
    "\n",
    "Finally, make a conclusion about your hypotheses with your p-value and a significance level of $\\alpha = 0.05$."
   ],
   "metadata": {}
  },
  {
   "cell_type": "markdown",
   "source": [
    "Because the p-value is less than 0.05, we reject the null hypothesis. We have sufficient evidence to suggest that the sample mean difference is not equal to 0."
   ],
   "metadata": {}
  },
  {
   "cell_type": "markdown",
   "source": [
    "### <u>Contribution Report</u>:"
   ],
   "metadata": {}
  },
  {
   "cell_type": "markdown",
   "source": [
    "Ethan Wee and Samvit Dedhia"
   ],
   "metadata": {}
  },
  {
   "cell_type": "markdown",
   "source": [],
   "metadata": {}
  }
 ],
 "metadata": {
  "kernelspec": {
   "name": "python3",
   "display_name": "Python 3.9.5 64-bit ('base': conda)"
  },
  "language_info": {
   "codemirror_mode": {
    "name": "ipython",
    "version": 3
   },
   "file_extension": ".py",
   "mimetype": "text/x-python",
   "name": "python",
   "nbconvert_exporter": "python",
   "pygments_lexer": "ipython3",
   "version": "3.9.5"
  },
  "interpreter": {
   "hash": "86be1d109d919cb4e2f99e8877fd344c1e7407b4413caace1b11c178b3f81033"
  }
 },
 "nbformat": 4,
 "nbformat_minor": 2
}