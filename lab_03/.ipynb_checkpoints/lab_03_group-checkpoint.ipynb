{
 "cells": [
  {
   "cell_type": "markdown",
   "metadata": {},
   "source": [
    "# STAT 207 Lab Assignment 3 - Group Part - [5 total points] - Solutions\n",
    "\n",
    "## Team Class-Year Probability"
   ]
  },
  {
   "cell_type": "markdown",
   "metadata": {},
   "source": [
    "Due: Tuesday, September 14, 11:59pm CST\n",
    "\n",
    "<hr>\n"
   ]
  },
  {
   "cell_type": "markdown",
   "metadata": {},
   "source": [
    "## <u>Case Study</u>: Team Class-Year Composition Probability\n",
    "\n",
    "In this group project, we will calculate the probability of randomly selecting a group that has the same class-year composition that the one you're currently working in has.\n",
    "\n",
    "\n",
    "\n",
    "<hr>"
   ]
  },
  {
   "cell_type": "markdown",
   "metadata": {},
   "source": [
    "### Imports"
   ]
  },
  {
   "cell_type": "code",
   "execution_count": 2,
   "metadata": {},
   "outputs": [],
   "source": [
    "import pandas as pd\n",
    "import numpy as np\n",
    "import seaborn as sns\n",
    "import matplotlib.pyplot as plt"
   ]
  },
  {
   "cell_type": "markdown",
   "metadata": {},
   "source": [
    "### Contribution Report [0.25 pt]\n",
    "These contribution reports should be included in all group lab assignments. In this contribution report below you should list of the following:\n",
    "1. Names of each team member.\n",
    "2. Contributions of each team member to report.\n",
    "\n",
    "*For example:*\n",
    "\n",
    "*<u>Teammates:</u>*\n",
    "\n",
    "*1. John Smith: did number 1,2 and 3*\n",
    "\n",
    "*2. Jane Doe: did number 4, and 5*"
   ]
  },
  {
   "cell_type": "markdown",
   "metadata": {},
   "source": [
    "**insert here**\n"
   ]
  },
  {
   "cell_type": "markdown",
   "metadata": {},
   "source": [
    "<hr>"
   ]
  },
  {
   "cell_type": "markdown",
   "metadata": {},
   "source": [
    "## Team Composition [0.25 pt]\n",
    "\n",
    "How many freshmen are on your team?\n",
    "How many sophomores are on your team?\n",
    "How many juniors are on your team?\n",
    "How many seniors are on your team?\n",
    "\n",
    "Modify the LaTeX code block below, inputting the corresponding numbers. LaTeX mathematical expression like the ones you see below can be written in between dollar signs. So make sure your number is in between the two dollar signs.\n",
    "\n"
   ]
  },
  {
   "cell_type": "markdown",
   "metadata": {},
   "source": [
    "$k_{fresh}=$\n",
    "\n",
    "$k_{soph}=$\n",
    "\n",
    "$k_{jun}=$\n",
    "\n",
    "$k_{sen}=$"
   ]
  },
  {
   "cell_type": "markdown",
   "metadata": {},
   "source": [
    "## STAT207 Class Composition\n",
    "\n",
    "This Fall 2021 STAT207 class has 35 students enrolled:\n",
    "* 1 is a freshman\n",
    "* 13 are sophomores\n",
    "* 15 are juniors\n",
    "* 6 are seniors\n",
    "\n",
    "## Team Probability [4.5 pt]\n",
    "\n",
    "Suppose we were to randomly select $k$ students from this class **without replacement**, (where $k$ is the size of the team you are currently working in). The **order** in which we selected the $k$ students in this group **didn't matter**. Nor are there any specific \"patterns\" or \"allocations\" to any particular person in this group.\n",
    "\n",
    "What is the probability that this randomly selected group has the same number of freshmen, sophomores, juniors, and seniors that your current team does?\n",
    "\n",
    "* <u>Hint 1</u>: How many groups of size $k$ could you create from the 35 students in the class?\n",
    "* <u>Hint 2 (if you have a freshmen in your team)</u>: How many groups of size $k_{fresh}$ could you create from the 1 freshman in the class?\n",
    "* <u>Hint 3 (if you have sophomores in your team)</u>: How many groups of size $k_{soph}$ could you create from the 13 sophomores in the class?\n",
    "* <u>Hint 4 (if you have a juniors in your team)</u>: How many groups of size $k_{jun}$ could you create from the 15 juniors in the class?\n",
    "* <u>Hint 5 (if you have a seniors in your team)</u>: How many groups of size $k_{sen}$ could you create from the 6 seniors in the class?\n",
    "\n",
    "**<u>Note</u>: If you missed your lab section and thus are doing this group lab by yourself, then you can assume that you had 2 sophomores and 1 Junior in your team of size 3.**\n",
    "\n",
    "**Show your work for full credit!**"
   ]
  },
  {
   "cell_type": "code",
   "execution_count": null,
   "metadata": {},
   "outputs": [],
   "source": []
  },
  {
   "cell_type": "code",
   "execution_count": null,
   "metadata": {},
   "outputs": [],
   "source": []
  },
  {
   "cell_type": "code",
   "execution_count": null,
   "metadata": {},
   "outputs": [],
   "source": []
  },
  {
   "cell_type": "code",
   "execution_count": null,
   "metadata": {},
   "outputs": [],
   "source": []
  },
  {
   "cell_type": "code",
   "execution_count": null,
   "metadata": {},
   "outputs": [],
   "source": []
  },
  {
   "cell_type": "code",
   "execution_count": null,
   "metadata": {},
   "outputs": [],
   "source": []
  },
  {
   "cell_type": "code",
   "execution_count": null,
   "metadata": {},
   "outputs": [],
   "source": []
  },
  {
   "cell_type": "code",
   "execution_count": null,
   "metadata": {},
   "outputs": [],
   "source": []
  },
  {
   "cell_type": "code",
   "execution_count": null,
   "metadata": {},
   "outputs": [],
   "source": []
  },
  {
   "cell_type": "code",
   "execution_count": null,
   "metadata": {},
   "outputs": [],
   "source": []
  },
  {
   "cell_type": "code",
   "execution_count": null,
   "metadata": {},
   "outputs": [],
   "source": []
  },
  {
   "cell_type": "code",
   "execution_count": null,
   "metadata": {},
   "outputs": [],
   "source": []
  },
  {
   "cell_type": "code",
   "execution_count": null,
   "metadata": {},
   "outputs": [],
   "source": []
  },
  {
   "cell_type": "code",
   "execution_count": null,
   "metadata": {},
   "outputs": [],
   "source": []
  },
  {
   "cell_type": "code",
   "execution_count": null,
   "metadata": {},
   "outputs": [],
   "source": []
  },
  {
   "cell_type": "code",
   "execution_count": null,
   "metadata": {},
   "outputs": [],
   "source": []
  },
  {
   "cell_type": "code",
   "execution_count": null,
   "metadata": {},
   "outputs": [],
   "source": []
  },
  {
   "cell_type": "code",
   "execution_count": null,
   "metadata": {},
   "outputs": [],
   "source": []
  },
  {
   "cell_type": "code",
   "execution_count": null,
   "metadata": {},
   "outputs": [],
   "source": []
  }
 ],
 "metadata": {
  "kernelspec": {
   "display_name": "Python 3",
   "language": "python",
   "name": "python3"
  },
  "language_info": {
   "codemirror_mode": {
    "name": "ipython",
    "version": 3
   },
   "file_extension": ".py",
   "mimetype": "text/x-python",
   "name": "python",
   "nbconvert_exporter": "python",
   "pygments_lexer": "ipython3",
   "version": "3.7.3"
  }
 },
 "nbformat": 4,
 "nbformat_minor": 2
}
