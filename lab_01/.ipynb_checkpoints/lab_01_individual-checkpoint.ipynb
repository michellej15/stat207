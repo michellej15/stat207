{
 "cells": [
  {
   "cell_type": "markdown",
   "metadata": {},
   "source": [
    "# STAT 207 Lab Assignment 1 - Individual Part - [25 total points]\n",
    "\n",
    "## Python with Jupyter Notebooks "
   ]
  },
  {
   "cell_type": "markdown",
   "metadata": {},
   "source": [
    "Due: Tuesday, August 31, 11:59pm CST\n",
    "\n",
    "<hr>\n"
   ]
  },
  {
   "cell_type": "markdown",
   "metadata": {},
   "source": [
    "## <u>Purpose</u>:\n",
    "The purpose of this individual lab assignment is to verify that you have successfully installed and set up all of the necessary data science applications that we will be using in this class. \n",
    "\n",
    "We will also practice some basic dataframe summarization functions as well as visualize of a single **categorical** variable.\n",
    "\n",
    "<hr>"
   ]
  },
  {
   "cell_type": "markdown",
   "metadata": {},
   "source": [
    "## <u>Instructions</u>:\n",
    "\n",
    "**Part 1.** [10 pts for successfully submitting this notebook to Github]\n",
    "\n",
    "Make sure you have the following packages installed for Python on your computer: pandas, matplotlib.pyplot, seaborn.\n",
    "To install them, launch a **command line window** and issue commands of the form:\n",
    "\n",
    "    conda install *package_name_here*\n",
    "    \n",
    "To check if they are installed issue the command:\n",
    "\n",
    "    conda list\n",
    "    \n",
    "and look through the list to make sure the packages you need are there. When done, return to this notebook."
   ]
  },
  {
   "cell_type": "markdown",
   "metadata": {},
   "source": [
    "**Part 2.** [5 points for getting the code below to run]\n",
    "\n",
    "After ensuring that the packages listed above are installed on your computer import them here in the notebook by running the following commands. You should be able to do this by clicking anywhere inside the cell to select it and then hitting the 'Run' button in the menu at the top of this page."
   ]
  },
  {
   "cell_type": "code",
   "execution_count": 1,
   "metadata": {},
   "outputs": [],
   "source": [
    "import pandas as pd                    # imports pandas and calls the imported version 'pd'\n",
    "import matplotlib.pyplot as plt        # imports the package and calls it 'plt'\n",
    "import seaborn as sns                  # imports the seaborn package with the imported name 'sns'\n",
    "sns.set()                              # sets the default plotting style"
   ]
  },
  {
   "cell_type": "markdown",
   "metadata": {},
   "source": [
    "**Part 3.**\n",
    "\n",
    "**a)** [3 points] You should have a file \"smoking.csv\" in the same folder as this notebook. Read the file into a pandas data frame. You may call it \"df\" or whatever you like. As illustrated in the class notes, use the .head() function to display the first several lines of the data frame. "
   ]
  },
  {
   "cell_type": "code",
   "execution_count": 5,
   "metadata": {},
   "outputs": [
    {
     "data": {
      "text/html": [
       "<div>\n",
       "<style scoped>\n",
       "    .dataframe tbody tr th:only-of-type {\n",
       "        vertical-align: middle;\n",
       "    }\n",
       "\n",
       "    .dataframe tbody tr th {\n",
       "        vertical-align: top;\n",
       "    }\n",
       "\n",
       "    .dataframe thead th {\n",
       "        text-align: right;\n",
       "    }\n",
       "</style>\n",
       "<table border=\"1\" class=\"dataframe\">\n",
       "  <thead>\n",
       "    <tr style=\"text-align: right;\">\n",
       "      <th></th>\n",
       "      <th>sex</th>\n",
       "      <th>age</th>\n",
       "      <th>marital_status</th>\n",
       "      <th>highest_qualification</th>\n",
       "      <th>nationality</th>\n",
       "      <th>gross_income</th>\n",
       "      <th>region</th>\n",
       "      <th>smoke</th>\n",
       "      <th>amt_weekends</th>\n",
       "      <th>amt_weekdays</th>\n",
       "      <th>type</th>\n",
       "    </tr>\n",
       "  </thead>\n",
       "  <tbody>\n",
       "    <tr>\n",
       "      <th>0</th>\n",
       "      <td>Female</td>\n",
       "      <td>42</td>\n",
       "      <td>Single</td>\n",
       "      <td>No Qualification</td>\n",
       "      <td>British</td>\n",
       "      <td>Under 2,600</td>\n",
       "      <td>The North</td>\n",
       "      <td>Yes</td>\n",
       "      <td>12</td>\n",
       "      <td>12</td>\n",
       "      <td>Packets</td>\n",
       "    </tr>\n",
       "    <tr>\n",
       "      <th>1</th>\n",
       "      <td>Male</td>\n",
       "      <td>53</td>\n",
       "      <td>Married</td>\n",
       "      <td>Degree</td>\n",
       "      <td>British</td>\n",
       "      <td>Above 36,400</td>\n",
       "      <td>The North</td>\n",
       "      <td>Yes</td>\n",
       "      <td>6</td>\n",
       "      <td>6</td>\n",
       "      <td>Packets</td>\n",
       "    </tr>\n",
       "    <tr>\n",
       "      <th>2</th>\n",
       "      <td>Male</td>\n",
       "      <td>40</td>\n",
       "      <td>Single</td>\n",
       "      <td>GCSE/CSE</td>\n",
       "      <td>English</td>\n",
       "      <td>2,600 to 5,200</td>\n",
       "      <td>The North</td>\n",
       "      <td>Yes</td>\n",
       "      <td>8</td>\n",
       "      <td>8</td>\n",
       "      <td>Hand-Rolled</td>\n",
       "    </tr>\n",
       "    <tr>\n",
       "      <th>3</th>\n",
       "      <td>Female</td>\n",
       "      <td>41</td>\n",
       "      <td>Married</td>\n",
       "      <td>No Qualification</td>\n",
       "      <td>English</td>\n",
       "      <td>5,200 to 10,400</td>\n",
       "      <td>The North</td>\n",
       "      <td>Yes</td>\n",
       "      <td>15</td>\n",
       "      <td>12</td>\n",
       "      <td>Packets</td>\n",
       "    </tr>\n",
       "    <tr>\n",
       "      <th>4</th>\n",
       "      <td>Female</td>\n",
       "      <td>34</td>\n",
       "      <td>Married</td>\n",
       "      <td>GCSE/CSE</td>\n",
       "      <td>British</td>\n",
       "      <td>2,600 to 5,200</td>\n",
       "      <td>The North</td>\n",
       "      <td>Yes</td>\n",
       "      <td>6</td>\n",
       "      <td>12</td>\n",
       "      <td>Packets</td>\n",
       "    </tr>\n",
       "  </tbody>\n",
       "</table>\n",
       "</div>"
      ],
      "text/plain": [
       "      sex  age marital_status highest_qualification nationality  \\\n",
       "0  Female   42         Single      No Qualification     British   \n",
       "1    Male   53        Married                Degree     British   \n",
       "2    Male   40         Single              GCSE/CSE     English   \n",
       "3  Female   41        Married      No Qualification     English   \n",
       "4  Female   34        Married              GCSE/CSE     British   \n",
       "\n",
       "      gross_income     region smoke  amt_weekends  amt_weekdays         type  \n",
       "0      Under 2,600  The North   Yes            12            12      Packets  \n",
       "1     Above 36,400  The North   Yes             6             6      Packets  \n",
       "2   2,600 to 5,200  The North   Yes             8             8  Hand-Rolled  \n",
       "3  5,200 to 10,400  The North   Yes            15            12      Packets  \n",
       "4   2,600 to 5,200  The North   Yes             6            12      Packets  "
      ]
     },
     "execution_count": 5,
     "metadata": {},
     "output_type": "execute_result"
    }
   ],
   "source": [
    "df = pd.read_csv(\"smoking.csv\")\n",
    "df.head()"
   ]
  },
  {
   "cell_type": "markdown",
   "metadata": {},
   "source": [
    "**b)** [1 point] Use .shape to determine how many observations (rows) there are."
   ]
  },
  {
   "cell_type": "code",
   "execution_count": 7,
   "metadata": {},
   "outputs": [
    {
     "data": {
      "text/plain": [
       "(421, 11)"
      ]
     },
     "execution_count": 7,
     "metadata": {},
     "output_type": "execute_result"
    }
   ],
   "source": [
    "df.shape"
   ]
  },
  {
   "cell_type": "markdown",
   "metadata": {},
   "source": [
    "**Part 4.**\n",
    "\n",
    "The data contains several variables involving demographic information and smoking habit information from a **random sample** of smokers living in the United Kingdom. The third column, 'nationality' lists the nationality of the smoker.\n",
    "\n",
    "**a)** [3 points] Using python commands in the cell below, determine how many smokers there are of each nationality in this dataset."
   ]
  },
  {
   "cell_type": "code",
   "execution_count": 13,
   "metadata": {},
   "outputs": [
    {
     "data": {
      "text/plain": [
       "English     202\n",
       "British     129\n",
       "Scottish     45\n",
       "Welsh        16\n",
       "Other        14\n",
       "Irish        11\n",
       "Refused       3\n",
       "Unknown       1\n",
       "Name: nationality, dtype: int64"
      ]
     },
     "execution_count": 13,
     "metadata": {},
     "output_type": "execute_result"
    }
   ],
   "source": [
    "smokers = df[df['smoke'] == 'Yes']\n",
    "smokers_nationality = smokers['nationality'].value_counts()\n",
    "smokers_nationality"
   ]
  },
  {
   "cell_type": "markdown",
   "metadata": {},
   "source": [
    "**b)** [3 points] Using python commands in the cell below, make a barplot that shows the counts for each nationality in the dataset.\n",
    "\n",
    "Be sure to include:\n",
    "* a title\n",
    "* an appropriate label for your x-axis\n",
    "* an appropriate label for your y-axis."
   ]
  },
  {
   "cell_type": "code",
   "execution_count": 18,
   "metadata": {},
   "outputs": [
    {
     "data": {
      "image/png": "[encoded data removed]",
      "text/plain": [
       "<Figure size 432x288 with 1 Axes>"
      ]
     },
     "metadata": {},
     "output_type": "display_data"
    }
   ],
   "source": [
    "sns.barplot(x = smokers_nationality.index, y = smokers_nationality)\n",
    "plt.title(\"UK Smoker's Nationality\")\n",
    "plt.ylabel(\"Number of Smokers\")\n",
    "plt.xlabel(\"Nationality\")\n",
    "plt.show()\n"
   ]
  },
  {
   "cell_type": "markdown",
   "metadata": {},
   "source": [
    "Remember to keep all your cells and hit the save icon above periodically to checkpoint (save) your results on your local computer. Once you are satisified with your results restart the kernel and run all. **Make sure nothing has changed**. Checkpoint and exit. Follow the git submit instructions to submit your notebook."
   ]
  },
  {
   "cell_type": "code",
   "execution_count": null,
   "metadata": {},
   "outputs": [],
   "source": []
  }
 ],
 "metadata": {
  "kernelspec": {
   "display_name": "Python 3",
   "language": "python",
   "name": "python3"
  },
  "language_info": {
   "codemirror_mode": {
    "name": "ipython",
    "version": 3
   },
   "file_extension": ".py",
   "mimetype": "text/x-python",
   "name": "python",
   "nbconvert_exporter": "python",
   "pygments_lexer": "ipython3",
   "version": "3.7.3"
  }
 },
 "nbformat": 4,
 "nbformat_minor": 2
}
