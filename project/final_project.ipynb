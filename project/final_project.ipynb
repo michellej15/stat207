{
 "cells": [
  {
   "cell_type": "markdown",
   "metadata": {},
   "source": [
    "# STAT207 Final Project - Can You Predict a Stroke?\n",
    "\n",
    "Michelle Jun"
   ]
  },
  {
   "cell_type": "markdown",
   "metadata": {},
   "source": [
    "## 1. Introduction"
   ]
  },
  {
   "cell_type": "markdown",
   "metadata": {},
   "source": [
    "**Motivation**: The dataset I have chosen from this project report is the stroke prediction dataset. When reading the context for the dataset, I learned that according to the World Health Organization, stroke is the second leading cause of death. This information along with my interest in healthcare technology is why I chose this dataset because I thought it would be interesting to discover what factors could lead to a stroke."
   ]
  },
  {
   "cell_type": "markdown",
   "metadata": {},
   "source": [
    "**Research Questions:**\n",
    "1. What is the relationship between gender, age, hypertension, and bmi in this dataset? Furthermore, how does the relationship between gender, hypertension, age, and bmi change for the different values for stroke? </br>\n",
    "*Since gender is a categorical variable, I will be using box plots to show the data. For hpypertension, age, and bmi, I will be representing the relationship with a scatter plot because they are both numerical variables.*</br></br>\n",
    "2. For the people living across the world who have had a stroke, is there an association between having a stroke and living in a rural area versus an urban area? </br>\n",
    "*To show the relationship between people living in rural or urban areas that have had a stroke, we will be performing a difference in proportion means hypothesis test. This will allow us to test if there is a difference in the proportion of people who have had a stroke that are living in rural areas versus the proportion of people who have had a stroke that are living in urban areas.*</br></br>\n",
    "3. Is there a linear relationship between age and hypertension, heart disease, average glucose level, and bmi in the sample? </br>\n",
    "*For the representation of this linear relationship, I will be calculating a linear regression. This will show us the estimates on how hypertension, heart disease, average glucose level, and bmi variables change as the age changes.*</br></br>\n",
    "4. Is there a linear relationship between the log-odds of someone having a stroke and if they smoked, age, history of heart disease, average glucose level, and bmi? </br>\n",
    "*A logistic regression will be used to show this linear relationship because it will allow us to describe and explain the relationship between if someone had a stroke and the independent variables: smoked, age, heart disease, average glucose levels, and bmi.*\n"
   ]
  },
  {
   "cell_type": "code",
   "execution_count": 73,
   "metadata": {},
   "outputs": [],
   "source": [
    "#Imports here\n",
    "import numpy as np\n",
    "import pandas as pd\n",
    "import matplotlib.pyplot as plt\n",
    "import zipfile as zp\n",
    "import statsmodels.api as sm\n",
    "import seaborn as sns\n",
    "import statsmodels.formula.api as smf\n",
    "from scipy.stats import norm\n",
    "from scipy.stats import f\n",
    "from sklearn.model_selection import train_test_split\n",
    "from sklearn.linear_model import LogisticRegression\n",
    "from sklearn.metrics import confusion_matrix, roc_auc_score, roc_curve\n",
    "from sklearn.model_selection import train_test_split"
   ]
  },
  {
   "cell_type": "code",
   "execution_count": 74,
   "metadata": {},
   "outputs": [
    {
     "data": {
      "text/html": [
       "<div>\n",
       "<style scoped>\n",
       "    .dataframe tbody tr th:only-of-type {\n",
       "        vertical-align: middle;\n",
       "    }\n",
       "\n",
       "    .dataframe tbody tr th {\n",
       "        vertical-align: top;\n",
       "    }\n",
       "\n",
       "    .dataframe thead th {\n",
       "        text-align: right;\n",
       "    }\n",
       "</style>\n",
       "<table border=\"1\" class=\"dataframe\">\n",
       "  <thead>\n",
       "    <tr style=\"text-align: right;\">\n",
       "      <th></th>\n",
       "      <th>id</th>\n",
       "      <th>gender</th>\n",
       "      <th>age</th>\n",
       "      <th>hypertension</th>\n",
       "      <th>heart_disease</th>\n",
       "      <th>ever_married</th>\n",
       "      <th>work_type</th>\n",
       "      <th>Residence_type</th>\n",
       "      <th>avg_glucose_level</th>\n",
       "      <th>bmi</th>\n",
       "      <th>smoking_status</th>\n",
       "      <th>stroke</th>\n",
       "    </tr>\n",
       "  </thead>\n",
       "  <tbody>\n",
       "    <tr>\n",
       "      <th>0</th>\n",
       "      <td>9046</td>\n",
       "      <td>Male</td>\n",
       "      <td>67.0</td>\n",
       "      <td>0</td>\n",
       "      <td>1</td>\n",
       "      <td>Yes</td>\n",
       "      <td>Private</td>\n",
       "      <td>Urban</td>\n",
       "      <td>228.69</td>\n",
       "      <td>36.6</td>\n",
       "      <td>formerly smoked</td>\n",
       "      <td>1</td>\n",
       "    </tr>\n",
       "    <tr>\n",
       "      <th>1</th>\n",
       "      <td>51676</td>\n",
       "      <td>Female</td>\n",
       "      <td>61.0</td>\n",
       "      <td>0</td>\n",
       "      <td>0</td>\n",
       "      <td>Yes</td>\n",
       "      <td>Self-employed</td>\n",
       "      <td>Rural</td>\n",
       "      <td>202.21</td>\n",
       "      <td>NaN</td>\n",
       "      <td>never smoked</td>\n",
       "      <td>1</td>\n",
       "    </tr>\n",
       "    <tr>\n",
       "      <th>2</th>\n",
       "      <td>31112</td>\n",
       "      <td>Male</td>\n",
       "      <td>80.0</td>\n",
       "      <td>0</td>\n",
       "      <td>1</td>\n",
       "      <td>Yes</td>\n",
       "      <td>Private</td>\n",
       "      <td>Rural</td>\n",
       "      <td>105.92</td>\n",
       "      <td>32.5</td>\n",
       "      <td>never smoked</td>\n",
       "      <td>1</td>\n",
       "    </tr>\n",
       "    <tr>\n",
       "      <th>3</th>\n",
       "      <td>60182</td>\n",
       "      <td>Female</td>\n",
       "      <td>49.0</td>\n",
       "      <td>0</td>\n",
       "      <td>0</td>\n",
       "      <td>Yes</td>\n",
       "      <td>Private</td>\n",
       "      <td>Urban</td>\n",
       "      <td>171.23</td>\n",
       "      <td>34.4</td>\n",
       "      <td>smokes</td>\n",
       "      <td>1</td>\n",
       "    </tr>\n",
       "    <tr>\n",
       "      <th>4</th>\n",
       "      <td>1665</td>\n",
       "      <td>Female</td>\n",
       "      <td>79.0</td>\n",
       "      <td>1</td>\n",
       "      <td>0</td>\n",
       "      <td>Yes</td>\n",
       "      <td>Self-employed</td>\n",
       "      <td>Rural</td>\n",
       "      <td>174.12</td>\n",
       "      <td>24.0</td>\n",
       "      <td>never smoked</td>\n",
       "      <td>1</td>\n",
       "    </tr>\n",
       "    <tr>\n",
       "      <th>...</th>\n",
       "      <td>...</td>\n",
       "      <td>...</td>\n",
       "      <td>...</td>\n",
       "      <td>...</td>\n",
       "      <td>...</td>\n",
       "      <td>...</td>\n",
       "      <td>...</td>\n",
       "      <td>...</td>\n",
       "      <td>...</td>\n",
       "      <td>...</td>\n",
       "      <td>...</td>\n",
       "      <td>...</td>\n",
       "    </tr>\n",
       "    <tr>\n",
       "      <th>5105</th>\n",
       "      <td>18234</td>\n",
       "      <td>Female</td>\n",
       "      <td>80.0</td>\n",
       "      <td>1</td>\n",
       "      <td>0</td>\n",
       "      <td>Yes</td>\n",
       "      <td>Private</td>\n",
       "      <td>Urban</td>\n",
       "      <td>83.75</td>\n",
       "      <td>NaN</td>\n",
       "      <td>never smoked</td>\n",
       "      <td>0</td>\n",
       "    </tr>\n",
       "    <tr>\n",
       "      <th>5106</th>\n",
       "      <td>44873</td>\n",
       "      <td>Female</td>\n",
       "      <td>81.0</td>\n",
       "      <td>0</td>\n",
       "      <td>0</td>\n",
       "      <td>Yes</td>\n",
       "      <td>Self-employed</td>\n",
       "      <td>Urban</td>\n",
       "      <td>125.20</td>\n",
       "      <td>40.0</td>\n",
       "      <td>never smoked</td>\n",
       "      <td>0</td>\n",
       "    </tr>\n",
       "    <tr>\n",
       "      <th>5107</th>\n",
       "      <td>19723</td>\n",
       "      <td>Female</td>\n",
       "      <td>35.0</td>\n",
       "      <td>0</td>\n",
       "      <td>0</td>\n",
       "      <td>Yes</td>\n",
       "      <td>Self-employed</td>\n",
       "      <td>Rural</td>\n",
       "      <td>82.99</td>\n",
       "      <td>30.6</td>\n",
       "      <td>never smoked</td>\n",
       "      <td>0</td>\n",
       "    </tr>\n",
       "    <tr>\n",
       "      <th>5108</th>\n",
       "      <td>37544</td>\n",
       "      <td>Male</td>\n",
       "      <td>51.0</td>\n",
       "      <td>0</td>\n",
       "      <td>0</td>\n",
       "      <td>Yes</td>\n",
       "      <td>Private</td>\n",
       "      <td>Rural</td>\n",
       "      <td>166.29</td>\n",
       "      <td>25.6</td>\n",
       "      <td>formerly smoked</td>\n",
       "      <td>0</td>\n",
       "    </tr>\n",
       "    <tr>\n",
       "      <th>5109</th>\n",
       "      <td>44679</td>\n",
       "      <td>Female</td>\n",
       "      <td>44.0</td>\n",
       "      <td>0</td>\n",
       "      <td>0</td>\n",
       "      <td>Yes</td>\n",
       "      <td>Govt_job</td>\n",
       "      <td>Urban</td>\n",
       "      <td>85.28</td>\n",
       "      <td>26.2</td>\n",
       "      <td>Unknown</td>\n",
       "      <td>0</td>\n",
       "    </tr>\n",
       "  </tbody>\n",
       "</table>\n",
       "<p>5110 rows × 12 columns</p>\n",
       "</div>"
      ],
      "text/plain": [
       "         id  gender   age  hypertension  heart_disease ever_married  \\\n",
       "0      9046    Male  67.0             0              1          Yes   \n",
       "1     51676  Female  61.0             0              0          Yes   \n",
       "2     31112    Male  80.0             0              1          Yes   \n",
       "3     60182  Female  49.0             0              0          Yes   \n",
       "4      1665  Female  79.0             1              0          Yes   \n",
       "...     ...     ...   ...           ...            ...          ...   \n",
       "5105  18234  Female  80.0             1              0          Yes   \n",
       "5106  44873  Female  81.0             0              0          Yes   \n",
       "5107  19723  Female  35.0             0              0          Yes   \n",
       "5108  37544    Male  51.0             0              0          Yes   \n",
       "5109  44679  Female  44.0             0              0          Yes   \n",
       "\n",
       "          work_type Residence_type  avg_glucose_level   bmi   smoking_status  \\\n",
       "0           Private          Urban             228.69  36.6  formerly smoked   \n",
       "1     Self-employed          Rural             202.21   NaN     never smoked   \n",
       "2           Private          Rural             105.92  32.5     never smoked   \n",
       "3           Private          Urban             171.23  34.4           smokes   \n",
       "4     Self-employed          Rural             174.12  24.0     never smoked   \n",
       "...             ...            ...                ...   ...              ...   \n",
       "5105        Private          Urban              83.75   NaN     never smoked   \n",
       "5106  Self-employed          Urban             125.20  40.0     never smoked   \n",
       "5107  Self-employed          Rural              82.99  30.6     never smoked   \n",
       "5108        Private          Rural             166.29  25.6  formerly smoked   \n",
       "5109       Govt_job          Urban              85.28  26.2          Unknown   \n",
       "\n",
       "      stroke  \n",
       "0          1  \n",
       "1          1  \n",
       "2          1  \n",
       "3          1  \n",
       "4          1  \n",
       "...      ...  \n",
       "5105       0  \n",
       "5106       0  \n",
       "5107       0  \n",
       "5108       0  \n",
       "5109       0  \n",
       "\n",
       "[5110 rows x 12 columns]"
      ]
     },
     "execution_count": 74,
     "metadata": {},
     "output_type": "execute_result"
    }
   ],
   "source": [
    "df = pd.read_csv('healthcare-dataset-stroke-data.csv')\n",
    "df"
   ]
  },
  {
   "cell_type": "code",
   "execution_count": 75,
   "metadata": {},
   "outputs": [
    {
     "data": {
      "text/plain": [
       "(5110, 12)"
      ]
     },
     "execution_count": 75,
     "metadata": {},
     "output_type": "execute_result"
    }
   ],
   "source": [
    "df.shape"
   ]
  },
  {
   "cell_type": "code",
   "execution_count": 76,
   "metadata": {},
   "outputs": [
    {
     "data": {
      "text/html": [
       "<div>\n",
       "<style scoped>\n",
       "    .dataframe tbody tr th:only-of-type {\n",
       "        vertical-align: middle;\n",
       "    }\n",
       "\n",
       "    .dataframe tbody tr th {\n",
       "        vertical-align: top;\n",
       "    }\n",
       "\n",
       "    .dataframe thead th {\n",
       "        text-align: right;\n",
       "    }\n",
       "</style>\n",
       "<table border=\"1\" class=\"dataframe\">\n",
       "  <thead>\n",
       "    <tr style=\"text-align: right;\">\n",
       "      <th></th>\n",
       "      <th>id</th>\n",
       "      <th>gender</th>\n",
       "      <th>age</th>\n",
       "      <th>hypertension</th>\n",
       "      <th>heart_disease</th>\n",
       "      <th>ever_married</th>\n",
       "      <th>work_type</th>\n",
       "      <th>Residence_type</th>\n",
       "      <th>avg_glucose_level</th>\n",
       "      <th>bmi</th>\n",
       "      <th>smoking_status</th>\n",
       "      <th>stroke</th>\n",
       "    </tr>\n",
       "  </thead>\n",
       "  <tbody>\n",
       "    <tr>\n",
       "      <th>0</th>\n",
       "      <td>9046</td>\n",
       "      <td>Male</td>\n",
       "      <td>67.0</td>\n",
       "      <td>0</td>\n",
       "      <td>1</td>\n",
       "      <td>Yes</td>\n",
       "      <td>Private</td>\n",
       "      <td>Urban</td>\n",
       "      <td>228.69</td>\n",
       "      <td>36.6</td>\n",
       "      <td>formerly smoked</td>\n",
       "      <td>1</td>\n",
       "    </tr>\n",
       "    <tr>\n",
       "      <th>2</th>\n",
       "      <td>31112</td>\n",
       "      <td>Male</td>\n",
       "      <td>80.0</td>\n",
       "      <td>0</td>\n",
       "      <td>1</td>\n",
       "      <td>Yes</td>\n",
       "      <td>Private</td>\n",
       "      <td>Rural</td>\n",
       "      <td>105.92</td>\n",
       "      <td>32.5</td>\n",
       "      <td>never smoked</td>\n",
       "      <td>1</td>\n",
       "    </tr>\n",
       "    <tr>\n",
       "      <th>3</th>\n",
       "      <td>60182</td>\n",
       "      <td>Female</td>\n",
       "      <td>49.0</td>\n",
       "      <td>0</td>\n",
       "      <td>0</td>\n",
       "      <td>Yes</td>\n",
       "      <td>Private</td>\n",
       "      <td>Urban</td>\n",
       "      <td>171.23</td>\n",
       "      <td>34.4</td>\n",
       "      <td>smokes</td>\n",
       "      <td>1</td>\n",
       "    </tr>\n",
       "    <tr>\n",
       "      <th>4</th>\n",
       "      <td>1665</td>\n",
       "      <td>Female</td>\n",
       "      <td>79.0</td>\n",
       "      <td>1</td>\n",
       "      <td>0</td>\n",
       "      <td>Yes</td>\n",
       "      <td>Self-employed</td>\n",
       "      <td>Rural</td>\n",
       "      <td>174.12</td>\n",
       "      <td>24.0</td>\n",
       "      <td>never smoked</td>\n",
       "      <td>1</td>\n",
       "    </tr>\n",
       "    <tr>\n",
       "      <th>5</th>\n",
       "      <td>56669</td>\n",
       "      <td>Male</td>\n",
       "      <td>81.0</td>\n",
       "      <td>0</td>\n",
       "      <td>0</td>\n",
       "      <td>Yes</td>\n",
       "      <td>Private</td>\n",
       "      <td>Urban</td>\n",
       "      <td>186.21</td>\n",
       "      <td>29.0</td>\n",
       "      <td>formerly smoked</td>\n",
       "      <td>1</td>\n",
       "    </tr>\n",
       "    <tr>\n",
       "      <th>...</th>\n",
       "      <td>...</td>\n",
       "      <td>...</td>\n",
       "      <td>...</td>\n",
       "      <td>...</td>\n",
       "      <td>...</td>\n",
       "      <td>...</td>\n",
       "      <td>...</td>\n",
       "      <td>...</td>\n",
       "      <td>...</td>\n",
       "      <td>...</td>\n",
       "      <td>...</td>\n",
       "      <td>...</td>\n",
       "    </tr>\n",
       "    <tr>\n",
       "      <th>5104</th>\n",
       "      <td>14180</td>\n",
       "      <td>Female</td>\n",
       "      <td>13.0</td>\n",
       "      <td>0</td>\n",
       "      <td>0</td>\n",
       "      <td>No</td>\n",
       "      <td>children</td>\n",
       "      <td>Rural</td>\n",
       "      <td>103.08</td>\n",
       "      <td>18.6</td>\n",
       "      <td>Unknown</td>\n",
       "      <td>0</td>\n",
       "    </tr>\n",
       "    <tr>\n",
       "      <th>5106</th>\n",
       "      <td>44873</td>\n",
       "      <td>Female</td>\n",
       "      <td>81.0</td>\n",
       "      <td>0</td>\n",
       "      <td>0</td>\n",
       "      <td>Yes</td>\n",
       "      <td>Self-employed</td>\n",
       "      <td>Urban</td>\n",
       "      <td>125.20</td>\n",
       "      <td>40.0</td>\n",
       "      <td>never smoked</td>\n",
       "      <td>0</td>\n",
       "    </tr>\n",
       "    <tr>\n",
       "      <th>5107</th>\n",
       "      <td>19723</td>\n",
       "      <td>Female</td>\n",
       "      <td>35.0</td>\n",
       "      <td>0</td>\n",
       "      <td>0</td>\n",
       "      <td>Yes</td>\n",
       "      <td>Self-employed</td>\n",
       "      <td>Rural</td>\n",
       "      <td>82.99</td>\n",
       "      <td>30.6</td>\n",
       "      <td>never smoked</td>\n",
       "      <td>0</td>\n",
       "    </tr>\n",
       "    <tr>\n",
       "      <th>5108</th>\n",
       "      <td>37544</td>\n",
       "      <td>Male</td>\n",
       "      <td>51.0</td>\n",
       "      <td>0</td>\n",
       "      <td>0</td>\n",
       "      <td>Yes</td>\n",
       "      <td>Private</td>\n",
       "      <td>Rural</td>\n",
       "      <td>166.29</td>\n",
       "      <td>25.6</td>\n",
       "      <td>formerly smoked</td>\n",
       "      <td>0</td>\n",
       "    </tr>\n",
       "    <tr>\n",
       "      <th>5109</th>\n",
       "      <td>44679</td>\n",
       "      <td>Female</td>\n",
       "      <td>44.0</td>\n",
       "      <td>0</td>\n",
       "      <td>0</td>\n",
       "      <td>Yes</td>\n",
       "      <td>Govt_job</td>\n",
       "      <td>Urban</td>\n",
       "      <td>85.28</td>\n",
       "      <td>26.2</td>\n",
       "      <td>Unknown</td>\n",
       "      <td>0</td>\n",
       "    </tr>\n",
       "  </tbody>\n",
       "</table>\n",
       "<p>4909 rows × 12 columns</p>\n",
       "</div>"
      ],
      "text/plain": [
       "         id  gender   age  hypertension  heart_disease ever_married  \\\n",
       "0      9046    Male  67.0             0              1          Yes   \n",
       "2     31112    Male  80.0             0              1          Yes   \n",
       "3     60182  Female  49.0             0              0          Yes   \n",
       "4      1665  Female  79.0             1              0          Yes   \n",
       "5     56669    Male  81.0             0              0          Yes   \n",
       "...     ...     ...   ...           ...            ...          ...   \n",
       "5104  14180  Female  13.0             0              0           No   \n",
       "5106  44873  Female  81.0             0              0          Yes   \n",
       "5107  19723  Female  35.0             0              0          Yes   \n",
       "5108  37544    Male  51.0             0              0          Yes   \n",
       "5109  44679  Female  44.0             0              0          Yes   \n",
       "\n",
       "          work_type Residence_type  avg_glucose_level   bmi   smoking_status  \\\n",
       "0           Private          Urban             228.69  36.6  formerly smoked   \n",
       "2           Private          Rural             105.92  32.5     never smoked   \n",
       "3           Private          Urban             171.23  34.4           smokes   \n",
       "4     Self-employed          Rural             174.12  24.0     never smoked   \n",
       "5           Private          Urban             186.21  29.0  formerly smoked   \n",
       "...             ...            ...                ...   ...              ...   \n",
       "5104       children          Rural             103.08  18.6          Unknown   \n",
       "5106  Self-employed          Urban             125.20  40.0     never smoked   \n",
       "5107  Self-employed          Rural              82.99  30.6     never smoked   \n",
       "5108        Private          Rural             166.29  25.6  formerly smoked   \n",
       "5109       Govt_job          Urban              85.28  26.2          Unknown   \n",
       "\n",
       "      stroke  \n",
       "0          1  \n",
       "2          1  \n",
       "3          1  \n",
       "4          1  \n",
       "5          1  \n",
       "...      ...  \n",
       "5104       0  \n",
       "5106       0  \n",
       "5107       0  \n",
       "5108       0  \n",
       "5109       0  \n",
       "\n",
       "[4909 rows x 12 columns]"
      ]
     },
     "execution_count": 76,
     "metadata": {},
     "output_type": "execute_result"
    }
   ],
   "source": [
    "missing_values = ['NaN']\n",
    "df = pd.read_csv('healthcare-dataset-stroke-data.csv', na_values=missing_values)\n",
    "df = df.dropna()\n",
    "df"
   ]
  },
  {
   "cell_type": "markdown",
   "metadata": {},
   "source": [
    "The original dataset has 5100 rows and 12 columns. After removing the rows with missing values, the dataset has 4909 rows and 12 columns."
   ]
  },
  {
   "cell_type": "markdown",
   "metadata": {},
   "source": [
    "## 2. Descriptive Analytics"
   ]
  },
  {
   "cell_type": "markdown",
   "metadata": {},
   "source": [
    "What is the relationship between gender, age, hypertension, and bmi in this dataset? Furthermore, how does the relationship between gender, hypertension, age, and bmi change for the different values for stroke?"
   ]
  },
  {
   "cell_type": "code",
   "execution_count": 137,
   "metadata": {},
   "outputs": [
    {
     "data": {
      "text/plain": [
       "<seaborn.axisgrid.FacetGrid at 0x7fa371a68e20>"
      ]
     },
     "execution_count": 137,
     "metadata": {},
     "output_type": "execute_result"
    },
    {
     "data": {
      "image/png": "[encoded data removed]",
      "text/plain": [
       "<Figure size 720x360 with 2 Axes>"
      ]
     },
     "metadata": {
      "needs_background": "light"
     },
     "output_type": "display_data"
    }
   ],
   "source": [
    "sns.lmplot(\n",
    "    data=df,\n",
    "    x=\"age\", y=\"bmi\", col=\"stroke\"\n",
    ")"
   ]
  },
  {
   "cell_type": "code",
   "execution_count": 78,
   "metadata": {},
   "outputs": [
    {
     "data": {
      "text/plain": [
       "<seaborn.axisgrid.FacetGrid at 0x7fa382c9fb50>"
      ]
     },
     "execution_count": 78,
     "metadata": {},
     "output_type": "execute_result"
    },
    {
     "data": {
      "image/png": "[encoded data removed]",
      "text/plain": [
       "<Figure size 720x360 with 2 Axes>"
      ]
     },
     "metadata": {
      "needs_background": "light"
     },
     "output_type": "display_data"
    }
   ],
   "source": [
    "sns.relplot(\n",
    "    data=df,\n",
    "    x=\"age\", y=\"hypertension\", col=\"stroke\"\n",
    ")"
   ]
  },
  {
   "cell_type": "code",
   "execution_count": 138,
   "metadata": {},
   "outputs": [
    {
     "data": {
      "text/plain": [
       "<seaborn.axisgrid.FacetGrid at 0x7fa38348da90>"
      ]
     },
     "execution_count": 138,
     "metadata": {},
     "output_type": "execute_result"
    },
    {
     "data": {
      "image/png": "[encoded data removed]",
      "text/plain": [
       "<Figure size 433.625x360 with 1 Axes>"
      ]
     },
     "metadata": {
      "needs_background": "light"
     },
     "output_type": "display_data"
    }
   ],
   "source": [
    "sns.lmplot(\n",
    "    data=df,\n",
    "    x=\"age\", y=\"bmi\", hue=\"hypertension\"\n",
    ")"
   ]
  },
  {
   "cell_type": "code",
   "execution_count": 80,
   "metadata": {},
   "outputs": [
    {
     "data": {
      "text/plain": [
       "<AxesSubplot:xlabel='gender', ylabel='bmi'>"
      ]
     },
     "execution_count": 80,
     "metadata": {},
     "output_type": "execute_result"
    },
    {
     "data": {
      "image/png": "[encoded data removed]",
      "text/plain": [
       "<Figure size 432x288 with 1 Axes>"
      ]
     },
     "metadata": {
      "needs_background": "light"
     },
     "output_type": "display_data"
    }
   ],
   "source": [
    "sns.boxplot(x=\"gender\", y=\"bmi\", hue=\"stroke\",\n",
    "                 data=df)"
   ]
  },
  {
   "cell_type": "markdown",
   "metadata": {},
   "source": [
    "*In the above graph, we can see one data point for 'gender' that is labeled as 'other'. I am removing this for the majority of the graphs because it doesn't tell us any significant information and I am not sure what 'other' gender means.*"
   ]
  },
  {
   "cell_type": "code",
   "execution_count": 81,
   "metadata": {},
   "outputs": [
    {
     "data": {
      "text/plain": [
       "Text(0.5, 1.0, 'Relationship between Gender, BMI, and Stroke')"
      ]
     },
     "execution_count": 81,
     "metadata": {},
     "output_type": "execute_result"
    },
    {
     "data": {
      "image/png": "[encoded data removed]",
      "text/plain": [
       "<Figure size 432x288 with 1 Axes>"
      ]
     },
     "metadata": {
      "needs_background": "light"
     },
     "output_type": "display_data"
    }
   ],
   "source": [
    "sns.boxplot(x=\"gender\", y=\"bmi\", hue=\"stroke\",\n",
    "                 data=df, order = ['Male', 'Female']).set_title(\"Relationship between Gender, BMI, and Stroke\")"
   ]
  },
  {
   "cell_type": "code",
   "execution_count": 82,
   "metadata": {},
   "outputs": [
    {
     "data": {
      "text/plain": [
       "Text(0.5, 1.0, 'Relationship between Gender, Age, and Stroke')"
      ]
     },
     "execution_count": 82,
     "metadata": {},
     "output_type": "execute_result"
    },
    {
     "data": {
      "image/png": "[encoded data removed]",
      "text/plain": [
       "<Figure size 432x288 with 1 Axes>"
      ]
     },
     "metadata": {
      "needs_background": "light"
     },
     "output_type": "display_data"
    }
   ],
   "source": [
    "sns.boxplot(x=\"gender\", y=\"age\", hue=\"stroke\",\n",
    "                 data=df, order = ['Male', 'Female']).set_title(\"Relationship between Gender, Age, and Stroke\")"
   ]
  },
  {
   "cell_type": "code",
   "execution_count": 83,
   "metadata": {},
   "outputs": [
    {
     "data": {
      "text/html": [
       "<div>\n",
       "<style scoped>\n",
       "    .dataframe tbody tr th:only-of-type {\n",
       "        vertical-align: middle;\n",
       "    }\n",
       "\n",
       "    .dataframe tbody tr th {\n",
       "        vertical-align: top;\n",
       "    }\n",
       "\n",
       "    .dataframe thead th {\n",
       "        text-align: right;\n",
       "    }\n",
       "</style>\n",
       "<table border=\"1\" class=\"dataframe\">\n",
       "  <thead>\n",
       "    <tr style=\"text-align: right;\">\n",
       "      <th></th>\n",
       "      <th></th>\n",
       "      <th>age</th>\n",
       "      <th>bmi</th>\n",
       "    </tr>\n",
       "    <tr>\n",
       "      <th>gender</th>\n",
       "      <th>stroke</th>\n",
       "      <th></th>\n",
       "      <th></th>\n",
       "    </tr>\n",
       "  </thead>\n",
       "  <tbody>\n",
       "    <tr>\n",
       "      <th rowspan=\"2\" valign=\"top\">Female</th>\n",
       "      <th>0</th>\n",
       "      <td>42.409190</td>\n",
       "      <td>29.015952</td>\n",
       "    </tr>\n",
       "    <tr>\n",
       "      <th>1</th>\n",
       "      <td>67.241667</td>\n",
       "      <td>30.218333</td>\n",
       "    </tr>\n",
       "    <tr>\n",
       "      <th rowspan=\"2\" valign=\"top\">Male</th>\n",
       "      <th>0</th>\n",
       "      <td>40.831322</td>\n",
       "      <td>28.547711</td>\n",
       "    </tr>\n",
       "    <tr>\n",
       "      <th>1</th>\n",
       "      <td>68.348315</td>\n",
       "      <td>30.812360</td>\n",
       "    </tr>\n",
       "    <tr>\n",
       "      <th>Other</th>\n",
       "      <th>0</th>\n",
       "      <td>26.000000</td>\n",
       "      <td>22.400000</td>\n",
       "    </tr>\n",
       "  </tbody>\n",
       "</table>\n",
       "</div>"
      ],
      "text/plain": [
       "                     age        bmi\n",
       "gender stroke                      \n",
       "Female 0       42.409190  29.015952\n",
       "       1       67.241667  30.218333\n",
       "Male   0       40.831322  28.547711\n",
       "       1       68.348315  30.812360\n",
       "Other  0       26.000000  22.400000"
      ]
     },
     "execution_count": 83,
     "metadata": {},
     "output_type": "execute_result"
    }
   ],
   "source": [
    "df[[\"age\", \"bmi\", \"gender\", \"stroke\"]].groupby([\"gender\",\"stroke\"]).mean()"
   ]
  },
  {
   "cell_type": "markdown",
   "metadata": {},
   "source": [
    "There was not a strong relationship between age and bmi for people that haven't had a stroke, gender and age, hypertension and bmi, and gender and bmi. There is a weak, negative correlation between age and bmi for people who have had a stroke. We see that people who are older in age tend to have a lower BMI. Also, we see a weak, negative correlation between age, bmi, and hypertension. Generally, people older in age are more likely to have hypertension, which makes sense because we commonly hear older ages having high blood pressure compared to younger people. This might be the reasoning for the weak, positive correlation between age, bmi, and no hypertention. For both males and females, the mean age for those who have not had a stroke is lower than for those who have had a stroke but seem to be similar. BMI doesn't really seem to determine whether or not someone has a stroke for both males and females. People who have not had a stroke had a wider range of BMI's which might show that people who have a had a stroke are a bit more concious about there health and tend to have a lower BMI, but that can't be certain looking at these graphs. However, age did have a relationship with stroke. People older in age are more likely to have a stroke. This was also shown in the table for the mean of age and bmi. We can see that for both females and males, the mean age for a stroke is about 25 years more than the mean age for not having had a stroke."
   ]
  },
  {
   "cell_type": "markdown",
   "metadata": {},
   "source": [
    "## 3. Inference"
   ]
  },
  {
   "cell_type": "markdown",
   "metadata": {},
   "source": [
    "For the people living across the world who have had a stroke, is there an association between living in a rural area or an urban area?"
   ]
  },
  {
   "cell_type": "markdown",
   "metadata": {},
   "source": [
    "Hypothesis for this test: </br></br>\n",
    "$H_{0}: p_{rural} - p_{urban}$ = 0 </br>\n",
    "$H_{A}: p_{rural} - p_{urban} \\neq$ 0"
   ]
  },
  {
   "cell_type": "code",
   "execution_count": 84,
   "metadata": {},
   "outputs": [],
   "source": [
    "stroke = df[df['stroke'] == 1]\n",
    "stroke_num = stroke.shape[0]"
   ]
  },
  {
   "cell_type": "code",
   "execution_count": 85,
   "metadata": {},
   "outputs": [
    {
     "data": {
      "text/plain": [
       "100"
      ]
     },
     "execution_count": 85,
     "metadata": {},
     "output_type": "execute_result"
    }
   ],
   "source": [
    "rural_stroke = stroke[stroke['Residence_type'] == 'Rural']\n",
    "rural_stroke.shape[0]"
   ]
  },
  {
   "cell_type": "code",
   "execution_count": 86,
   "metadata": {},
   "outputs": [
    {
     "data": {
      "text/plain": [
       "109"
      ]
     },
     "execution_count": 86,
     "metadata": {},
     "output_type": "execute_result"
    }
   ],
   "source": [
    "urban_stroke = stroke[stroke['Residence_type'] == 'Urban']\n",
    "urban_stroke.shape[0]"
   ]
  },
  {
   "cell_type": "code",
   "execution_count": 87,
   "metadata": {},
   "outputs": [
    {
     "data": {
      "text/plain": [
       "0.5215311004784688"
      ]
     },
     "execution_count": 87,
     "metadata": {},
     "output_type": "execute_result"
    }
   ],
   "source": [
    "#population proportions\n",
    "prop_rural = rural_stroke.shape[0] / stroke_num\n",
    "prop_urban = urban_stroke.shape[0] / stroke_num\n",
    "prop_urban"
   ]
  },
  {
   "cell_type": "code",
   "execution_count": 88,
   "metadata": {},
   "outputs": [
    {
     "data": {
      "text/plain": [
       "-0.043062200956937746"
      ]
     },
     "execution_count": 88,
     "metadata": {},
     "output_type": "execute_result"
    }
   ],
   "source": [
    "#population difference\n",
    "dist_mean = prop_rural - prop_urban\n",
    "dist_mean"
   ]
  },
  {
   "cell_type": "code",
   "execution_count": 89,
   "metadata": {},
   "outputs": [
    {
     "data": {
      "text/plain": [
       "0.06917144638660745"
      ]
     },
     "execution_count": 89,
     "metadata": {},
     "output_type": "execute_result"
    }
   ],
   "source": [
    "dist_std = np.sqrt(((prop_rural*(1 - prop_rural))/rural_stroke.shape[0]) + (prop_urban*(1-prop_urban)/urban_stroke.shape[0]))\n",
    "dist_std"
   ]
  },
  {
   "cell_type": "markdown",
   "metadata": {},
   "source": [
    "This sampling distribution of sample proportion differences is approzimately normal because the Central Limit Theorem conditions for sample proportion differences hold.\n",
    "1. The sample of strokes in rural areas around the world is randomly selected from the world population.\n",
    "2. The sample of strokes in urban areas around the world is randomly selected from the world population.\n",
    "3. $n_{rural}$ = 100 < 10% of the population of rural areas.\n",
    "4. $n_{urban}$ = 109 < 10% of the population of urban areas.\n",
    "5. $n_{rural}p_{rural}$ = 100(0.4578) >= 10 and 100(1 - 0.4578) >= 10.\n",
    "6. $n_{urban}p_{urban}$ = 109(0.5422) >= 10 and 109(1 - 0.5422) >= 10.\n",
    "7. The two samples are independent from each other. We know this because there is not a pairwise relationship in the way in which the two samples were not selected."
   ]
  },
  {
   "cell_type": "code",
   "execution_count": 90,
   "metadata": {},
   "outputs": [
    {
     "data": {
      "text/plain": [
       "-0.6225430174794665"
      ]
     },
     "execution_count": 90,
     "metadata": {},
     "output_type": "execute_result"
    }
   ],
   "source": [
    "test_stat = (dist_mean - 0) / dist_std\n",
    "test_stat"
   ]
  },
  {
   "cell_type": "code",
   "execution_count": 91,
   "metadata": {},
   "outputs": [
    {
     "data": {
      "text/plain": [
       "0.5335848667781611"
      ]
     },
     "execution_count": 91,
     "metadata": {},
     "output_type": "execute_result"
    }
   ],
   "source": [
    "p_value = 2 * (1 - norm.cdf(np.abs(test_stat)))\n",
    "p_value"
   ]
  },
  {
   "cell_type": "markdown",
   "metadata": {},
   "source": [
    "**Conclusion with p-value** </br>\n",
    "Because *p-value* = 0.534 >= $\\alpha$ = 0.05, we fail to reject the null hypothesis. Thus, there is not sufficient evidence to suggest that the difference between the proportion of all people who have had a stroke and live in a rural area and the proportion of all people who have had a stroke and live in an urban area is non-zero."
   ]
  },
  {
   "cell_type": "markdown",
   "metadata": {},
   "source": [
    "## 4. Linear Regression"
   ]
  },
  {
   "cell_type": "markdown",
   "metadata": {},
   "source": [
    "Is there a linear relationship between age and hypertension, heart disease, average glucose level, and bmi  in the sample?"
   ]
  },
  {
   "cell_type": "code",
   "execution_count": 136,
   "metadata": {},
   "outputs": [
    {
     "data": {
      "text/html": [
       "<table class=\"simpletable\">\n",
       "<caption>OLS Regression Results</caption>\n",
       "<tr>\n",
       "  <th>Dep. Variable:</th>           <td>age</td>       <th>  R-squared:         </th> <td>   0.223</td> \n",
       "</tr>\n",
       "<tr>\n",
       "  <th>Model:</th>                   <td>OLS</td>       <th>  Adj. R-squared:    </th> <td>   0.222</td> \n",
       "</tr>\n",
       "<tr>\n",
       "  <th>Method:</th>             <td>Least Squares</td>  <th>  F-statistic:       </th> <td>   351.7</td> \n",
       "</tr>\n",
       "<tr>\n",
       "  <th>Date:</th>             <td>Tue, 07 Dec 2021</td> <th>  Prob (F-statistic):</th> <td>1.38e-266</td>\n",
       "</tr>\n",
       "<tr>\n",
       "  <th>Time:</th>                 <td>18:07:25</td>     <th>  Log-Likelihood:    </th> <td> -21642.</td> \n",
       "</tr>\n",
       "<tr>\n",
       "  <th>No. Observations:</th>      <td>  4909</td>      <th>  AIC:               </th> <td>4.329e+04</td>\n",
       "</tr>\n",
       "<tr>\n",
       "  <th>Df Residuals:</th>          <td>  4904</td>      <th>  BIC:               </th> <td>4.333e+04</td>\n",
       "</tr>\n",
       "<tr>\n",
       "  <th>Df Model:</th>              <td>     4</td>      <th>                     </th>     <td> </td>    \n",
       "</tr>\n",
       "<tr>\n",
       "  <th>Covariance Type:</th>      <td>nonrobust</td>    <th>                     </th>     <td> </td>    \n",
       "</tr>\n",
       "</table>\n",
       "<table class=\"simpletable\">\n",
       "<tr>\n",
       "          <td></td>             <th>coef</th>     <th>std err</th>      <th>t</th>      <th>P>|t|</th>  <th>[0.025</th>    <th>0.975]</th>  \n",
       "</tr>\n",
       "<tr>\n",
       "  <th>Intercept</th>         <td>   11.2865</td> <td>    1.203</td> <td>    9.380</td> <td> 0.000</td> <td>    8.928</td> <td>   13.646</td>\n",
       "</tr>\n",
       "<tr>\n",
       "  <th>hypertension</th>      <td>   14.2551</td> <td>    1.013</td> <td>   14.067</td> <td> 0.000</td> <td>   12.268</td> <td>   16.242</td>\n",
       "</tr>\n",
       "<tr>\n",
       "  <th>heart_disease</th>     <td>   21.3793</td> <td>    1.330</td> <td>   16.072</td> <td> 0.000</td> <td>   18.772</td> <td>   23.987</td>\n",
       "</tr>\n",
       "<tr>\n",
       "  <th>avg_glucose_level</th> <td>    0.0626</td> <td>    0.007</td> <td>    9.435</td> <td> 0.000</td> <td>    0.050</td> <td>    0.076</td>\n",
       "</tr>\n",
       "<tr>\n",
       "  <th>bmi</th>               <td>    0.7829</td> <td>    0.037</td> <td>   21.110</td> <td> 0.000</td> <td>    0.710</td> <td>    0.856</td>\n",
       "</tr>\n",
       "</table>\n",
       "<table class=\"simpletable\">\n",
       "<tr>\n",
       "  <th>Omnibus:</th>       <td>236.836</td> <th>  Durbin-Watson:     </th> <td>   1.943</td>\n",
       "</tr>\n",
       "<tr>\n",
       "  <th>Prob(Omnibus):</th> <td> 0.000</td>  <th>  Jarque-Bera (JB):  </th> <td> 126.400</td>\n",
       "</tr>\n",
       "<tr>\n",
       "  <th>Skew:</th>          <td> 0.225</td>  <th>  Prob(JB):          </th> <td>3.57e-28</td>\n",
       "</tr>\n",
       "<tr>\n",
       "  <th>Kurtosis:</th>      <td> 2.356</td>  <th>  Cond. No.          </th> <td>    554.</td>\n",
       "</tr>\n",
       "</table><br/><br/>Notes:<br/>[1] Standard Errors assume that the covariance matrix of the errors is correctly specified."
      ],
      "text/plain": [
       "<class 'statsmodels.iolib.summary.Summary'>\n",
       "\"\"\"\n",
       "                            OLS Regression Results                            \n",
       "==============================================================================\n",
       "Dep. Variable:                    age   R-squared:                       0.223\n",
       "Model:                            OLS   Adj. R-squared:                  0.222\n",
       "Method:                 Least Squares   F-statistic:                     351.7\n",
       "Date:                Tue, 07 Dec 2021   Prob (F-statistic):          1.38e-266\n",
       "Time:                        18:07:25   Log-Likelihood:                -21642.\n",
       "No. Observations:                4909   AIC:                         4.329e+04\n",
       "Df Residuals:                    4904   BIC:                         4.333e+04\n",
       "Df Model:                           4                                         \n",
       "Covariance Type:            nonrobust                                         \n",
       "=====================================================================================\n",
       "                        coef    std err          t      P>|t|      [0.025      0.975]\n",
       "-------------------------------------------------------------------------------------\n",
       "Intercept            11.2865      1.203      9.380      0.000       8.928      13.646\n",
       "hypertension         14.2551      1.013     14.067      0.000      12.268      16.242\n",
       "heart_disease        21.3793      1.330     16.072      0.000      18.772      23.987\n",
       "avg_glucose_level     0.0626      0.007      9.435      0.000       0.050       0.076\n",
       "bmi                   0.7829      0.037     21.110      0.000       0.710       0.856\n",
       "==============================================================================\n",
       "Omnibus:                      236.836   Durbin-Watson:                   1.943\n",
       "Prob(Omnibus):                  0.000   Jarque-Bera (JB):              126.400\n",
       "Skew:                           0.225   Prob(JB):                     3.57e-28\n",
       "Kurtosis:                       2.356   Cond. No.                         554.\n",
       "==============================================================================\n",
       "\n",
       "Notes:\n",
       "[1] Standard Errors assume that the covariance matrix of the errors is correctly specified.\n",
       "\"\"\""
      ]
     },
     "execution_count": 136,
     "metadata": {},
     "output_type": "execute_result"
    }
   ],
   "source": [
    "mod = smf.ols('age ~ hypertension + heart_disease + avg_glucose_level + bmi', data = df).fit()\n",
    "mod.summary()"
   ]
  },
  {
   "cell_type": "markdown",
   "metadata": {},
   "source": [
    "$\\hat{age} = 11.2865 + 14.2551hypertension + 21.3793heartdisease + 0.0626avgglucoselevel + 0.7829bmi$"
   ]
  },
  {
   "cell_type": "markdown",
   "metadata": {},
   "source": [
    "***Checking Linear Regression Conditions***"
   ]
  },
  {
   "cell_type": "markdown",
   "metadata": {},
   "source": [
    "**1. Linearity Condition** </br>\n",
    "In the fitted values vs. residual plot below, we see that there are parts of the plot that have more points above the line than below the line. Thus, this condition is not quite met."
   ]
  },
  {
   "cell_type": "code",
   "execution_count": 94,
   "metadata": {},
   "outputs": [
    {
     "data": {
      "image/png": "[encoded data removed]",
      "text/plain": [
       "<Figure size 432x288 with 1 Axes>"
      ]
     },
     "metadata": {
      "needs_background": "light"
     },
     "output_type": "display_data"
    }
   ],
   "source": [
    "sns.regplot(x = mod.fittedvalues, y = mod.resid, ci = None)\n",
    "plt.ylabel('Residual')\n",
    "plt.xlabel('Fitted Value')\n",
    "plt.show()"
   ]
  },
  {
   "cell_type": "markdown",
   "metadata": {},
   "source": [
    "**2. Constant Variance of Residuals Condition** </br>\n",
    "In the fitted values vs. residuals plot above, we see that the y-axis spread changes as we move from left to right. Thus, this condition is not quite met either."
   ]
  },
  {
   "cell_type": "markdown",
   "metadata": {},
   "source": [
    "**3. Residuals are Normally Distributed** </br>\n",
    "Looking at a histogram of the residuals for this model (below), the distribution of residuals is right skewed. Thus, this distribution cannot be normal and this condition is not met."
   ]
  },
  {
   "cell_type": "code",
   "execution_count": 95,
   "metadata": {},
   "outputs": [
    {
     "data": {
      "image/png": "[encoded data removed]",
      "text/plain": [
       "<Figure size 432x288 with 1 Axes>"
      ]
     },
     "metadata": {
      "needs_background": "light"
     },
     "output_type": "display_data"
    }
   ],
   "source": [
    "plt.hist(mod.resid, bins = 20)\n",
    "plt.xlabel('Residuals')\n",
    "plt.show()"
   ]
  },
  {
   "cell_type": "markdown",
   "metadata": {},
   "source": [
    "**4. Independence of Residuals** </br>\n",
    "We verify that the data is randomly sampled and the sample size n = 4909 < 10% of the world population. </br>\n",
    "Thus the condition for independence of residuals may not be violated in this paritcular way."
   ]
  },
  {
   "cell_type": "code",
   "execution_count": 96,
   "metadata": {},
   "outputs": [
    {
     "data": {
      "text/plain": [
       "4909"
      ]
     },
     "execution_count": 96,
     "metadata": {},
     "output_type": "execute_result"
    }
   ],
   "source": [
    "df.shape[0]"
   ]
  },
  {
   "cell_type": "markdown",
   "metadata": {},
   "source": [
    "**5. No-Multicollinearity Condition** </br>\n",
    "It looks like average glucose level and bmi explanatory variables have a strong linear relationship with each other so this condition is not met either."
   ]
  },
  {
   "cell_type": "code",
   "execution_count": 97,
   "metadata": {},
   "outputs": [
    {
     "data": {
      "image/png": "[encoded data removed]",
      "text/plain": [
       "<Figure size 720x720 with 20 Axes>"
      ]
     },
     "metadata": {
      "needs_background": "light"
     },
     "output_type": "display_data"
    }
   ],
   "source": [
    "sns.pairplot(df[['hypertension', 'heart_disease', 'avg_glucose_level', 'bmi']])\n",
    "plt.show()"
   ]
  },
  {
   "cell_type": "code",
   "execution_count": 98,
   "metadata": {},
   "outputs": [
    {
     "data": {
      "text/html": [
       "<div>\n",
       "<style scoped>\n",
       "    .dataframe tbody tr th:only-of-type {\n",
       "        vertical-align: middle;\n",
       "    }\n",
       "\n",
       "    .dataframe tbody tr th {\n",
       "        vertical-align: top;\n",
       "    }\n",
       "\n",
       "    .dataframe thead th {\n",
       "        text-align: right;\n",
       "    }\n",
       "</style>\n",
       "<table border=\"1\" class=\"dataframe\">\n",
       "  <thead>\n",
       "    <tr style=\"text-align: right;\">\n",
       "      <th></th>\n",
       "      <th>hypertension</th>\n",
       "      <th>heart_disease</th>\n",
       "      <th>avg_glucose_level</th>\n",
       "      <th>age</th>\n",
       "    </tr>\n",
       "  </thead>\n",
       "  <tbody>\n",
       "    <tr>\n",
       "      <th>hypertension</th>\n",
       "      <td>1.000000</td>\n",
       "      <td>0.115991</td>\n",
       "      <td>0.180543</td>\n",
       "      <td>0.274425</td>\n",
       "    </tr>\n",
       "    <tr>\n",
       "      <th>heart_disease</th>\n",
       "      <td>0.115991</td>\n",
       "      <td>1.000000</td>\n",
       "      <td>0.154525</td>\n",
       "      <td>0.257123</td>\n",
       "    </tr>\n",
       "    <tr>\n",
       "      <th>avg_glucose_level</th>\n",
       "      <td>0.180543</td>\n",
       "      <td>0.154525</td>\n",
       "      <td>1.000000</td>\n",
       "      <td>0.235838</td>\n",
       "    </tr>\n",
       "    <tr>\n",
       "      <th>age</th>\n",
       "      <td>0.274425</td>\n",
       "      <td>0.257123</td>\n",
       "      <td>0.235838</td>\n",
       "      <td>1.000000</td>\n",
       "    </tr>\n",
       "  </tbody>\n",
       "</table>\n",
       "</div>"
      ],
      "text/plain": [
       "                   hypertension  heart_disease  avg_glucose_level       age\n",
       "hypertension           1.000000       0.115991           0.180543  0.274425\n",
       "heart_disease          0.115991       1.000000           0.154525  0.257123\n",
       "avg_glucose_level      0.180543       0.154525           1.000000  0.235838\n",
       "age                    0.274425       0.257123           0.235838  1.000000"
      ]
     },
     "execution_count": 98,
     "metadata": {},
     "output_type": "execute_result"
    }
   ],
   "source": [
    "df[['hypertension', 'heart_disease', 'avg_glucose_level', 'age']].corr()"
   ]
  },
  {
   "cell_type": "code",
   "execution_count": 99,
   "metadata": {},
   "outputs": [
    {
     "data": {
      "text/plain": [
       "0.2229340731141768"
      ]
     },
     "execution_count": 99,
     "metadata": {},
     "output_type": "execute_result"
    }
   ],
   "source": [
    "mod.rsquared"
   ]
  },
  {
   "cell_type": "code",
   "execution_count": 100,
   "metadata": {},
   "outputs": [
    {
     "data": {
      "text/plain": [
       "0.19157846906610887"
      ]
     },
     "execution_count": 100,
     "metadata": {},
     "output_type": "execute_result"
    }
   ],
   "source": [
    "mod2 = smf.ols('age ~ heart_disease + avg_glucose_level + bmi', data = df).fit()\n",
    "mod2.rsquared"
   ]
  },
  {
   "cell_type": "code",
   "execution_count": 101,
   "metadata": {},
   "outputs": [
    {
     "data": {
      "text/plain": [
       "0.18200139515681346"
      ]
     },
     "execution_count": 101,
     "metadata": {},
     "output_type": "execute_result"
    }
   ],
   "source": [
    "mod3 = smf.ols('age ~ hypertension + avg_glucose_level + bmi', data = df).fit()\n",
    "mod3.rsquared"
   ]
  },
  {
   "cell_type": "code",
   "execution_count": 102,
   "metadata": {},
   "outputs": [
    {
     "data": {
      "text/plain": [
       "0.2088285328927747"
      ]
     },
     "execution_count": 102,
     "metadata": {},
     "output_type": "execute_result"
    }
   ],
   "source": [
    "mod4 = smf.ols('age ~ hypertension + heart_disease + bmi', data = df).fit()\n",
    "mod4.rsquared"
   ]
  },
  {
   "cell_type": "code",
   "execution_count": 103,
   "metadata": {},
   "outputs": [
    {
     "data": {
      "text/plain": [
       "0.15232298950747258"
      ]
     },
     "execution_count": 103,
     "metadata": {},
     "output_type": "execute_result"
    }
   ],
   "source": [
    "mod5 = smf.ols('age ~ hypertension + heart_disease + avg_glucose_level', data = df).fit()\n",
    "mod5.rsquared"
   ]
  },
  {
   "cell_type": "markdown",
   "metadata": {},
   "source": [
    "If we had to delete an explantory variable from the model, we would delete the average glucose level variable because that leaves us with the highest R-squared value."
   ]
  },
  {
   "cell_type": "markdown",
   "metadata": {},
   "source": [
    "The percent variability of my response variable explained by the model is 22.3%, which is low."
   ]
  },
  {
   "cell_type": "code",
   "execution_count": 104,
   "metadata": {},
   "outputs": [
    {
     "data": {
      "text/plain": [
       "68.3606"
      ]
     },
     "execution_count": 104,
     "metadata": {},
     "output_type": "execute_result"
    }
   ],
   "source": [
    "# Prediction of age for someone who has no history of hypertension, does have history of heart disease, an avgerage glucose level of 170, and a bmi of 32.\n",
    "stroke_predict = 11.2865 + 14.2551*0 + 21.3793*1 + 0.0626*170 + 0.7829*32\n",
    "stroke_predict"
   ]
  },
  {
   "cell_type": "markdown",
   "metadata": {},
   "source": [
    "We would expect that a person that has no history of hypertension, does have a history of heart disease, an average glucose level of 170, and a bmi of 32 to be 69 years old (since age is measured in decimals, I am rounding up to the nearest whole number)."
   ]
  },
  {
   "cell_type": "markdown",
   "metadata": {},
   "source": [
    "We would like to determine if we have sufficient evidence to suggest that at least one of the slopes in our corresponding population model is non-zero.</br>\n",
    "</br>\n",
    "$H_0 : \\beta_{hypertension} = \\beta_{heartdisease} = \\beta_{avgglucoselevel} = \\beta_{bmi} = 0$ </br>\n",
    "$H_A$ : at least one $\\beta_{i} \\neq 0$ for $i$ = hypertension, heart disease, avg glucose level, bmi"
   ]
  },
  {
   "cell_type": "code",
   "execution_count": 105,
   "metadata": {},
   "outputs": [
    {
     "data": {
      "text/plain": [
       "1.1102230246251565e-16"
      ]
     },
     "execution_count": 105,
     "metadata": {},
     "output_type": "execute_result"
    }
   ],
   "source": [
    "t_stat = 351.7\n",
    "p_val = 1.38e-266\n",
    "\n",
    "p = 4\n",
    "n = df.shape[0]\n",
    "pval = 1 - f.cdf(t_stat, dfn = p, dfd = n - p - 1)\n",
    "pval"
   ]
  },
  {
   "cell_type": "markdown",
   "metadata": {},
   "source": [
    "Using a significance level of $\\alpha$ = 0.05, since the p-value = 1.11e-16 < 0.05, we reject the null hypothesis. Thus there is sufficient evidence to suggest that at least one of the slopes in the corresponding population model is non-zero."
   ]
  },
  {
   "cell_type": "markdown",
   "metadata": {},
   "source": [
    "*Quick Note: this test is a bit vague because we are not able to see which slope is non-zero. However, if we were to perform a hypothesis test for each individual slope, we will have a 81.5% chance of making a type I error (0.95**2), which is why I did not perform that test*"
   ]
  },
  {
   "cell_type": "markdown",
   "metadata": {},
   "source": [
    "A linear regression model allows us to estimate how a dependent variable changes as the independent variable changes. In our case, this linear regression analysis showed us how the likeliness of someone having a stroke is based off the 4 explanatory variables: age, hypertension, heart disease, and average glucose level. We found the following linear regression equation:\n",
    "$\\hat{age} = 11.2865 + 14.2551hypertension + 21.3793heartdisease + 0.0626avgglucoselevel + 0.7829bmi$ and discovered that this model has a 22.3% variability of the response variable that is explained by the model, which is very low. Finally, we see that at least one of the slopes in the corresponding population model is non-zero so there is a linear relationship between age and hypertension, heart disease, average glucose level, and bmi, but not a strong relationship."
   ]
  },
  {
   "cell_type": "markdown",
   "metadata": {},
   "source": [
    "## 5. Logistic Regression"
   ]
  },
  {
   "cell_type": "markdown",
   "metadata": {},
   "source": [
    "Is there a linear relationship between the log-odds of someone having a stroke and if they smoked, age, history of heart disease, average glucose level, and bmi?"
   ]
  },
  {
   "cell_type": "code",
   "execution_count": 106,
   "metadata": {},
   "outputs": [
    {
     "data": {
      "text/html": [
       "<div>\n",
       "<style scoped>\n",
       "    .dataframe tbody tr th:only-of-type {\n",
       "        vertical-align: middle;\n",
       "    }\n",
       "\n",
       "    .dataframe tbody tr th {\n",
       "        vertical-align: top;\n",
       "    }\n",
       "\n",
       "    .dataframe thead th {\n",
       "        text-align: right;\n",
       "    }\n",
       "</style>\n",
       "<table border=\"1\" class=\"dataframe\">\n",
       "  <thead>\n",
       "    <tr style=\"text-align: right;\">\n",
       "      <th></th>\n",
       "      <th>id</th>\n",
       "      <th>gender</th>\n",
       "      <th>age</th>\n",
       "      <th>hypertension</th>\n",
       "      <th>heart_disease</th>\n",
       "      <th>ever_married</th>\n",
       "      <th>work_type</th>\n",
       "      <th>Residence_type</th>\n",
       "      <th>avg_glucose_level</th>\n",
       "      <th>bmi</th>\n",
       "      <th>smoking_status</th>\n",
       "      <th>stroke</th>\n",
       "      <th>gender_map</th>\n",
       "      <th>smoker</th>\n",
       "    </tr>\n",
       "  </thead>\n",
       "  <tbody>\n",
       "    <tr>\n",
       "      <th>5104</th>\n",
       "      <td>14180</td>\n",
       "      <td>Female</td>\n",
       "      <td>13.0</td>\n",
       "      <td>0</td>\n",
       "      <td>0</td>\n",
       "      <td>No</td>\n",
       "      <td>children</td>\n",
       "      <td>Rural</td>\n",
       "      <td>103.08</td>\n",
       "      <td>18.6</td>\n",
       "      <td>Unknown</td>\n",
       "      <td>0</td>\n",
       "      <td>1.0</td>\n",
       "      <td>0</td>\n",
       "    </tr>\n",
       "    <tr>\n",
       "      <th>5106</th>\n",
       "      <td>44873</td>\n",
       "      <td>Female</td>\n",
       "      <td>81.0</td>\n",
       "      <td>0</td>\n",
       "      <td>0</td>\n",
       "      <td>Yes</td>\n",
       "      <td>Self-employed</td>\n",
       "      <td>Urban</td>\n",
       "      <td>125.20</td>\n",
       "      <td>40.0</td>\n",
       "      <td>never smoked</td>\n",
       "      <td>0</td>\n",
       "      <td>1.0</td>\n",
       "      <td>0</td>\n",
       "    </tr>\n",
       "    <tr>\n",
       "      <th>5107</th>\n",
       "      <td>19723</td>\n",
       "      <td>Female</td>\n",
       "      <td>35.0</td>\n",
       "      <td>0</td>\n",
       "      <td>0</td>\n",
       "      <td>Yes</td>\n",
       "      <td>Self-employed</td>\n",
       "      <td>Rural</td>\n",
       "      <td>82.99</td>\n",
       "      <td>30.6</td>\n",
       "      <td>never smoked</td>\n",
       "      <td>0</td>\n",
       "      <td>1.0</td>\n",
       "      <td>0</td>\n",
       "    </tr>\n",
       "    <tr>\n",
       "      <th>5108</th>\n",
       "      <td>37544</td>\n",
       "      <td>Male</td>\n",
       "      <td>51.0</td>\n",
       "      <td>0</td>\n",
       "      <td>0</td>\n",
       "      <td>Yes</td>\n",
       "      <td>Private</td>\n",
       "      <td>Rural</td>\n",
       "      <td>166.29</td>\n",
       "      <td>25.6</td>\n",
       "      <td>formerly smoked</td>\n",
       "      <td>0</td>\n",
       "      <td>0.0</td>\n",
       "      <td>1</td>\n",
       "    </tr>\n",
       "    <tr>\n",
       "      <th>5109</th>\n",
       "      <td>44679</td>\n",
       "      <td>Female</td>\n",
       "      <td>44.0</td>\n",
       "      <td>0</td>\n",
       "      <td>0</td>\n",
       "      <td>Yes</td>\n",
       "      <td>Govt_job</td>\n",
       "      <td>Urban</td>\n",
       "      <td>85.28</td>\n",
       "      <td>26.2</td>\n",
       "      <td>Unknown</td>\n",
       "      <td>0</td>\n",
       "      <td>1.0</td>\n",
       "      <td>0</td>\n",
       "    </tr>\n",
       "  </tbody>\n",
       "</table>\n",
       "</div>"
      ],
      "text/plain": [
       "         id  gender   age  hypertension  heart_disease ever_married  \\\n",
       "5104  14180  Female  13.0             0              0           No   \n",
       "5106  44873  Female  81.0             0              0          Yes   \n",
       "5107  19723  Female  35.0             0              0          Yes   \n",
       "5108  37544    Male  51.0             0              0          Yes   \n",
       "5109  44679  Female  44.0             0              0          Yes   \n",
       "\n",
       "          work_type Residence_type  avg_glucose_level   bmi   smoking_status  \\\n",
       "5104       children          Rural             103.08  18.6          Unknown   \n",
       "5106  Self-employed          Urban             125.20  40.0     never smoked   \n",
       "5107  Self-employed          Rural              82.99  30.6     never smoked   \n",
       "5108        Private          Rural             166.29  25.6  formerly smoked   \n",
       "5109       Govt_job          Urban              85.28  26.2          Unknown   \n",
       "\n",
       "      stroke  gender_map  smoker  \n",
       "5104       0         1.0       0  \n",
       "5106       0         1.0       0  \n",
       "5107       0         1.0       0  \n",
       "5108       0         0.0       1  \n",
       "5109       0         1.0       0  "
      ]
     },
     "execution_count": 106,
     "metadata": {},
     "output_type": "execute_result"
    }
   ],
   "source": [
    "df['smoker'] = df['smoking_status'].map({'formerly smoked':1, 'smokes':1, 'never smoked': 0, 'Unknown': 0})\n",
    "df.tail()"
   ]
  },
  {
   "cell_type": "code",
   "execution_count": 107,
   "metadata": {},
   "outputs": [
    {
     "data": {
      "text/html": [
       "<div>\n",
       "<style scoped>\n",
       "    .dataframe tbody tr th:only-of-type {\n",
       "        vertical-align: middle;\n",
       "    }\n",
       "\n",
       "    .dataframe tbody tr th {\n",
       "        vertical-align: top;\n",
       "    }\n",
       "\n",
       "    .dataframe thead th {\n",
       "        text-align: right;\n",
       "    }\n",
       "</style>\n",
       "<table border=\"1\" class=\"dataframe\">\n",
       "  <thead>\n",
       "    <tr style=\"text-align: right;\">\n",
       "      <th></th>\n",
       "      <th>age</th>\n",
       "      <th>heart_disease</th>\n",
       "      <th>avg_glucose_level</th>\n",
       "      <th>bmi</th>\n",
       "      <th>smoking_status</th>\n",
       "      <th>smoker</th>\n",
       "      <th>stroke</th>\n",
       "    </tr>\n",
       "  </thead>\n",
       "  <tbody>\n",
       "    <tr>\n",
       "      <th>0</th>\n",
       "      <td>67.0</td>\n",
       "      <td>1</td>\n",
       "      <td>228.69</td>\n",
       "      <td>36.6</td>\n",
       "      <td>formerly smoked</td>\n",
       "      <td>1</td>\n",
       "      <td>1</td>\n",
       "    </tr>\n",
       "    <tr>\n",
       "      <th>2</th>\n",
       "      <td>80.0</td>\n",
       "      <td>1</td>\n",
       "      <td>105.92</td>\n",
       "      <td>32.5</td>\n",
       "      <td>never smoked</td>\n",
       "      <td>0</td>\n",
       "      <td>1</td>\n",
       "    </tr>\n",
       "    <tr>\n",
       "      <th>3</th>\n",
       "      <td>49.0</td>\n",
       "      <td>0</td>\n",
       "      <td>171.23</td>\n",
       "      <td>34.4</td>\n",
       "      <td>smokes</td>\n",
       "      <td>1</td>\n",
       "      <td>1</td>\n",
       "    </tr>\n",
       "    <tr>\n",
       "      <th>4</th>\n",
       "      <td>79.0</td>\n",
       "      <td>0</td>\n",
       "      <td>174.12</td>\n",
       "      <td>24.0</td>\n",
       "      <td>never smoked</td>\n",
       "      <td>0</td>\n",
       "      <td>1</td>\n",
       "    </tr>\n",
       "    <tr>\n",
       "      <th>5</th>\n",
       "      <td>81.0</td>\n",
       "      <td>0</td>\n",
       "      <td>186.21</td>\n",
       "      <td>29.0</td>\n",
       "      <td>formerly smoked</td>\n",
       "      <td>1</td>\n",
       "      <td>1</td>\n",
       "    </tr>\n",
       "    <tr>\n",
       "      <th>...</th>\n",
       "      <td>...</td>\n",
       "      <td>...</td>\n",
       "      <td>...</td>\n",
       "      <td>...</td>\n",
       "      <td>...</td>\n",
       "      <td>...</td>\n",
       "      <td>...</td>\n",
       "    </tr>\n",
       "    <tr>\n",
       "      <th>5104</th>\n",
       "      <td>13.0</td>\n",
       "      <td>0</td>\n",
       "      <td>103.08</td>\n",
       "      <td>18.6</td>\n",
       "      <td>Unknown</td>\n",
       "      <td>0</td>\n",
       "      <td>0</td>\n",
       "    </tr>\n",
       "    <tr>\n",
       "      <th>5106</th>\n",
       "      <td>81.0</td>\n",
       "      <td>0</td>\n",
       "      <td>125.20</td>\n",
       "      <td>40.0</td>\n",
       "      <td>never smoked</td>\n",
       "      <td>0</td>\n",
       "      <td>0</td>\n",
       "    </tr>\n",
       "    <tr>\n",
       "      <th>5107</th>\n",
       "      <td>35.0</td>\n",
       "      <td>0</td>\n",
       "      <td>82.99</td>\n",
       "      <td>30.6</td>\n",
       "      <td>never smoked</td>\n",
       "      <td>0</td>\n",
       "      <td>0</td>\n",
       "    </tr>\n",
       "    <tr>\n",
       "      <th>5108</th>\n",
       "      <td>51.0</td>\n",
       "      <td>0</td>\n",
       "      <td>166.29</td>\n",
       "      <td>25.6</td>\n",
       "      <td>formerly smoked</td>\n",
       "      <td>1</td>\n",
       "      <td>0</td>\n",
       "    </tr>\n",
       "    <tr>\n",
       "      <th>5109</th>\n",
       "      <td>44.0</td>\n",
       "      <td>0</td>\n",
       "      <td>85.28</td>\n",
       "      <td>26.2</td>\n",
       "      <td>Unknown</td>\n",
       "      <td>0</td>\n",
       "      <td>0</td>\n",
       "    </tr>\n",
       "  </tbody>\n",
       "</table>\n",
       "<p>4909 rows × 7 columns</p>\n",
       "</div>"
      ],
      "text/plain": [
       "       age  heart_disease  avg_glucose_level   bmi   smoking_status  smoker  \\\n",
       "0     67.0              1             228.69  36.6  formerly smoked       1   \n",
       "2     80.0              1             105.92  32.5     never smoked       0   \n",
       "3     49.0              0             171.23  34.4           smokes       1   \n",
       "4     79.0              0             174.12  24.0     never smoked       0   \n",
       "5     81.0              0             186.21  29.0  formerly smoked       1   \n",
       "...    ...            ...                ...   ...              ...     ...   \n",
       "5104  13.0              0             103.08  18.6          Unknown       0   \n",
       "5106  81.0              0             125.20  40.0     never smoked       0   \n",
       "5107  35.0              0              82.99  30.6     never smoked       0   \n",
       "5108  51.0              0             166.29  25.6  formerly smoked       1   \n",
       "5109  44.0              0              85.28  26.2          Unknown       0   \n",
       "\n",
       "      stroke  \n",
       "0          1  \n",
       "2          1  \n",
       "3          1  \n",
       "4          1  \n",
       "5          1  \n",
       "...      ...  \n",
       "5104       0  \n",
       "5106       0  \n",
       "5107       0  \n",
       "5108       0  \n",
       "5109       0  \n",
       "\n",
       "[4909 rows x 7 columns]"
      ]
     },
     "execution_count": 107,
     "metadata": {},
     "output_type": "execute_result"
    }
   ],
   "source": [
    "df[['age', 'heart_disease', 'avg_glucose_level', 'bmi', 'smoking_status', 'smoker', 'stroke']]"
   ]
  },
  {
   "cell_type": "code",
   "execution_count": 108,
   "metadata": {},
   "outputs": [
    {
     "name": "stdout",
     "output_type": "stream",
     "text": [
      "Optimization terminated successfully.\n",
      "         Current function value: 0.140672\n",
      "         Iterations 9\n"
     ]
    },
    {
     "data": {
      "text/html": [
       "<table class=\"simpletable\">\n",
       "<caption>Logit Regression Results</caption>\n",
       "<tr>\n",
       "  <th>Dep. Variable:</th>        <td>stroke</td>      <th>  No. Observations:  </th>  <td>  4909</td>  \n",
       "</tr>\n",
       "<tr>\n",
       "  <th>Model:</th>                 <td>Logit</td>      <th>  Df Residuals:      </th>  <td>  4903</td>  \n",
       "</tr>\n",
       "<tr>\n",
       "  <th>Method:</th>                 <td>MLE</td>       <th>  Df Model:          </th>  <td>     5</td>  \n",
       "</tr>\n",
       "<tr>\n",
       "  <th>Date:</th>            <td>Tue, 07 Dec 2021</td> <th>  Pseudo R-squ.:     </th>  <td>0.2009</td>  \n",
       "</tr>\n",
       "<tr>\n",
       "  <th>Time:</th>                <td>18:05:57</td>     <th>  Log-Likelihood:    </th> <td> -690.56</td> \n",
       "</tr>\n",
       "<tr>\n",
       "  <th>converged:</th>             <td>True</td>       <th>  LL-Null:           </th> <td> -864.19</td> \n",
       "</tr>\n",
       "<tr>\n",
       "  <th>Covariance Type:</th>     <td>nonrobust</td>    <th>  LLR p-value:       </th> <td>6.776e-73</td>\n",
       "</tr>\n",
       "</table>\n",
       "<table class=\"simpletable\">\n",
       "<tr>\n",
       "          <td></td>             <th>coef</th>     <th>std err</th>      <th>z</th>      <th>P>|z|</th>  <th>[0.025</th>    <th>0.975]</th>  \n",
       "</tr>\n",
       "<tr>\n",
       "  <th>Intercept</th>         <td>   -8.0537</td> <td>    0.549</td> <td>  -14.664</td> <td> 0.000</td> <td>   -9.130</td> <td>   -6.977</td>\n",
       "</tr>\n",
       "<tr>\n",
       "  <th>smoker</th>            <td>    0.2333</td> <td>    0.150</td> <td>    1.559</td> <td> 0.119</td> <td>   -0.060</td> <td>    0.527</td>\n",
       "</tr>\n",
       "<tr>\n",
       "  <th>age</th>               <td>    0.0703</td> <td>    0.006</td> <td>   12.413</td> <td> 0.000</td> <td>    0.059</td> <td>    0.081</td>\n",
       "</tr>\n",
       "<tr>\n",
       "  <th>heart_disease</th>     <td>    0.3993</td> <td>    0.203</td> <td>    1.964</td> <td> 0.049</td> <td>    0.001</td> <td>    0.798</td>\n",
       "</tr>\n",
       "<tr>\n",
       "  <th>avg_glucose_level</th> <td>    0.0051</td> <td>    0.001</td> <td>    4.006</td> <td> 0.000</td> <td>    0.003</td> <td>    0.008</td>\n",
       "</tr>\n",
       "<tr>\n",
       "  <th>bmi</th>               <td>    0.0063</td> <td>    0.012</td> <td>    0.544</td> <td> 0.586</td> <td>   -0.017</td> <td>    0.029</td>\n",
       "</tr>\n",
       "</table>"
      ],
      "text/plain": [
       "<class 'statsmodels.iolib.summary.Summary'>\n",
       "\"\"\"\n",
       "                           Logit Regression Results                           \n",
       "==============================================================================\n",
       "Dep. Variable:                 stroke   No. Observations:                 4909\n",
       "Model:                          Logit   Df Residuals:                     4903\n",
       "Method:                           MLE   Df Model:                            5\n",
       "Date:                Tue, 07 Dec 2021   Pseudo R-squ.:                  0.2009\n",
       "Time:                        18:05:57   Log-Likelihood:                -690.56\n",
       "converged:                       True   LL-Null:                       -864.19\n",
       "Covariance Type:            nonrobust   LLR p-value:                 6.776e-73\n",
       "=====================================================================================\n",
       "                        coef    std err          z      P>|z|      [0.025      0.975]\n",
       "-------------------------------------------------------------------------------------\n",
       "Intercept            -8.0537      0.549    -14.664      0.000      -9.130      -6.977\n",
       "smoker                0.2333      0.150      1.559      0.119      -0.060       0.527\n",
       "age                   0.0703      0.006     12.413      0.000       0.059       0.081\n",
       "heart_disease         0.3993      0.203      1.964      0.049       0.001       0.798\n",
       "avg_glucose_level     0.0051      0.001      4.006      0.000       0.003       0.008\n",
       "bmi                   0.0063      0.012      0.544      0.586      -0.017       0.029\n",
       "=====================================================================================\n",
       "\"\"\""
      ]
     },
     "execution_count": 108,
     "metadata": {},
     "output_type": "execute_result"
    }
   ],
   "source": [
    "mod = smf.logit('stroke ~ smoker + age + heart_disease + avg_glucose_level + bmi', data = df).fit()\n",
    "mod.summary()"
   ]
  },
  {
   "cell_type": "code",
   "execution_count": 109,
   "metadata": {},
   "outputs": [],
   "source": [
    "df_train, df_test = train_test_split(df, test_size = 0.20, random_state = 207)"
   ]
  },
  {
   "cell_type": "code",
   "execution_count": 110,
   "metadata": {},
   "outputs": [
    {
     "data": {
      "text/html": [
       "<div>\n",
       "<style scoped>\n",
       "    .dataframe tbody tr th:only-of-type {\n",
       "        vertical-align: middle;\n",
       "    }\n",
       "\n",
       "    .dataframe tbody tr th {\n",
       "        vertical-align: top;\n",
       "    }\n",
       "\n",
       "    .dataframe thead th {\n",
       "        text-align: right;\n",
       "    }\n",
       "</style>\n",
       "<table border=\"1\" class=\"dataframe\">\n",
       "  <thead>\n",
       "    <tr style=\"text-align: right;\">\n",
       "      <th></th>\n",
       "      <th>id</th>\n",
       "      <th>gender</th>\n",
       "      <th>age</th>\n",
       "      <th>hypertension</th>\n",
       "      <th>heart_disease</th>\n",
       "      <th>ever_married</th>\n",
       "      <th>work_type</th>\n",
       "      <th>Residence_type</th>\n",
       "      <th>avg_glucose_level</th>\n",
       "      <th>bmi</th>\n",
       "      <th>smoking_status</th>\n",
       "      <th>stroke</th>\n",
       "      <th>gender_map</th>\n",
       "      <th>smoker</th>\n",
       "    </tr>\n",
       "  </thead>\n",
       "  <tbody>\n",
       "    <tr>\n",
       "      <th>460</th>\n",
       "      <td>2893</td>\n",
       "      <td>Female</td>\n",
       "      <td>7.0</td>\n",
       "      <td>0</td>\n",
       "      <td>0</td>\n",
       "      <td>No</td>\n",
       "      <td>children</td>\n",
       "      <td>Rural</td>\n",
       "      <td>72.35</td>\n",
       "      <td>17.0</td>\n",
       "      <td>Unknown</td>\n",
       "      <td>0</td>\n",
       "      <td>1.0</td>\n",
       "      <td>0</td>\n",
       "    </tr>\n",
       "    <tr>\n",
       "      <th>581</th>\n",
       "      <td>44315</td>\n",
       "      <td>Male</td>\n",
       "      <td>18.0</td>\n",
       "      <td>0</td>\n",
       "      <td>0</td>\n",
       "      <td>No</td>\n",
       "      <td>Self-employed</td>\n",
       "      <td>Rural</td>\n",
       "      <td>182.86</td>\n",
       "      <td>21.0</td>\n",
       "      <td>Unknown</td>\n",
       "      <td>0</td>\n",
       "      <td>0.0</td>\n",
       "      <td>0</td>\n",
       "    </tr>\n",
       "    <tr>\n",
       "      <th>1732</th>\n",
       "      <td>24272</td>\n",
       "      <td>Male</td>\n",
       "      <td>63.0</td>\n",
       "      <td>0</td>\n",
       "      <td>0</td>\n",
       "      <td>Yes</td>\n",
       "      <td>Govt_job</td>\n",
       "      <td>Rural</td>\n",
       "      <td>217.66</td>\n",
       "      <td>28.7</td>\n",
       "      <td>formerly smoked</td>\n",
       "      <td>0</td>\n",
       "      <td>0.0</td>\n",
       "      <td>1</td>\n",
       "    </tr>\n",
       "    <tr>\n",
       "      <th>3601</th>\n",
       "      <td>54962</td>\n",
       "      <td>Female</td>\n",
       "      <td>27.0</td>\n",
       "      <td>0</td>\n",
       "      <td>0</td>\n",
       "      <td>No</td>\n",
       "      <td>Private</td>\n",
       "      <td>Urban</td>\n",
       "      <td>82.05</td>\n",
       "      <td>21.0</td>\n",
       "      <td>Unknown</td>\n",
       "      <td>0</td>\n",
       "      <td>1.0</td>\n",
       "      <td>0</td>\n",
       "    </tr>\n",
       "    <tr>\n",
       "      <th>3963</th>\n",
       "      <td>49400</td>\n",
       "      <td>Male</td>\n",
       "      <td>75.0</td>\n",
       "      <td>0</td>\n",
       "      <td>0</td>\n",
       "      <td>Yes</td>\n",
       "      <td>Private</td>\n",
       "      <td>Rural</td>\n",
       "      <td>97.22</td>\n",
       "      <td>28.4</td>\n",
       "      <td>never smoked</td>\n",
       "      <td>0</td>\n",
       "      <td>0.0</td>\n",
       "      <td>0</td>\n",
       "    </tr>\n",
       "    <tr>\n",
       "      <th>...</th>\n",
       "      <td>...</td>\n",
       "      <td>...</td>\n",
       "      <td>...</td>\n",
       "      <td>...</td>\n",
       "      <td>...</td>\n",
       "      <td>...</td>\n",
       "      <td>...</td>\n",
       "      <td>...</td>\n",
       "      <td>...</td>\n",
       "      <td>...</td>\n",
       "      <td>...</td>\n",
       "      <td>...</td>\n",
       "      <td>...</td>\n",
       "      <td>...</td>\n",
       "    </tr>\n",
       "    <tr>\n",
       "      <th>943</th>\n",
       "      <td>35222</td>\n",
       "      <td>Female</td>\n",
       "      <td>75.0</td>\n",
       "      <td>0</td>\n",
       "      <td>0</td>\n",
       "      <td>Yes</td>\n",
       "      <td>Private</td>\n",
       "      <td>Urban</td>\n",
       "      <td>86.40</td>\n",
       "      <td>42.6</td>\n",
       "      <td>never smoked</td>\n",
       "      <td>0</td>\n",
       "      <td>1.0</td>\n",
       "      <td>0</td>\n",
       "    </tr>\n",
       "    <tr>\n",
       "      <th>4357</th>\n",
       "      <td>38980</td>\n",
       "      <td>Male</td>\n",
       "      <td>61.0</td>\n",
       "      <td>0</td>\n",
       "      <td>0</td>\n",
       "      <td>Yes</td>\n",
       "      <td>Govt_job</td>\n",
       "      <td>Urban</td>\n",
       "      <td>107.33</td>\n",
       "      <td>26.4</td>\n",
       "      <td>formerly smoked</td>\n",
       "      <td>0</td>\n",
       "      <td>0.0</td>\n",
       "      <td>1</td>\n",
       "    </tr>\n",
       "    <tr>\n",
       "      <th>2589</th>\n",
       "      <td>31402</td>\n",
       "      <td>Female</td>\n",
       "      <td>62.0</td>\n",
       "      <td>0</td>\n",
       "      <td>0</td>\n",
       "      <td>Yes</td>\n",
       "      <td>Self-employed</td>\n",
       "      <td>Rural</td>\n",
       "      <td>102.21</td>\n",
       "      <td>36.3</td>\n",
       "      <td>never smoked</td>\n",
       "      <td>0</td>\n",
       "      <td>1.0</td>\n",
       "      <td>0</td>\n",
       "    </tr>\n",
       "    <tr>\n",
       "      <th>2079</th>\n",
       "      <td>55522</td>\n",
       "      <td>Female</td>\n",
       "      <td>4.0</td>\n",
       "      <td>0</td>\n",
       "      <td>0</td>\n",
       "      <td>No</td>\n",
       "      <td>children</td>\n",
       "      <td>Rural</td>\n",
       "      <td>206.25</td>\n",
       "      <td>17.0</td>\n",
       "      <td>Unknown</td>\n",
       "      <td>0</td>\n",
       "      <td>1.0</td>\n",
       "      <td>0</td>\n",
       "    </tr>\n",
       "    <tr>\n",
       "      <th>3758</th>\n",
       "      <td>38284</td>\n",
       "      <td>Male</td>\n",
       "      <td>8.0</td>\n",
       "      <td>0</td>\n",
       "      <td>0</td>\n",
       "      <td>No</td>\n",
       "      <td>children</td>\n",
       "      <td>Rural</td>\n",
       "      <td>77.08</td>\n",
       "      <td>16.9</td>\n",
       "      <td>Unknown</td>\n",
       "      <td>0</td>\n",
       "      <td>0.0</td>\n",
       "      <td>0</td>\n",
       "    </tr>\n",
       "  </tbody>\n",
       "</table>\n",
       "<p>3927 rows × 14 columns</p>\n",
       "</div>"
      ],
      "text/plain": [
       "         id  gender   age  hypertension  heart_disease ever_married  \\\n",
       "460    2893  Female   7.0             0              0           No   \n",
       "581   44315    Male  18.0             0              0           No   \n",
       "1732  24272    Male  63.0             0              0          Yes   \n",
       "3601  54962  Female  27.0             0              0           No   \n",
       "3963  49400    Male  75.0             0              0          Yes   \n",
       "...     ...     ...   ...           ...            ...          ...   \n",
       "943   35222  Female  75.0             0              0          Yes   \n",
       "4357  38980    Male  61.0             0              0          Yes   \n",
       "2589  31402  Female  62.0             0              0          Yes   \n",
       "2079  55522  Female   4.0             0              0           No   \n",
       "3758  38284    Male   8.0             0              0           No   \n",
       "\n",
       "          work_type Residence_type  avg_glucose_level   bmi   smoking_status  \\\n",
       "460        children          Rural              72.35  17.0          Unknown   \n",
       "581   Self-employed          Rural             182.86  21.0          Unknown   \n",
       "1732       Govt_job          Rural             217.66  28.7  formerly smoked   \n",
       "3601        Private          Urban              82.05  21.0          Unknown   \n",
       "3963        Private          Rural              97.22  28.4     never smoked   \n",
       "...             ...            ...                ...   ...              ...   \n",
       "943         Private          Urban              86.40  42.6     never smoked   \n",
       "4357       Govt_job          Urban             107.33  26.4  formerly smoked   \n",
       "2589  Self-employed          Rural             102.21  36.3     never smoked   \n",
       "2079       children          Rural             206.25  17.0          Unknown   \n",
       "3758       children          Rural              77.08  16.9          Unknown   \n",
       "\n",
       "      stroke  gender_map  smoker  \n",
       "460        0         1.0       0  \n",
       "581        0         0.0       0  \n",
       "1732       0         0.0       1  \n",
       "3601       0         1.0       0  \n",
       "3963       0         0.0       0  \n",
       "...      ...         ...     ...  \n",
       "943        0         1.0       0  \n",
       "4357       0         0.0       1  \n",
       "2589       0         1.0       0  \n",
       "2079       0         1.0       0  \n",
       "3758       0         0.0       0  \n",
       "\n",
       "[3927 rows x 14 columns]"
      ]
     },
     "execution_count": 110,
     "metadata": {},
     "output_type": "execute_result"
    }
   ],
   "source": [
    "df_train"
   ]
  },
  {
   "cell_type": "code",
   "execution_count": 111,
   "metadata": {},
   "outputs": [
    {
     "data": {
      "text/html": [
       "<div>\n",
       "<style scoped>\n",
       "    .dataframe tbody tr th:only-of-type {\n",
       "        vertical-align: middle;\n",
       "    }\n",
       "\n",
       "    .dataframe tbody tr th {\n",
       "        vertical-align: top;\n",
       "    }\n",
       "\n",
       "    .dataframe thead th {\n",
       "        text-align: right;\n",
       "    }\n",
       "</style>\n",
       "<table border=\"1\" class=\"dataframe\">\n",
       "  <thead>\n",
       "    <tr style=\"text-align: right;\">\n",
       "      <th></th>\n",
       "      <th>id</th>\n",
       "      <th>gender</th>\n",
       "      <th>age</th>\n",
       "      <th>hypertension</th>\n",
       "      <th>heart_disease</th>\n",
       "      <th>ever_married</th>\n",
       "      <th>work_type</th>\n",
       "      <th>Residence_type</th>\n",
       "      <th>avg_glucose_level</th>\n",
       "      <th>bmi</th>\n",
       "      <th>smoking_status</th>\n",
       "      <th>stroke</th>\n",
       "      <th>gender_map</th>\n",
       "      <th>smoker</th>\n",
       "    </tr>\n",
       "  </thead>\n",
       "  <tbody>\n",
       "    <tr>\n",
       "      <th>786</th>\n",
       "      <td>24665</td>\n",
       "      <td>Female</td>\n",
       "      <td>64.0</td>\n",
       "      <td>1</td>\n",
       "      <td>0</td>\n",
       "      <td>Yes</td>\n",
       "      <td>Private</td>\n",
       "      <td>Rural</td>\n",
       "      <td>93.99</td>\n",
       "      <td>37.8</td>\n",
       "      <td>formerly smoked</td>\n",
       "      <td>0</td>\n",
       "      <td>1.0</td>\n",
       "      <td>1</td>\n",
       "    </tr>\n",
       "    <tr>\n",
       "      <th>3264</th>\n",
       "      <td>24836</td>\n",
       "      <td>Female</td>\n",
       "      <td>61.0</td>\n",
       "      <td>0</td>\n",
       "      <td>0</td>\n",
       "      <td>Yes</td>\n",
       "      <td>Private</td>\n",
       "      <td>Rural</td>\n",
       "      <td>72.01</td>\n",
       "      <td>26.0</td>\n",
       "      <td>formerly smoked</td>\n",
       "      <td>0</td>\n",
       "      <td>1.0</td>\n",
       "      <td>1</td>\n",
       "    </tr>\n",
       "    <tr>\n",
       "      <th>30</th>\n",
       "      <td>43717</td>\n",
       "      <td>Male</td>\n",
       "      <td>57.0</td>\n",
       "      <td>1</td>\n",
       "      <td>0</td>\n",
       "      <td>Yes</td>\n",
       "      <td>Private</td>\n",
       "      <td>Urban</td>\n",
       "      <td>212.08</td>\n",
       "      <td>44.2</td>\n",
       "      <td>smokes</td>\n",
       "      <td>1</td>\n",
       "      <td>0.0</td>\n",
       "      <td>1</td>\n",
       "    </tr>\n",
       "    <tr>\n",
       "      <th>846</th>\n",
       "      <td>12270</td>\n",
       "      <td>Male</td>\n",
       "      <td>71.0</td>\n",
       "      <td>0</td>\n",
       "      <td>0</td>\n",
       "      <td>Yes</td>\n",
       "      <td>Govt_job</td>\n",
       "      <td>Rural</td>\n",
       "      <td>186.45</td>\n",
       "      <td>26.7</td>\n",
       "      <td>never smoked</td>\n",
       "      <td>0</td>\n",
       "      <td>0.0</td>\n",
       "      <td>0</td>\n",
       "    </tr>\n",
       "    <tr>\n",
       "      <th>3396</th>\n",
       "      <td>19828</td>\n",
       "      <td>Female</td>\n",
       "      <td>56.0</td>\n",
       "      <td>1</td>\n",
       "      <td>0</td>\n",
       "      <td>Yes</td>\n",
       "      <td>Private</td>\n",
       "      <td>Rural</td>\n",
       "      <td>97.37</td>\n",
       "      <td>34.1</td>\n",
       "      <td>smokes</td>\n",
       "      <td>0</td>\n",
       "      <td>1.0</td>\n",
       "      <td>1</td>\n",
       "    </tr>\n",
       "    <tr>\n",
       "      <th>...</th>\n",
       "      <td>...</td>\n",
       "      <td>...</td>\n",
       "      <td>...</td>\n",
       "      <td>...</td>\n",
       "      <td>...</td>\n",
       "      <td>...</td>\n",
       "      <td>...</td>\n",
       "      <td>...</td>\n",
       "      <td>...</td>\n",
       "      <td>...</td>\n",
       "      <td>...</td>\n",
       "      <td>...</td>\n",
       "      <td>...</td>\n",
       "      <td>...</td>\n",
       "    </tr>\n",
       "    <tr>\n",
       "      <th>1582</th>\n",
       "      <td>24218</td>\n",
       "      <td>Female</td>\n",
       "      <td>78.0</td>\n",
       "      <td>0</td>\n",
       "      <td>0</td>\n",
       "      <td>No</td>\n",
       "      <td>Private</td>\n",
       "      <td>Rural</td>\n",
       "      <td>87.70</td>\n",
       "      <td>29.6</td>\n",
       "      <td>never smoked</td>\n",
       "      <td>0</td>\n",
       "      <td>1.0</td>\n",
       "      <td>0</td>\n",
       "    </tr>\n",
       "    <tr>\n",
       "      <th>2119</th>\n",
       "      <td>25930</td>\n",
       "      <td>Male</td>\n",
       "      <td>42.0</td>\n",
       "      <td>0</td>\n",
       "      <td>0</td>\n",
       "      <td>Yes</td>\n",
       "      <td>Private</td>\n",
       "      <td>Urban</td>\n",
       "      <td>68.24</td>\n",
       "      <td>33.1</td>\n",
       "      <td>formerly smoked</td>\n",
       "      <td>0</td>\n",
       "      <td>0.0</td>\n",
       "      <td>1</td>\n",
       "    </tr>\n",
       "    <tr>\n",
       "      <th>4045</th>\n",
       "      <td>56195</td>\n",
       "      <td>Male</td>\n",
       "      <td>37.0</td>\n",
       "      <td>0</td>\n",
       "      <td>0</td>\n",
       "      <td>Yes</td>\n",
       "      <td>Govt_job</td>\n",
       "      <td>Urban</td>\n",
       "      <td>156.69</td>\n",
       "      <td>35.2</td>\n",
       "      <td>never smoked</td>\n",
       "      <td>0</td>\n",
       "      <td>0.0</td>\n",
       "      <td>0</td>\n",
       "    </tr>\n",
       "    <tr>\n",
       "      <th>1510</th>\n",
       "      <td>29327</td>\n",
       "      <td>Female</td>\n",
       "      <td>30.0</td>\n",
       "      <td>0</td>\n",
       "      <td>0</td>\n",
       "      <td>No</td>\n",
       "      <td>Self-employed</td>\n",
       "      <td>Urban</td>\n",
       "      <td>65.84</td>\n",
       "      <td>24.8</td>\n",
       "      <td>smokes</td>\n",
       "      <td>0</td>\n",
       "      <td>1.0</td>\n",
       "      <td>1</td>\n",
       "    </tr>\n",
       "    <tr>\n",
       "      <th>435</th>\n",
       "      <td>3355</td>\n",
       "      <td>Female</td>\n",
       "      <td>64.0</td>\n",
       "      <td>0</td>\n",
       "      <td>0</td>\n",
       "      <td>Yes</td>\n",
       "      <td>Private</td>\n",
       "      <td>Urban</td>\n",
       "      <td>82.34</td>\n",
       "      <td>31.9</td>\n",
       "      <td>never smoked</td>\n",
       "      <td>0</td>\n",
       "      <td>1.0</td>\n",
       "      <td>0</td>\n",
       "    </tr>\n",
       "  </tbody>\n",
       "</table>\n",
       "<p>982 rows × 14 columns</p>\n",
       "</div>"
      ],
      "text/plain": [
       "         id  gender   age  hypertension  heart_disease ever_married  \\\n",
       "786   24665  Female  64.0             1              0          Yes   \n",
       "3264  24836  Female  61.0             0              0          Yes   \n",
       "30    43717    Male  57.0             1              0          Yes   \n",
       "846   12270    Male  71.0             0              0          Yes   \n",
       "3396  19828  Female  56.0             1              0          Yes   \n",
       "...     ...     ...   ...           ...            ...          ...   \n",
       "1582  24218  Female  78.0             0              0           No   \n",
       "2119  25930    Male  42.0             0              0          Yes   \n",
       "4045  56195    Male  37.0             0              0          Yes   \n",
       "1510  29327  Female  30.0             0              0           No   \n",
       "435    3355  Female  64.0             0              0          Yes   \n",
       "\n",
       "          work_type Residence_type  avg_glucose_level   bmi   smoking_status  \\\n",
       "786         Private          Rural              93.99  37.8  formerly smoked   \n",
       "3264        Private          Rural              72.01  26.0  formerly smoked   \n",
       "30          Private          Urban             212.08  44.2           smokes   \n",
       "846        Govt_job          Rural             186.45  26.7     never smoked   \n",
       "3396        Private          Rural              97.37  34.1           smokes   \n",
       "...             ...            ...                ...   ...              ...   \n",
       "1582        Private          Rural              87.70  29.6     never smoked   \n",
       "2119        Private          Urban              68.24  33.1  formerly smoked   \n",
       "4045       Govt_job          Urban             156.69  35.2     never smoked   \n",
       "1510  Self-employed          Urban              65.84  24.8           smokes   \n",
       "435         Private          Urban              82.34  31.9     never smoked   \n",
       "\n",
       "      stroke  gender_map  smoker  \n",
       "786        0         1.0       1  \n",
       "3264       0         1.0       1  \n",
       "30         1         0.0       1  \n",
       "846        0         0.0       0  \n",
       "3396       0         1.0       1  \n",
       "...      ...         ...     ...  \n",
       "1582       0         1.0       0  \n",
       "2119       0         0.0       1  \n",
       "4045       0         0.0       0  \n",
       "1510       0         1.0       1  \n",
       "435        0         1.0       0  \n",
       "\n",
       "[982 rows x 14 columns]"
      ]
     },
     "execution_count": 111,
     "metadata": {},
     "output_type": "execute_result"
    }
   ],
   "source": [
    "df_test"
   ]
  },
  {
   "cell_type": "code",
   "execution_count": 112,
   "metadata": {},
   "outputs": [
    {
     "name": "stdout",
     "output_type": "stream",
     "text": [
      "Optimization terminated successfully.\n",
      "         Current function value: 0.142830\n",
      "         Iterations 9\n",
      "Iteration 1: BIC of the Current Model 1171.4371966638466\n"
     ]
    }
   ],
   "source": [
    "current_mod = smf.logit('stroke ~ smoker + age + heart_disease + avg_glucose_level + bmi', data = df_train).fit()\n",
    "print('Iteration 1: BIC of the Current Model', current_mod.bic)"
   ]
  },
  {
   "cell_type": "code",
   "execution_count": 113,
   "metadata": {},
   "outputs": [
    {
     "name": "stdout",
     "output_type": "stream",
     "text": [
      "Optimization terminated successfully.\n",
      "         Current function value: 0.143006\n",
      "         Iterations 9\n",
      "BIC of Test Model that Deletes smoker from Current Model 1164.551150266945\n"
     ]
    }
   ],
   "source": [
    "test_mod = smf.logit('stroke ~  age + heart_disease + avg_glucose_level + bmi', data = df_train).fit()\n",
    "print('BIC of Test Model that Deletes smoker from Current Model', test_mod.bic)"
   ]
  },
  {
   "cell_type": "markdown",
   "metadata": {},
   "source": [
    "Because there was at least one \"test model\" that has a BIC score(1171) that is lower than the BIC score of the current model(1164), we will continue with this test model as our current model in the algorithm."
   ]
  },
  {
   "cell_type": "code",
   "execution_count": 114,
   "metadata": {},
   "outputs": [
    {
     "name": "stdout",
     "output_type": "stream",
     "text": [
      "Optimization terminated successfully.\n",
      "         Current function value: 0.143006\n",
      "         Iterations 9\n",
      "Iteration 2: BIC of Current Model 1164.551150266945\n"
     ]
    }
   ],
   "source": [
    "current_mod = smf.logit('stroke ~ age + heart_disease + avg_glucose_level + bmi', data = df_train).fit()\n",
    "print('Iteration 2: BIC of Current Model', current_mod.bic)"
   ]
  },
  {
   "cell_type": "code",
   "execution_count": 115,
   "metadata": {},
   "outputs": [
    {
     "name": "stdout",
     "output_type": "stream",
     "text": [
      "Optimization terminated successfully.\n",
      "         Current function value: 0.167261\n",
      "         Iterations 7\n",
      "BIC of Test Model that Deletes age from Current Model 1346.7685376009151\n"
     ]
    }
   ],
   "source": [
    "test_mod = smf.logit('stroke ~ heart_disease + avg_glucose_level + bmi', data = df_train).fit()\n",
    "print('BIC of Test Model that Deletes age from Current Model', test_mod.bic)"
   ]
  },
  {
   "cell_type": "code",
   "execution_count": 116,
   "metadata": {},
   "outputs": [
    {
     "name": "stdout",
     "output_type": "stream",
     "text": [
      "Optimization terminated successfully.\n",
      "         Current function value: 0.143178\n",
      "         Iterations 9\n",
      "BIC of Test Model that Deletes heart_disease from Current Model 1157.624132429558\n"
     ]
    }
   ],
   "source": [
    "test_mod = smf.logit('stroke ~ age + avg_glucose_level + bmi', data = df_train).fit()\n",
    "print('BIC of Test Model that Deletes heart_disease from Current Model', test_mod.bic)"
   ]
  },
  {
   "cell_type": "markdown",
   "metadata": {},
   "source": [
    "Because there was at least one \"test model\" that has a BIC score(1157) that is lower than the BIC score of the current model(1164), we will continue with this test model as our current model in the algorithm."
   ]
  },
  {
   "cell_type": "code",
   "execution_count": 117,
   "metadata": {},
   "outputs": [
    {
     "name": "stdout",
     "output_type": "stream",
     "text": [
      "Optimization terminated successfully.\n",
      "         Current function value: 0.143178\n",
      "         Iterations 9\n",
      "Iteration 3: BIC of Current Model 1157.624132429558\n"
     ]
    }
   ],
   "source": [
    "current_mod = smf.logit('stroke ~ age + avg_glucose_level + bmi', data = df_train).fit()\n",
    "print('Iteration 3: BIC of Current Model', current_mod.bic)"
   ]
  },
  {
   "cell_type": "code",
   "execution_count": 118,
   "metadata": {},
   "outputs": [
    {
     "name": "stdout",
     "output_type": "stream",
     "text": [
      "Optimization terminated successfully.\n",
      "         Current function value: 0.170027\n",
      "         Iterations 7\n",
      "BIC of Test Model that deletes age from Current Model 1360.2194425928608\n"
     ]
    }
   ],
   "source": [
    "test_mod = smf.logit('stroke ~ avg_glucose_level + bmi', data = df_train).fit()\n",
    "print('BIC of Test Model that deletes age from Current Model', test_mod.bic)"
   ]
  },
  {
   "cell_type": "code",
   "execution_count": 119,
   "metadata": {},
   "outputs": [
    {
     "name": "stdout",
     "output_type": "stream",
     "text": [
      "Optimization terminated successfully.\n",
      "         Current function value: 0.144970\n",
      "         Iterations 9\n",
      "BIC of Test Model that deletes avg_glucose_level from Current Model 1163.42352183903\n"
     ]
    }
   ],
   "source": [
    "test_mod = smf.logit('stroke ~ age + bmi', data = df_train).fit()\n",
    "print('BIC of Test Model that deletes avg_glucose_level from Current Model', test_mod.bic)"
   ]
  },
  {
   "cell_type": "code",
   "execution_count": 120,
   "metadata": {},
   "outputs": [
    {
     "name": "stdout",
     "output_type": "stream",
     "text": [
      "Optimization terminated successfully.\n",
      "         Current function value: 0.143182\n",
      "         Iterations 9\n",
      "BIC of Test Model that deletes bmi from Current Model 1149.3816827302471\n"
     ]
    }
   ],
   "source": [
    "test_mod = smf.logit('stroke ~ age + avg_glucose_level', data = df_train).fit()\n",
    "print('BIC of Test Model that deletes bmi from Current Model', test_mod.bic)"
   ]
  },
  {
   "cell_type": "markdown",
   "metadata": {},
   "source": [
    "Because there was at least one \"test model\" that has a BIC score(1149) that is lower than the BIC score of the current model(1157), we will continue with this test model as our current model in the algorithm."
   ]
  },
  {
   "cell_type": "code",
   "execution_count": 121,
   "metadata": {},
   "outputs": [
    {
     "name": "stdout",
     "output_type": "stream",
     "text": [
      "Optimization terminated successfully.\n",
      "         Current function value: 0.143182\n",
      "         Iterations 9\n",
      "Iteration 4: BIC of Current Model 1149.3816827302471\n"
     ]
    }
   ],
   "source": [
    "current_mod = smf.logit('stroke ~ age + avg_glucose_level', data = df_train).fit()\n",
    "print('Iteration 4: BIC of Current Model', current_mod.bic)"
   ]
  },
  {
   "cell_type": "code",
   "execution_count": 122,
   "metadata": {},
   "outputs": [
    {
     "name": "stdout",
     "output_type": "stream",
     "text": [
      "Optimization terminated successfully.\n",
      "         Current function value: 0.145094\n",
      "         Iterations 9\n",
      "BIC of Test Model without age 1156.1209088181377\n"
     ]
    }
   ],
   "source": [
    "test_mod = smf.logit('stroke ~ age', data = df_train).fit()\n",
    "print('BIC of Test Model without age', test_mod.bic)"
   ]
  },
  {
   "cell_type": "code",
   "execution_count": 123,
   "metadata": {},
   "outputs": [
    {
     "name": "stdout",
     "output_type": "stream",
     "text": [
      "Optimization terminated successfully.\n",
      "         Current function value: 0.170095\n",
      "         Iterations 7\n",
      "BIC of Test Model without avg_glucose_level 1352.479126175727\n"
     ]
    }
   ],
   "source": [
    "test_mod = smf.logit('stroke ~ avg_glucose_level', data = df_train).fit()\n",
    "print('BIC of Test Model without avg_glucose_level', test_mod.bic)"
   ]
  },
  {
   "cell_type": "code",
   "execution_count": 124,
   "metadata": {},
   "outputs": [
    {
     "name": "stdout",
     "output_type": "stream",
     "text": [
      "Optimization terminated successfully.\n",
      "         Current function value: 0.143182\n",
      "         Iterations 9\n"
     ]
    },
    {
     "data": {
      "text/html": [
       "<table class=\"simpletable\">\n",
       "<caption>Logit Regression Results</caption>\n",
       "<tr>\n",
       "  <th>Dep. Variable:</th>        <td>stroke</td>      <th>  No. Observations:  </th>  <td>  3927</td>  \n",
       "</tr>\n",
       "<tr>\n",
       "  <th>Model:</th>                 <td>Logit</td>      <th>  Df Residuals:      </th>  <td>  3924</td>  \n",
       "</tr>\n",
       "<tr>\n",
       "  <th>Method:</th>                 <td>MLE</td>       <th>  Df Model:          </th>  <td>     2</td>  \n",
       "</tr>\n",
       "<tr>\n",
       "  <th>Date:</th>            <td>Tue, 07 Dec 2021</td> <th>  Pseudo R-squ.:     </th>  <td>0.1932</td>  \n",
       "</tr>\n",
       "<tr>\n",
       "  <th>Time:</th>                <td>18:05:58</td>     <th>  Log-Likelihood:    </th> <td> -562.28</td> \n",
       "</tr>\n",
       "<tr>\n",
       "  <th>converged:</th>             <td>True</td>       <th>  LL-Null:           </th> <td> -696.94</td> \n",
       "</tr>\n",
       "<tr>\n",
       "  <th>Covariance Type:</th>     <td>nonrobust</td>    <th>  LLR p-value:       </th> <td>3.290e-59</td>\n",
       "</tr>\n",
       "</table>\n",
       "<table class=\"simpletable\">\n",
       "<tr>\n",
       "          <td></td>             <th>coef</th>     <th>std err</th>      <th>z</th>      <th>P>|z|</th>  <th>[0.025</th>    <th>0.975]</th>  \n",
       "</tr>\n",
       "<tr>\n",
       "  <th>Intercept</th>         <td>   -7.7580</td> <td>    0.421</td> <td>  -18.448</td> <td> 0.000</td> <td>   -8.582</td> <td>   -6.934</td>\n",
       "</tr>\n",
       "<tr>\n",
       "  <th>age</th>               <td>    0.0707</td> <td>    0.006</td> <td>   11.842</td> <td> 0.000</td> <td>    0.059</td> <td>    0.082</td>\n",
       "</tr>\n",
       "<tr>\n",
       "  <th>avg_glucose_level</th> <td>    0.0055</td> <td>    0.001</td> <td>    3.968</td> <td> 0.000</td> <td>    0.003</td> <td>    0.008</td>\n",
       "</tr>\n",
       "</table>"
      ],
      "text/plain": [
       "<class 'statsmodels.iolib.summary.Summary'>\n",
       "\"\"\"\n",
       "                           Logit Regression Results                           \n",
       "==============================================================================\n",
       "Dep. Variable:                 stroke   No. Observations:                 3927\n",
       "Model:                          Logit   Df Residuals:                     3924\n",
       "Method:                           MLE   Df Model:                            2\n",
       "Date:                Tue, 07 Dec 2021   Pseudo R-squ.:                  0.1932\n",
       "Time:                        18:05:58   Log-Likelihood:                -562.28\n",
       "converged:                       True   LL-Null:                       -696.94\n",
       "Covariance Type:            nonrobust   LLR p-value:                 3.290e-59\n",
       "=====================================================================================\n",
       "                        coef    std err          z      P>|z|      [0.025      0.975]\n",
       "-------------------------------------------------------------------------------------\n",
       "Intercept            -7.7580      0.421    -18.448      0.000      -8.582      -6.934\n",
       "age                   0.0707      0.006     11.842      0.000       0.059       0.082\n",
       "avg_glucose_level     0.0055      0.001      3.968      0.000       0.003       0.008\n",
       "=====================================================================================\n",
       "\"\"\""
      ]
     },
     "execution_count": 124,
     "metadata": {},
     "output_type": "execute_result"
    }
   ],
   "source": [
    "final_mod = smf.logit('stroke ~ age + avg_glucose_level', data = df_train).fit()\n",
    "final_mod.summary()"
   ]
  },
  {
   "cell_type": "markdown",
   "metadata": {},
   "source": [
    "$\\hat{stroke} = -7.7580 + 0.0707age + 0.0055avgglucoselevel$"
   ]
  },
  {
   "cell_type": "markdown",
   "metadata": {},
   "source": [
    "We would like to determine if we have sufficient evidence to suggest that at least one of the slopes in our corresponding population model is non-zero.</br>\n",
    "</br>\n",
    "$H_0 : \\beta_{age} = 0$ </br>\n",
    "$H_A : \\beta_{age}$ $\\neq$ 0 </br> </br>\n",
    "$H_0 : \\beta_{avgglucoselevel} = 0$ </br>\n",
    "$H_A : \\beta_{avgglucoselevel}$ $\\neq$ 0 </br> </br>"
   ]
  },
  {
   "cell_type": "markdown",
   "metadata": {},
   "source": [
    "*Checking the conditions for conducting inference on a population slope*\n",
    "1. Independence of Observations Condition is met:\n",
    "    a. Sample is random\n",
    "    b. n < 10% of the population size.\n",
    "2. Linearity Condition is met\n",
    "3. No Multicollinearity Condition is met"
   ]
  },
  {
   "cell_type": "code",
   "execution_count": 125,
   "metadata": {},
   "outputs": [],
   "source": [
    "point_est_age = 0.0707\n",
    "point_est_agl = 0.0055\n",
    "\n",
    "se_age = 0.006\n",
    "se_agl = 0.001\n",
    "\n",
    "null_value = 0\n",
    "\n",
    "test_stat_age = (point_est_age - null_value) / se_age\n",
    "test_stat_agl = (point_est_agl - null_value) / se_agl"
   ]
  },
  {
   "cell_type": "code",
   "execution_count": 126,
   "metadata": {},
   "outputs": [
    {
     "name": "stdout",
     "output_type": "stream",
     "text": [
      "p-value for age: 0.0 \n",
      "p-value for average glucose level: 3.797912495606681e-08\n"
     ]
    }
   ],
   "source": [
    "pval_age = 2 * (1 - norm.cdf(np.abs(test_stat_age)))\n",
    "pval_agl = 2 * (1 - norm.cdf(np.abs(test_stat_agl)))\n",
    "print('p-value for age:', pval_age, '\\np-value for average glucose level:', pval_agl)"
   ]
  },
  {
   "cell_type": "markdown",
   "metadata": {},
   "source": [
    "Using a significance level of $\\alpha$ = 0.05 we can say that because the p-value for age is 0.0 < 0.05 and the p value for average glucose level is 3.80e-08 < 0.05, we reject the null hypothesis. Thus there is sufficient evidence to suggest that the slope for age and average glucose level is non-zero in the population logistic regression."
   ]
  },
  {
   "cell_type": "code",
   "execution_count": 127,
   "metadata": {},
   "outputs": [
    {
     "name": "stdout",
     "output_type": "stream",
     "text": [
      "Optimization terminated successfully.\n",
      "         Current function value: 0.142830\n",
      "         Iterations 9\n"
     ]
    },
    {
     "data": {
      "text/html": [
       "<table class=\"simpletable\">\n",
       "<caption>Logit Regression Results</caption>\n",
       "<tr>\n",
       "  <th>Dep. Variable:</th>        <td>stroke</td>      <th>  No. Observations:  </th>  <td>  3927</td>  \n",
       "</tr>\n",
       "<tr>\n",
       "  <th>Model:</th>                 <td>Logit</td>      <th>  Df Residuals:      </th>  <td>  3921</td>  \n",
       "</tr>\n",
       "<tr>\n",
       "  <th>Method:</th>                 <td>MLE</td>       <th>  Df Model:          </th>  <td>     5</td>  \n",
       "</tr>\n",
       "<tr>\n",
       "  <th>Date:</th>            <td>Tue, 07 Dec 2021</td> <th>  Pseudo R-squ.:     </th>  <td>0.1952</td>  \n",
       "</tr>\n",
       "<tr>\n",
       "  <th>Time:</th>                <td>18:05:58</td>     <th>  Log-Likelihood:    </th> <td> -560.89</td> \n",
       "</tr>\n",
       "<tr>\n",
       "  <th>converged:</th>             <td>True</td>       <th>  LL-Null:           </th> <td> -696.94</td> \n",
       "</tr>\n",
       "<tr>\n",
       "  <th>Covariance Type:</th>     <td>nonrobust</td>    <th>  LLR p-value:       </th> <td>9.934e-57</td>\n",
       "</tr>\n",
       "</table>\n",
       "<table class=\"simpletable\">\n",
       "<tr>\n",
       "          <td></td>             <th>coef</th>     <th>std err</th>      <th>z</th>      <th>P>|z|</th>  <th>[0.025</th>    <th>0.975]</th>  \n",
       "</tr>\n",
       "<tr>\n",
       "  <th>Intercept</th>         <td>   -7.8504</td> <td>    0.602</td> <td>  -13.049</td> <td> 0.000</td> <td>   -9.030</td> <td>   -6.671</td>\n",
       "</tr>\n",
       "<tr>\n",
       "  <th>smoker</th>            <td>    0.1964</td> <td>    0.166</td> <td>    1.183</td> <td> 0.237</td> <td>   -0.129</td> <td>    0.522</td>\n",
       "</tr>\n",
       "<tr>\n",
       "  <th>age</th>               <td>    0.0696</td> <td>    0.006</td> <td>   11.226</td> <td> 0.000</td> <td>    0.057</td> <td>    0.082</td>\n",
       "</tr>\n",
       "<tr>\n",
       "  <th>heart_disease</th>     <td>    0.2622</td> <td>    0.234</td> <td>    1.122</td> <td> 0.262</td> <td>   -0.196</td> <td>    0.720</td>\n",
       "</tr>\n",
       "<tr>\n",
       "  <th>avg_glucose_level</th> <td>    0.0052</td> <td>    0.001</td> <td>    3.640</td> <td> 0.000</td> <td>    0.002</td> <td>    0.008</td>\n",
       "</tr>\n",
       "<tr>\n",
       "  <th>bmi</th>               <td>    0.0026</td> <td>    0.013</td> <td>    0.202</td> <td> 0.840</td> <td>   -0.023</td> <td>    0.028</td>\n",
       "</tr>\n",
       "</table>"
      ],
      "text/plain": [
       "<class 'statsmodels.iolib.summary.Summary'>\n",
       "\"\"\"\n",
       "                           Logit Regression Results                           \n",
       "==============================================================================\n",
       "Dep. Variable:                 stroke   No. Observations:                 3927\n",
       "Model:                          Logit   Df Residuals:                     3921\n",
       "Method:                           MLE   Df Model:                            5\n",
       "Date:                Tue, 07 Dec 2021   Pseudo R-squ.:                  0.1952\n",
       "Time:                        18:05:58   Log-Likelihood:                -560.89\n",
       "converged:                       True   LL-Null:                       -696.94\n",
       "Covariance Type:            nonrobust   LLR p-value:                 9.934e-57\n",
       "=====================================================================================\n",
       "                        coef    std err          z      P>|z|      [0.025      0.975]\n",
       "-------------------------------------------------------------------------------------\n",
       "Intercept            -7.8504      0.602    -13.049      0.000      -9.030      -6.671\n",
       "smoker                0.1964      0.166      1.183      0.237      -0.129       0.522\n",
       "age                   0.0696      0.006     11.226      0.000       0.057       0.082\n",
       "heart_disease         0.2622      0.234      1.122      0.262      -0.196       0.720\n",
       "avg_glucose_level     0.0052      0.001      3.640      0.000       0.002       0.008\n",
       "bmi                   0.0026      0.013      0.202      0.840      -0.023       0.028\n",
       "=====================================================================================\n",
       "\"\"\""
      ]
     },
     "execution_count": 127,
     "metadata": {},
     "output_type": "execute_result"
    }
   ],
   "source": [
    "test_mod = smf.logit('stroke ~ smoker + age + heart_disease + avg_glucose_level + bmi', data = df_train).fit()\n",
    "test_mod.summary()"
   ]
  },
  {
   "cell_type": "code",
   "execution_count": 128,
   "metadata": {},
   "outputs": [],
   "source": [
    "phat_test = test_mod.predict(exog=df_test)\n",
    "df_test['phat_test'] = phat_test"
   ]
  },
  {
   "cell_type": "code",
   "execution_count": 129,
   "metadata": {},
   "outputs": [
    {
     "name": "stdout",
     "output_type": "stream",
     "text": [
      "0.691049863654071\n"
     ]
    }
   ],
   "source": [
    "fpr_test, tpr_test, score_test = roc_curve(y_true=df_test['smoker'], y_score=df_test['phat_test'])\n",
    "auc = roc_auc_score(y_true=df_test['smoker'], y_score=df_test['phat_test'])\n",
    "print(auc)"
   ]
  },
  {
   "cell_type": "code",
   "execution_count": 130,
   "metadata": {},
   "outputs": [],
   "source": [
    "def plot_roc(fpr, tpr, auc, lw=2):\n",
    "    plt.plot(fpr, tpr, color='darkorange', lw=lw,\n",
    "             label='ROC curve (area = '+str(round(auc,3))+')')\n",
    "    plt.plot([0, 1], [0, 1], color='navy', lw=lw, linestyle='--')\n",
    "    plt.xlabel('False Positive Rate')\n",
    "    plt.ylabel('True Positive Rate')\n",
    "    plt.title('ROC Curve')\n",
    "    plt.legend(loc=\"lower right\")\n",
    "    plt.show()"
   ]
  },
  {
   "cell_type": "code",
   "execution_count": 131,
   "metadata": {},
   "outputs": [
    {
     "data": {
      "image/png": "[encoded data removed]",
      "text/plain": [
       "<Figure size 432x288 with 1 Axes>"
      ]
     },
     "metadata": {
      "needs_background": "light"
     },
     "output_type": "display_data"
    }
   ],
   "source": [
    "plot_roc(fpr_test, tpr_test, auc)"
   ]
  },
  {
   "cell_type": "markdown",
   "metadata": {},
   "source": [
    "FPR = 0.5, TPR = 0.8 </br>\n",
    "At a FPR of 0.5, the TPR starts to level off in the ROC curve above. By increasing the FPR any more past 0.5, we do not gain much more in the way of a better TPR. So we could choose the predictive probability threshold that gives us this combination."
   ]
  },
  {
   "cell_type": "code",
   "execution_count": 132,
   "metadata": {},
   "outputs": [
    {
     "data": {
      "text/html": [
       "<div>\n",
       "<style scoped>\n",
       "    .dataframe tbody tr th:only-of-type {\n",
       "        vertical-align: middle;\n",
       "    }\n",
       "\n",
       "    .dataframe tbody tr th {\n",
       "        vertical-align: top;\n",
       "    }\n",
       "\n",
       "    .dataframe thead th {\n",
       "        text-align: right;\n",
       "    }\n",
       "</style>\n",
       "<table border=\"1\" class=\"dataframe\">\n",
       "  <thead>\n",
       "    <tr style=\"text-align: right;\">\n",
       "      <th></th>\n",
       "      <th>threshold</th>\n",
       "      <th>tpr</th>\n",
       "      <th>fpr</th>\n",
       "    </tr>\n",
       "  </thead>\n",
       "  <tbody>\n",
       "    <tr>\n",
       "      <th>0</th>\n",
       "      <td>0.01</td>\n",
       "      <td>0.778146</td>\n",
       "      <td>0.5</td>\n",
       "    </tr>\n",
       "  </tbody>\n",
       "</table>\n",
       "</div>"
      ],
      "text/plain": [
       "   threshold       tpr  fpr\n",
       "0       0.01  0.778146  0.5"
      ]
     },
     "execution_count": 132,
     "metadata": {},
     "output_type": "execute_result"
    }
   ],
   "source": [
    "def tpr_fpr_thresh(y, pred_prob, thresh):\n",
    "    yhat = 1*(pred_prob >= thresh)\n",
    "    tn, fp, fn, tp = confusion_matrix(y_true=y, y_pred=yhat).ravel()\n",
    "    tpr = tp / (fn + tp)\n",
    "    fpr = fp / (fp + tn)\n",
    "    return pd.DataFrame({'threshold':[thresh],\n",
    "                         'tpr':[tpr], \n",
    "                         'fpr':[fpr]})\n",
    "\n",
    "tpr_fpr_thresh(df_test['smoker'], df_test['phat_test'], 0.01)"
   ]
  },
  {
   "cell_type": "code",
   "execution_count": 133,
   "metadata": {},
   "outputs": [
    {
     "name": "stdout",
     "output_type": "stream",
     "text": [
      "Threshold: 0.0 FPR: 1.0 TPR: 1.0\n",
      "Threshold: 0.01 FPR: 0.5 TPR: 0.7781456953642384\n",
      "Threshold: 0.02 FPR: 0.37941176470588234 TPR: 0.6556291390728477\n",
      "Threshold: 0.03 FPR: 0.3014705882352941 TPR: 0.5463576158940397\n",
      "Threshold: 0.04 FPR: 0.2426470588235294 TPR: 0.4602649006622517\n",
      "Threshold: 0.05 FPR: 0.20588235294117646 TPR: 0.40728476821192056\n",
      "Threshold: 0.06 FPR: 0.175 TPR: 0.3509933774834437\n",
      "Threshold: 0.07 FPR: 0.15735294117647058 TPR: 0.30132450331125826\n",
      "Threshold: 0.08 FPR: 0.1411764705882353 TPR: 0.2582781456953642\n",
      "Threshold: 0.09 FPR: 0.12794117647058822 TPR: 0.23841059602649006\n",
      "Threshold: 0.1 FPR: 0.11764705882352941 TPR: 0.2251655629139073\n",
      "Threshold: 0.11 FPR: 0.10882352941176471 TPR: 0.19205298013245034\n",
      "Threshold: 0.12 FPR: 0.09117647058823529 TPR: 0.17549668874172186\n",
      "Threshold: 0.13 FPR: 0.08676470588235294 TPR: 0.1390728476821192\n",
      "Threshold: 0.14 FPR: 0.06911764705882353 TPR: 0.12251655629139073\n",
      "Threshold: 0.15 FPR: 0.058823529411764705 TPR: 0.10596026490066225\n",
      "Threshold: 0.16 FPR: 0.045588235294117645 TPR: 0.09602649006622517\n",
      "Threshold: 0.17 FPR: 0.03529411764705882 TPR: 0.08609271523178808\n",
      "Threshold: 0.18 FPR: 0.029411764705882353 TPR: 0.0728476821192053\n",
      "Threshold: 0.19 FPR: 0.022058823529411766 TPR: 0.06291390728476821\n",
      "Threshold: 0.2 FPR: 0.01764705882352941 TPR: 0.056291390728476824\n",
      "Threshold: 0.21 FPR: 0.014705882352941176 TPR: 0.04304635761589404\n",
      "Threshold: 0.22 FPR: 0.011764705882352941 TPR: 0.04304635761589404\n",
      "Threshold: 0.23 FPR: 0.010294117647058823 TPR: 0.039735099337748346\n",
      "Threshold: 0.24 FPR: 0.008823529411764706 TPR: 0.03642384105960265\n",
      "Threshold: 0.25 FPR: 0.007352941176470588 TPR: 0.03642384105960265\n",
      "Threshold: 0.26 FPR: 0.0058823529411764705 TPR: 0.033112582781456956\n",
      "Threshold: 0.27 FPR: 0.004411764705882353 TPR: 0.023178807947019868\n",
      "Threshold: 0.28 FPR: 0.004411764705882353 TPR: 0.023178807947019868\n",
      "Threshold: 0.29 FPR: 0.0029411764705882353 TPR: 0.019867549668874173\n",
      "Threshold: 0.3 FPR: 0.0014705882352941176 TPR: 0.019867549668874173\n",
      "Threshold: 0.31 FPR: 0.0014705882352941176 TPR: 0.016556291390728478\n",
      "Threshold: 0.32 FPR: 0.0014705882352941176 TPR: 0.013245033112582781\n",
      "Threshold: 0.33 FPR: 0.0014705882352941176 TPR: 0.009933774834437087\n",
      "Threshold: 0.34 FPR: 0.0 TPR: 0.009933774834437087\n",
      "Threshold: 0.35000000000000003 FPR: 0.0 TPR: 0.006622516556291391\n",
      "Threshold: 0.36 FPR: 0.0 TPR: 0.006622516556291391\n",
      "Threshold: 0.37 FPR: 0.0 TPR: 0.006622516556291391\n",
      "Threshold: 0.38 FPR: 0.0 TPR: 0.006622516556291391\n",
      "Threshold: 0.39 FPR: 0.0 TPR: 0.006622516556291391\n",
      "Threshold: 0.4 FPR: 0.0 TPR: 0.0033112582781456954\n",
      "Threshold: 0.41000000000000003 FPR: 0.0 TPR: 0.0\n",
      "Threshold: 0.42 FPR: 0.0 TPR: 0.0\n",
      "Threshold: 0.43 FPR: 0.0 TPR: 0.0\n",
      "Threshold: 0.44 FPR: 0.0 TPR: 0.0\n",
      "Threshold: 0.45 FPR: 0.0 TPR: 0.0\n",
      "Threshold: 0.46 FPR: 0.0 TPR: 0.0\n",
      "Threshold: 0.47000000000000003 FPR: 0.0 TPR: 0.0\n",
      "Threshold: 0.48 FPR: 0.0 TPR: 0.0\n",
      "Threshold: 0.49 FPR: 0.0 TPR: 0.0\n",
      "Threshold: 0.5 FPR: 0.0 TPR: 0.0\n",
      "Threshold: 0.51 FPR: 0.0 TPR: 0.0\n",
      "Threshold: 0.52 FPR: 0.0 TPR: 0.0\n",
      "Threshold: 0.53 FPR: 0.0 TPR: 0.0\n",
      "Threshold: 0.54 FPR: 0.0 TPR: 0.0\n",
      "Threshold: 0.55 FPR: 0.0 TPR: 0.0\n",
      "Threshold: 0.56 FPR: 0.0 TPR: 0.0\n",
      "Threshold: 0.5700000000000001 FPR: 0.0 TPR: 0.0\n",
      "Threshold: 0.58 FPR: 0.0 TPR: 0.0\n",
      "Threshold: 0.59 FPR: 0.0 TPR: 0.0\n",
      "Threshold: 0.6 FPR: 0.0 TPR: 0.0\n",
      "Threshold: 0.61 FPR: 0.0 TPR: 0.0\n",
      "Threshold: 0.62 FPR: 0.0 TPR: 0.0\n",
      "Threshold: 0.63 FPR: 0.0 TPR: 0.0\n",
      "Threshold: 0.64 FPR: 0.0 TPR: 0.0\n",
      "Threshold: 0.65 FPR: 0.0 TPR: 0.0\n",
      "Threshold: 0.66 FPR: 0.0 TPR: 0.0\n",
      "Threshold: 0.67 FPR: 0.0 TPR: 0.0\n",
      "Threshold: 0.68 FPR: 0.0 TPR: 0.0\n",
      "Threshold: 0.6900000000000001 FPR: 0.0 TPR: 0.0\n",
      "Threshold: 0.7000000000000001 FPR: 0.0 TPR: 0.0\n",
      "Threshold: 0.71 FPR: 0.0 TPR: 0.0\n",
      "Threshold: 0.72 FPR: 0.0 TPR: 0.0\n",
      "Threshold: 0.73 FPR: 0.0 TPR: 0.0\n",
      "Threshold: 0.74 FPR: 0.0 TPR: 0.0\n",
      "Threshold: 0.75 FPR: 0.0 TPR: 0.0\n",
      "Threshold: 0.76 FPR: 0.0 TPR: 0.0\n",
      "Threshold: 0.77 FPR: 0.0 TPR: 0.0\n",
      "Threshold: 0.78 FPR: 0.0 TPR: 0.0\n",
      "Threshold: 0.79 FPR: 0.0 TPR: 0.0\n",
      "Threshold: 0.8 FPR: 0.0 TPR: 0.0\n",
      "Threshold: 0.81 FPR: 0.0 TPR: 0.0\n",
      "Threshold: 0.8200000000000001 FPR: 0.0 TPR: 0.0\n",
      "Threshold: 0.8300000000000001 FPR: 0.0 TPR: 0.0\n",
      "Threshold: 0.84 FPR: 0.0 TPR: 0.0\n",
      "Threshold: 0.85 FPR: 0.0 TPR: 0.0\n",
      "Threshold: 0.86 FPR: 0.0 TPR: 0.0\n",
      "Threshold: 0.87 FPR: 0.0 TPR: 0.0\n",
      "Threshold: 0.88 FPR: 0.0 TPR: 0.0\n",
      "Threshold: 0.89 FPR: 0.0 TPR: 0.0\n",
      "Threshold: 0.9 FPR: 0.0 TPR: 0.0\n",
      "Threshold: 0.91 FPR: 0.0 TPR: 0.0\n",
      "Threshold: 0.92 FPR: 0.0 TPR: 0.0\n",
      "Threshold: 0.93 FPR: 0.0 TPR: 0.0\n",
      "Threshold: 0.9400000000000001 FPR: 0.0 TPR: 0.0\n",
      "Threshold: 0.9500000000000001 FPR: 0.0 TPR: 0.0\n",
      "Threshold: 0.96 FPR: 0.0 TPR: 0.0\n",
      "Threshold: 0.97 FPR: 0.0 TPR: 0.0\n",
      "Threshold: 0.98 FPR: 0.0 TPR: 0.0\n",
      "Threshold: 0.99 FPR: 0.0 TPR: 0.0\n",
      "Threshold: 1.0 FPR: 0.0 TPR: 0.0\n"
     ]
    }
   ],
   "source": [
    "pd.options.mode.chained_assignment = None\n",
    "\n",
    "for p in np.arange(0,1.01,0.01):\n",
    "    df_test['yhat'] = 1 * (df_test['phat_test'] > p)\n",
    "    tn, fp, fn, tp = confusion_matrix(y_true=df_test['smoker'], y_pred=df_test['yhat']).ravel()\n",
    "    tpr = tp / (tp + fn)\n",
    "    fpr = fp / (tn + fp)\n",
    "\n",
    "    print('Threshold:', p, 'FPR:', fpr, 'TPR:', tpr)"
   ]
  },
  {
   "cell_type": "markdown",
   "metadata": {},
   "source": [
    "A predictive probability threshold of $p_0$ = 0.01 will give us a tpr = 0.77 and fpr = 0.5. This gives us the \"best\" combination for values that are close to a false positive rate of 0 and a true positive rate of 1."
   ]
  },
  {
   "cell_type": "markdown",
   "metadata": {},
   "source": [
    "The ROC curve area is 0.691 which means this model does not have a predictive probability threshold that will get us closer to ideal (fpr, tpr) = (0, 1). So this is an indication that this classifer in general will not yield a very accurate classifications of the sample data."
   ]
  },
  {
   "cell_type": "markdown",
   "metadata": {},
   "source": [
    "With this probability threshold, we can say that the true positive rate (predicting and actually having a stroke) is 0.77 and the false positive rate (not predicting a stroke but having a stroke) is 0.5."
   ]
  },
  {
   "cell_type": "markdown",
   "metadata": {},
   "source": [
    "For the logistic regression test, we conclude that there is a strong linear relationship between someone having a stroke and their bmi and average glucose levels using the backwards elimination algorithm. After fitting this model, we were able to conclude with the hypothesis test that there is evidence that the slopes for both variables are non-zero. Unfortunately, with ROC curve and AUC score, we were able to discover that the model is not very accurate at predicting a stroke. "
   ]
  },
  {
   "cell_type": "markdown",
   "metadata": {},
   "source": [
    "## Any other type of analysis/question you want to explore with this dataset.\n",
    "\n",
    "<u>Why?</u>: Sometimes undergraduate students will put the research projects that they did for their classes in their resumes when applying for graduate schools, internships, and jobs. If you're interested in showcasing cool analyses to write on your resume, this section could help with that. **(This section is not worth any points though).**"
   ]
  },
  {
   "cell_type": "code",
   "execution_count": 134,
   "metadata": {},
   "outputs": [
    {
     "data": {
      "text/plain": [
       "Text(0.5, 1.0, 'Does Work Type and Age Affect Stroke')"
      ]
     },
     "execution_count": 134,
     "metadata": {},
     "output_type": "execute_result"
    },
    {
     "data": {
      "image/png": "[encoded data removed]",
      "text/plain": [
       "<Figure size 432x288 with 1 Axes>"
      ]
     },
     "metadata": {
      "needs_background": "light"
     },
     "output_type": "display_data"
    }
   ],
   "source": [
    "sns.violinplot(x=\"work_type\", y=\"age\", hue=\"stroke\", data=df).set_title(\"Does Work Type and Age Affect Stroke\")"
   ]
  },
  {
   "cell_type": "code",
   "execution_count": 135,
   "metadata": {},
   "outputs": [
    {
     "data": {
      "text/plain": [
       "Text(0.5, 1.0, 'Does Being Married and Age Affect Stroke')"
      ]
     },
     "execution_count": 135,
     "metadata": {},
     "output_type": "execute_result"
    },
    {
     "data": {
      "image/png": "[encoded data removed]",
      "text/plain": [
       "<Figure size 432x288 with 1 Axes>"
      ]
     },
     "metadata": {
      "needs_background": "light"
     },
     "output_type": "display_data"
    }
   ],
   "source": [
    "sns.violinplot(x=\"ever_married\", y=\"age\", hue=\"stroke\", data=df).set_title(\"Does Being Married and Age Affect Stroke\")"
   ]
  },
  {
   "cell_type": "markdown",
   "metadata": {},
   "source": [
    "Based off these graphs, it doesn't seem like being married or work affects if someone has a stroke or not."
   ]
  },
  {
   "cell_type": "markdown",
   "metadata": {},
   "source": [
    "## 6. Conclusion"
   ]
  },
  {
   "cell_type": "markdown",
   "metadata": {},
   "source": [
    "After performing analysis and multiple tests on the stroke dataset, we conclude that the biggest factors in predicting a stroke are hypertension, bmi, average glucose levels, and history of heart disease. With the hypothesis test of population proportions, we see that living in a rural or urban area does not determine whether or not someone will have a stroke. There is a linear relationship between age and hypertension, heart disease, average glucose level, and bmi in this sample. There is also a linear relationship between the log-odds of someone having a stroke and if they smoked, age, history of heart disease, average glucose level, and bmi. Unfortunately, the relationship wasn't very strong and there is a lot of inaccuracy in the models. I believe that this is due to the fact that the majority of the data are people in the world that were younger in age, but as we can see from some of the tests, older people tend to have a higher chance of stroke than younger people. Additionally, it only mentioned if people had hypertension or not instead of their blood pressure levels, which could have improved stroke predictability. Same with smoking. Smoking is a factor for if someone has a stroke, but in this dataset, it only mentioned if they had smoked or not instead of how frequently or how long someone has smoked. Lastly, knowing the severity of heart disease could have also given us a better model because someone with a more critical condition or someone who has had a longer history of heart disease might be more likely to have a stroke. Due to these factors, we were not able to accurately predict whether or not someone has a stroke or not."
   ]
  },
  {
   "cell_type": "markdown",
   "metadata": {},
   "source": [
    "According to John Hopkin's Medicine, risk factors for a stroke that can be \"changed, treated, or medically managed\" are high blood pressure (hypertension), heart disease, diabetes, smoking, obesity, lack or exercise, excessive alcohol, illegal drugs, abnormal heart rhythm, and cardiac structural abnormalities. In the future, we could get data for more of these factors to see if a stroke can be better predicted. Also, another experiement could measure blood pressure levels and how often someone smoked instead of stating that someone has hypertension or not and if someone has or is smoking like in this experiment. This would give us more accurate predicitons and a better understanding of why someone had a stroke. While we can't change someone's gender or age, being able to show that having a certain glucose level, bmi, or blood pressure leads to a stroke could allow us to prevent strokes that may occur."
   ]
  }
 ],
 "metadata": {
  "kernelspec": {
   "display_name": "Python 3",
   "language": "python",
   "name": "python3"
  },
  "language_info": {
   "codemirror_mode": {
    "name": "ipython",
    "version": 3
   },
   "file_extension": ".py",
   "mimetype": "text/x-python",
   "name": "python",
   "nbconvert_exporter": "python",
   "pygments_lexer": "ipython3",
   "version": "3.9.6"
  }
 },
 "nbformat": 4,
 "nbformat_minor": 4
}
