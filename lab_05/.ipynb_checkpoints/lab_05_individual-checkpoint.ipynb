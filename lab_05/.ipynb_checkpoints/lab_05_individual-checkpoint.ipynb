{
 "cells": [
  {
   "cell_type": "markdown",
   "metadata": {},
   "source": [
    "# STAT 207 Lab 5 - Individual Part - [25 total points] - Solutions\n",
    "\n",
    "## Central Limit Theorem and Confidence Intervals"
   ]
  },
  {
   "cell_type": "markdown",
   "metadata": {},
   "source": [
    "Due: Tuesday, March 28 11:59pm CST\n",
    "\n",
    "\n",
    "\n",
    "## <u>Case Studies</u>: U.S. County Unemployment Rate and Median Education Levels\n",
    "In this lab we will explore the statistical concepts that we've learned this week while also examining the **unemployment rates** and the **median education levels** of the counties in the U.S."
   ]
  },
  {
   "cell_type": "markdown",
   "metadata": {},
   "source": [
    "### Imports"
   ]
  },
  {
   "cell_type": "code",
   "execution_count": 23,
   "metadata": {},
   "outputs": [],
   "source": [
    "import pandas as pd\n",
    "import numpy as np\n",
    "import matplotlib.pyplot as plt\n",
    "import seaborn as sns; sns.set()\n",
    "from scipy.stats import norm"
   ]
  },
  {
   "cell_type": "markdown",
   "metadata": {},
   "source": [
    "### 1. Data Processing and Cleaning"
   ]
  },
  {
   "cell_type": "markdown",
   "metadata": {},
   "source": [
    "#### 1.1. [0.5 pt] Read the county.csv into a dataframe, call it df, and display the first five rows.\n",
    "\n",
    "This dataset has missing values! Specifically, the phrase 'data unavailable' represents missing values in this csv. Make sure you encode these values as NaN when you read the data in."
   ]
  },
  {
   "cell_type": "code",
   "execution_count": 4,
   "metadata": {},
   "outputs": [
    {
     "data": {
      "text/html": [
       "<div>\n",
       "<style scoped>\n",
       "    .dataframe tbody tr th:only-of-type {\n",
       "        vertical-align: middle;\n",
       "    }\n",
       "\n",
       "    .dataframe tbody tr th {\n",
       "        vertical-align: top;\n",
       "    }\n",
       "\n",
       "    .dataframe thead th {\n",
       "        text-align: right;\n",
       "    }\n",
       "</style>\n",
       "<table border=\"1\" class=\"dataframe\">\n",
       "  <thead>\n",
       "    <tr style=\"text-align: right;\">\n",
       "      <th></th>\n",
       "      <th>name</th>\n",
       "      <th>state</th>\n",
       "      <th>pop2000</th>\n",
       "      <th>pop2010</th>\n",
       "      <th>pop2017</th>\n",
       "      <th>pop_change</th>\n",
       "      <th>poverty</th>\n",
       "      <th>homeownership</th>\n",
       "      <th>multi_unit</th>\n",
       "      <th>unemployment_rate</th>\n",
       "      <th>metro</th>\n",
       "      <th>median_edu</th>\n",
       "      <th>per_capita_income</th>\n",
       "      <th>median_hh_income</th>\n",
       "      <th>smoking_ban</th>\n",
       "    </tr>\n",
       "  </thead>\n",
       "  <tbody>\n",
       "    <tr>\n",
       "      <th>0</th>\n",
       "      <td>Autauga County</td>\n",
       "      <td>Alabama</td>\n",
       "      <td>43671.0</td>\n",
       "      <td>54571</td>\n",
       "      <td>55504.0</td>\n",
       "      <td>1.48</td>\n",
       "      <td>13.7</td>\n",
       "      <td>77.5</td>\n",
       "      <td>7.2</td>\n",
       "      <td>3.86</td>\n",
       "      <td>yes</td>\n",
       "      <td>some_college</td>\n",
       "      <td>27841.70</td>\n",
       "      <td>55317.0</td>\n",
       "      <td>none</td>\n",
       "    </tr>\n",
       "    <tr>\n",
       "      <th>1</th>\n",
       "      <td>Baldwin County</td>\n",
       "      <td>Alabama</td>\n",
       "      <td>140415.0</td>\n",
       "      <td>182265</td>\n",
       "      <td>212628.0</td>\n",
       "      <td>9.19</td>\n",
       "      <td>11.8</td>\n",
       "      <td>76.7</td>\n",
       "      <td>22.6</td>\n",
       "      <td>3.99</td>\n",
       "      <td>yes</td>\n",
       "      <td>some_college</td>\n",
       "      <td>27779.85</td>\n",
       "      <td>52562.0</td>\n",
       "      <td>none</td>\n",
       "    </tr>\n",
       "    <tr>\n",
       "      <th>2</th>\n",
       "      <td>Barbour County</td>\n",
       "      <td>Alabama</td>\n",
       "      <td>29038.0</td>\n",
       "      <td>27457</td>\n",
       "      <td>25270.0</td>\n",
       "      <td>-6.22</td>\n",
       "      <td>27.2</td>\n",
       "      <td>68.0</td>\n",
       "      <td>11.1</td>\n",
       "      <td>5.90</td>\n",
       "      <td>no</td>\n",
       "      <td>hs_diploma</td>\n",
       "      <td>17891.73</td>\n",
       "      <td>33368.0</td>\n",
       "      <td>partial</td>\n",
       "    </tr>\n",
       "    <tr>\n",
       "      <th>3</th>\n",
       "      <td>Bibb County</td>\n",
       "      <td>Alabama</td>\n",
       "      <td>20826.0</td>\n",
       "      <td>22915</td>\n",
       "      <td>22668.0</td>\n",
       "      <td>0.73</td>\n",
       "      <td>15.2</td>\n",
       "      <td>82.9</td>\n",
       "      <td>6.6</td>\n",
       "      <td>4.39</td>\n",
       "      <td>yes</td>\n",
       "      <td>hs_diploma</td>\n",
       "      <td>20572.05</td>\n",
       "      <td>43404.0</td>\n",
       "      <td>none</td>\n",
       "    </tr>\n",
       "    <tr>\n",
       "      <th>4</th>\n",
       "      <td>Blount County</td>\n",
       "      <td>Alabama</td>\n",
       "      <td>51024.0</td>\n",
       "      <td>57322</td>\n",
       "      <td>58013.0</td>\n",
       "      <td>0.68</td>\n",
       "      <td>15.6</td>\n",
       "      <td>82.0</td>\n",
       "      <td>3.7</td>\n",
       "      <td>4.02</td>\n",
       "      <td>yes</td>\n",
       "      <td>hs_diploma</td>\n",
       "      <td>21367.39</td>\n",
       "      <td>47412.0</td>\n",
       "      <td>none</td>\n",
       "    </tr>\n",
       "    <tr>\n",
       "      <th>...</th>\n",
       "      <td>...</td>\n",
       "      <td>...</td>\n",
       "      <td>...</td>\n",
       "      <td>...</td>\n",
       "      <td>...</td>\n",
       "      <td>...</td>\n",
       "      <td>...</td>\n",
       "      <td>...</td>\n",
       "      <td>...</td>\n",
       "      <td>...</td>\n",
       "      <td>...</td>\n",
       "      <td>...</td>\n",
       "      <td>...</td>\n",
       "      <td>...</td>\n",
       "      <td>...</td>\n",
       "    </tr>\n",
       "    <tr>\n",
       "      <th>3137</th>\n",
       "      <td>Sweetwater County</td>\n",
       "      <td>Wyoming</td>\n",
       "      <td>37613.0</td>\n",
       "      <td>43806</td>\n",
       "      <td>43534.0</td>\n",
       "      <td>-3.57</td>\n",
       "      <td>12.0</td>\n",
       "      <td>73.7</td>\n",
       "      <td>14.6</td>\n",
       "      <td>4.55</td>\n",
       "      <td>no</td>\n",
       "      <td>some_college</td>\n",
       "      <td>30282.59</td>\n",
       "      <td>71083.0</td>\n",
       "      <td>none</td>\n",
       "    </tr>\n",
       "    <tr>\n",
       "      <th>3138</th>\n",
       "      <td>Teton County</td>\n",
       "      <td>Wyoming</td>\n",
       "      <td>18251.0</td>\n",
       "      <td>21294</td>\n",
       "      <td>23265.0</td>\n",
       "      <td>4.21</td>\n",
       "      <td>6.8</td>\n",
       "      <td>60.8</td>\n",
       "      <td>31.9</td>\n",
       "      <td>2.99</td>\n",
       "      <td>no</td>\n",
       "      <td>bachelors</td>\n",
       "      <td>48557.37</td>\n",
       "      <td>80049.0</td>\n",
       "      <td>partial</td>\n",
       "    </tr>\n",
       "    <tr>\n",
       "      <th>3139</th>\n",
       "      <td>Uinta County</td>\n",
       "      <td>Wyoming</td>\n",
       "      <td>19742.0</td>\n",
       "      <td>21118</td>\n",
       "      <td>20495.0</td>\n",
       "      <td>-2.22</td>\n",
       "      <td>14.9</td>\n",
       "      <td>73.7</td>\n",
       "      <td>17.0</td>\n",
       "      <td>4.50</td>\n",
       "      <td>no</td>\n",
       "      <td>some_college</td>\n",
       "      <td>27048.12</td>\n",
       "      <td>54672.0</td>\n",
       "      <td>none</td>\n",
       "    </tr>\n",
       "    <tr>\n",
       "      <th>3140</th>\n",
       "      <td>Washakie County</td>\n",
       "      <td>Wyoming</td>\n",
       "      <td>8289.0</td>\n",
       "      <td>8533</td>\n",
       "      <td>8064.0</td>\n",
       "      <td>-4.31</td>\n",
       "      <td>12.8</td>\n",
       "      <td>70.9</td>\n",
       "      <td>10.0</td>\n",
       "      <td>4.08</td>\n",
       "      <td>no</td>\n",
       "      <td>some_college</td>\n",
       "      <td>27494.83</td>\n",
       "      <td>51362.0</td>\n",
       "      <td>none</td>\n",
       "    </tr>\n",
       "    <tr>\n",
       "      <th>3141</th>\n",
       "      <td>Weston County</td>\n",
       "      <td>Wyoming</td>\n",
       "      <td>6644.0</td>\n",
       "      <td>7208</td>\n",
       "      <td>6927.0</td>\n",
       "      <td>-2.93</td>\n",
       "      <td>14.4</td>\n",
       "      <td>77.9</td>\n",
       "      <td>6.5</td>\n",
       "      <td>3.98</td>\n",
       "      <td>no</td>\n",
       "      <td>some_college</td>\n",
       "      <td>33296.70</td>\n",
       "      <td>59605.0</td>\n",
       "      <td>none</td>\n",
       "    </tr>\n",
       "  </tbody>\n",
       "</table>\n",
       "<p>3142 rows × 15 columns</p>\n",
       "</div>"
      ],
      "text/plain": [
       "                   name    state   pop2000  pop2010   pop2017  pop_change  \\\n",
       "0        Autauga County  Alabama   43671.0    54571   55504.0        1.48   \n",
       "1        Baldwin County  Alabama  140415.0   182265  212628.0        9.19   \n",
       "2        Barbour County  Alabama   29038.0    27457   25270.0       -6.22   \n",
       "3           Bibb County  Alabama   20826.0    22915   22668.0        0.73   \n",
       "4         Blount County  Alabama   51024.0    57322   58013.0        0.68   \n",
       "...                 ...      ...       ...      ...       ...         ...   \n",
       "3137  Sweetwater County  Wyoming   37613.0    43806   43534.0       -3.57   \n",
       "3138       Teton County  Wyoming   18251.0    21294   23265.0        4.21   \n",
       "3139       Uinta County  Wyoming   19742.0    21118   20495.0       -2.22   \n",
       "3140    Washakie County  Wyoming    8289.0     8533    8064.0       -4.31   \n",
       "3141      Weston County  Wyoming    6644.0     7208    6927.0       -2.93   \n",
       "\n",
       "      poverty  homeownership  multi_unit  unemployment_rate metro  \\\n",
       "0        13.7           77.5         7.2               3.86   yes   \n",
       "1        11.8           76.7        22.6               3.99   yes   \n",
       "2        27.2           68.0        11.1               5.90    no   \n",
       "3        15.2           82.9         6.6               4.39   yes   \n",
       "4        15.6           82.0         3.7               4.02   yes   \n",
       "...       ...            ...         ...                ...   ...   \n",
       "3137     12.0           73.7        14.6               4.55    no   \n",
       "3138      6.8           60.8        31.9               2.99    no   \n",
       "3139     14.9           73.7        17.0               4.50    no   \n",
       "3140     12.8           70.9        10.0               4.08    no   \n",
       "3141     14.4           77.9         6.5               3.98    no   \n",
       "\n",
       "        median_edu  per_capita_income  median_hh_income smoking_ban  \n",
       "0     some_college           27841.70           55317.0        none  \n",
       "1     some_college           27779.85           52562.0        none  \n",
       "2       hs_diploma           17891.73           33368.0     partial  \n",
       "3       hs_diploma           20572.05           43404.0        none  \n",
       "4       hs_diploma           21367.39           47412.0        none  \n",
       "...            ...                ...               ...         ...  \n",
       "3137  some_college           30282.59           71083.0        none  \n",
       "3138     bachelors           48557.37           80049.0     partial  \n",
       "3139  some_college           27048.12           54672.0        none  \n",
       "3140  some_college           27494.83           51362.0        none  \n",
       "3141  some_college           33296.70           59605.0        none  \n",
       "\n",
       "[3142 rows x 15 columns]"
      ]
     },
     "execution_count": 4,
     "metadata": {},
     "output_type": "execute_result"
    }
   ],
   "source": [
    "missing_values = ['NaN', 'data unavailable']\n",
    "df = pd.read_csv('county.csv', na_values = missing_values)\n",
    "df"
   ]
  },
  {
   "cell_type": "markdown",
   "metadata": {},
   "source": [
    "#### 1.2. [0.25pt] Display the shape of the dataframe."
   ]
  },
  {
   "cell_type": "code",
   "execution_count": 5,
   "metadata": {},
   "outputs": [
    {
     "data": {
      "text/plain": [
       "(3142, 15)"
      ]
     },
     "execution_count": 5,
     "metadata": {},
     "output_type": "execute_result"
    }
   ],
   "source": [
    "df.shape"
   ]
  },
  {
   "cell_type": "markdown",
   "metadata": {},
   "source": [
    "#### 1.3. [0.5 pt] How many missing values does the unemployment rate variable have? How many missing values does the median_edu variable have?"
   ]
  },
  {
   "cell_type": "code",
   "execution_count": 6,
   "metadata": {},
   "outputs": [
    {
     "data": {
      "text/plain": [
       "3"
      ]
     },
     "execution_count": 6,
     "metadata": {},
     "output_type": "execute_result"
    }
   ],
   "source": [
    "df['unemployment_rate'].isna().sum()"
   ]
  },
  {
   "cell_type": "code",
   "execution_count": 7,
   "metadata": {},
   "outputs": [
    {
     "data": {
      "text/plain": [
       "2"
      ]
     },
     "execution_count": 7,
     "metadata": {},
     "output_type": "execute_result"
    }
   ],
   "source": [
    "df['median_edu'].isna().sum()"
   ]
  },
  {
   "cell_type": "markdown",
   "metadata": {},
   "source": [
    "The unemployment rate variable has 3 missing values and the median_edu variable has 2 missing values"
   ]
  },
  {
   "cell_type": "markdown",
   "metadata": {},
   "source": [
    "#### 1.4. [0.5 pt] Clean the dataframe.\n",
    "\n",
    "Create a pandas dataframe that is comprised of just the unemployment rate and the median_edu columns. Then drop all rows in this dataframe that have missing values.\n",
    "\n",
    "<u>Hint</u>: *Section 4.1.1 in the Unit 9 notebook can be useful for this part.*"
   ]
  },
  {
   "cell_type": "code",
   "execution_count": 8,
   "metadata": {},
   "outputs": [
    {
     "data": {
      "text/html": [
       "<div>\n",
       "<style scoped>\n",
       "    .dataframe tbody tr th:only-of-type {\n",
       "        vertical-align: middle;\n",
       "    }\n",
       "\n",
       "    .dataframe tbody tr th {\n",
       "        vertical-align: top;\n",
       "    }\n",
       "\n",
       "    .dataframe thead th {\n",
       "        text-align: right;\n",
       "    }\n",
       "</style>\n",
       "<table border=\"1\" class=\"dataframe\">\n",
       "  <thead>\n",
       "    <tr style=\"text-align: right;\">\n",
       "      <th></th>\n",
       "      <th>unemployment_rate</th>\n",
       "      <th>median_edu</th>\n",
       "    </tr>\n",
       "  </thead>\n",
       "  <tbody>\n",
       "    <tr>\n",
       "      <th>0</th>\n",
       "      <td>3.86</td>\n",
       "      <td>some_college</td>\n",
       "    </tr>\n",
       "    <tr>\n",
       "      <th>1</th>\n",
       "      <td>3.99</td>\n",
       "      <td>some_college</td>\n",
       "    </tr>\n",
       "    <tr>\n",
       "      <th>2</th>\n",
       "      <td>5.90</td>\n",
       "      <td>hs_diploma</td>\n",
       "    </tr>\n",
       "    <tr>\n",
       "      <th>3</th>\n",
       "      <td>4.39</td>\n",
       "      <td>hs_diploma</td>\n",
       "    </tr>\n",
       "    <tr>\n",
       "      <th>4</th>\n",
       "      <td>4.02</td>\n",
       "      <td>hs_diploma</td>\n",
       "    </tr>\n",
       "    <tr>\n",
       "      <th>...</th>\n",
       "      <td>...</td>\n",
       "      <td>...</td>\n",
       "    </tr>\n",
       "    <tr>\n",
       "      <th>3137</th>\n",
       "      <td>4.55</td>\n",
       "      <td>some_college</td>\n",
       "    </tr>\n",
       "    <tr>\n",
       "      <th>3138</th>\n",
       "      <td>2.99</td>\n",
       "      <td>bachelors</td>\n",
       "    </tr>\n",
       "    <tr>\n",
       "      <th>3139</th>\n",
       "      <td>4.50</td>\n",
       "      <td>some_college</td>\n",
       "    </tr>\n",
       "    <tr>\n",
       "      <th>3140</th>\n",
       "      <td>4.08</td>\n",
       "      <td>some_college</td>\n",
       "    </tr>\n",
       "    <tr>\n",
       "      <th>3141</th>\n",
       "      <td>3.98</td>\n",
       "      <td>some_college</td>\n",
       "    </tr>\n",
       "  </tbody>\n",
       "</table>\n",
       "<p>3139 rows × 2 columns</p>\n",
       "</div>"
      ],
      "text/plain": [
       "      unemployment_rate    median_edu\n",
       "0                  3.86  some_college\n",
       "1                  3.99  some_college\n",
       "2                  5.90    hs_diploma\n",
       "3                  4.39    hs_diploma\n",
       "4                  4.02    hs_diploma\n",
       "...                 ...           ...\n",
       "3137               4.55  some_college\n",
       "3138               2.99     bachelors\n",
       "3139               4.50  some_college\n",
       "3140               4.08  some_college\n",
       "3141               3.98  some_college\n",
       "\n",
       "[3139 rows x 2 columns]"
      ]
     },
     "execution_count": 8,
     "metadata": {},
     "output_type": "execute_result"
    }
   ],
   "source": [
    "clean_df = df.filter(['unemployment_rate', 'median_edu'], axis = 1).dropna()\n",
    "clean_df"
   ]
  },
  {
   "cell_type": "markdown",
   "metadata": {},
   "source": [
    "#### 1.5. [0.25 pt] Display the shape of this new dataframe you created in 1.4."
   ]
  },
  {
   "cell_type": "code",
   "execution_count": 9,
   "metadata": {},
   "outputs": [
    {
     "data": {
      "text/plain": [
       "(3139, 2)"
      ]
     },
     "execution_count": 9,
     "metadata": {},
     "output_type": "execute_result"
    }
   ],
   "source": [
    "clean_df.shape"
   ]
  },
  {
   "cell_type": "markdown",
   "metadata": {},
   "source": [
    "## 2. <u>Central Limit Theorem (for Sample Means) Exploration</u>\n",
    "\n",
    "### 2.1. *Population* of County Unemployment Rates\n",
    "\n",
    "Let's assume that thist cleaned dataframe represents a **population** of all U.S. counties.\n",
    "\n",
    "#### 2.1.1. [0.5 pt] Calculate the population mean and the population standard deviation unemployment rates."
   ]
  },
  {
   "cell_type": "code",
   "execution_count": 10,
   "metadata": {},
   "outputs": [
    {
     "data": {
      "text/plain": [
       "4.611443134756292"
      ]
     },
     "execution_count": 10,
     "metadata": {},
     "output_type": "execute_result"
    }
   ],
   "source": [
    "pop_mean = clean_df['unemployment_rate'].mean()\n",
    "pop_mean"
   ]
  },
  {
   "cell_type": "code",
   "execution_count": 11,
   "metadata": {},
   "outputs": [
    {
     "data": {
      "text/plain": [
       "1.648761085622538"
      ]
     },
     "execution_count": 11,
     "metadata": {},
     "output_type": "execute_result"
    }
   ],
   "source": [
    "pop_std = clean_df['unemployment_rate'].std()\n",
    "pop_std"
   ]
  },
  {
   "cell_type": "markdown",
   "metadata": {},
   "source": [
    "#### 2.1.2.  [0.5 pt] Plot the population distribution of unemployment rates in a histogram.\n",
    "\n",
    "Make sure you label your x-axis and title appropriately."
   ]
  },
  {
   "cell_type": "code",
   "execution_count": 12,
   "metadata": {},
   "outputs": [
    {
     "data": {
      "image/png": "[encoded data removed]",
      "text/plain": [
       "<Figure size 432x288 with 1 Axes>"
      ]
     },
     "metadata": {},
     "output_type": "display_data"
    }
   ],
   "source": [
    "ur = clean_df['unemployment_rate']\n",
    "ur.hist(color = 'blue')\n",
    "plt.title('Unemployment Rates')\n",
    "plt.xlabel('Unemployment Rates')\n",
    "plt.ylabel('Frequency')\n",
    "plt.show()"
   ]
  },
  {
   "cell_type": "markdown",
   "metadata": {},
   "source": [
    "### 2.2. *Random Sample* of County Unemployment Rates\n",
    "\n",
    "#### 2.2.1. [0.5 pt] Collect a random sample of size 50 from this population (using a random state of 101) WITHOUT replacement."
   ]
  },
  {
   "cell_type": "code",
   "execution_count": 13,
   "metadata": {},
   "outputs": [
    {
     "data": {
      "text/html": [
       "<div>\n",
       "<style scoped>\n",
       "    .dataframe tbody tr th:only-of-type {\n",
       "        vertical-align: middle;\n",
       "    }\n",
       "\n",
       "    .dataframe tbody tr th {\n",
       "        vertical-align: top;\n",
       "    }\n",
       "\n",
       "    .dataframe thead th {\n",
       "        text-align: right;\n",
       "    }\n",
       "</style>\n",
       "<table border=\"1\" class=\"dataframe\">\n",
       "  <thead>\n",
       "    <tr style=\"text-align: right;\">\n",
       "      <th></th>\n",
       "      <th>unemployment_rate</th>\n",
       "      <th>median_edu</th>\n",
       "    </tr>\n",
       "  </thead>\n",
       "  <tbody>\n",
       "    <tr>\n",
       "      <th>1294</th>\n",
       "      <td>7.15</td>\n",
       "      <td>some_college</td>\n",
       "    </tr>\n",
       "    <tr>\n",
       "      <th>960</th>\n",
       "      <td>3.33</td>\n",
       "      <td>some_college</td>\n",
       "    </tr>\n",
       "    <tr>\n",
       "      <th>105</th>\n",
       "      <td>7.57</td>\n",
       "      <td>some_college</td>\n",
       "    </tr>\n",
       "    <tr>\n",
       "      <th>692</th>\n",
       "      <td>4.73</td>\n",
       "      <td>some_college</td>\n",
       "    </tr>\n",
       "    <tr>\n",
       "      <th>502</th>\n",
       "      <td>5.28</td>\n",
       "      <td>hs_diploma</td>\n",
       "    </tr>\n",
       "    <tr>\n",
       "      <th>1824</th>\n",
       "      <td>7.94</td>\n",
       "      <td>some_college</td>\n",
       "    </tr>\n",
       "    <tr>\n",
       "      <th>335</th>\n",
       "      <td>4.14</td>\n",
       "      <td>some_college</td>\n",
       "    </tr>\n",
       "    <tr>\n",
       "      <th>2510</th>\n",
       "      <td>2.96</td>\n",
       "      <td>some_college</td>\n",
       "    </tr>\n",
       "    <tr>\n",
       "      <th>6</th>\n",
       "      <td>5.49</td>\n",
       "      <td>hs_diploma</td>\n",
       "    </tr>\n",
       "    <tr>\n",
       "      <th>649</th>\n",
       "      <td>4.88</td>\n",
       "      <td>some_college</td>\n",
       "    </tr>\n",
       "    <tr>\n",
       "      <th>248</th>\n",
       "      <td>1.64</td>\n",
       "      <td>some_college</td>\n",
       "    </tr>\n",
       "    <tr>\n",
       "      <th>982</th>\n",
       "      <td>3.20</td>\n",
       "      <td>some_college</td>\n",
       "    </tr>\n",
       "    <tr>\n",
       "      <th>3057</th>\n",
       "      <td>2.94</td>\n",
       "      <td>some_college</td>\n",
       "    </tr>\n",
       "    <tr>\n",
       "      <th>2269</th>\n",
       "      <td>6.93</td>\n",
       "      <td>hs_diploma</td>\n",
       "    </tr>\n",
       "    <tr>\n",
       "      <th>3014</th>\n",
       "      <td>7.50</td>\n",
       "      <td>hs_diploma</td>\n",
       "    </tr>\n",
       "    <tr>\n",
       "      <th>2931</th>\n",
       "      <td>6.09</td>\n",
       "      <td>hs_diploma</td>\n",
       "    </tr>\n",
       "    <tr>\n",
       "      <th>2646</th>\n",
       "      <td>7.23</td>\n",
       "      <td>hs_diploma</td>\n",
       "    </tr>\n",
       "    <tr>\n",
       "      <th>732</th>\n",
       "      <td>2.97</td>\n",
       "      <td>hs_diploma</td>\n",
       "    </tr>\n",
       "    <tr>\n",
       "      <th>1501</th>\n",
       "      <td>3.48</td>\n",
       "      <td>some_college</td>\n",
       "    </tr>\n",
       "    <tr>\n",
       "      <th>2514</th>\n",
       "      <td>4.36</td>\n",
       "      <td>hs_diploma</td>\n",
       "    </tr>\n",
       "    <tr>\n",
       "      <th>60</th>\n",
       "      <td>4.96</td>\n",
       "      <td>hs_diploma</td>\n",
       "    </tr>\n",
       "    <tr>\n",
       "      <th>45</th>\n",
       "      <td>5.65</td>\n",
       "      <td>hs_diploma</td>\n",
       "    </tr>\n",
       "    <tr>\n",
       "      <th>879</th>\n",
       "      <td>2.75</td>\n",
       "      <td>some_college</td>\n",
       "    </tr>\n",
       "    <tr>\n",
       "      <th>2630</th>\n",
       "      <td>7.39</td>\n",
       "      <td>hs_diploma</td>\n",
       "    </tr>\n",
       "    <tr>\n",
       "      <th>2550</th>\n",
       "      <td>3.87</td>\n",
       "      <td>hs_diploma</td>\n",
       "    </tr>\n",
       "    <tr>\n",
       "      <th>2533</th>\n",
       "      <td>3.53</td>\n",
       "      <td>some_college</td>\n",
       "    </tr>\n",
       "    <tr>\n",
       "      <th>2192</th>\n",
       "      <td>3.80</td>\n",
       "      <td>some_college</td>\n",
       "    </tr>\n",
       "    <tr>\n",
       "      <th>558</th>\n",
       "      <td>4.78</td>\n",
       "      <td>some_college</td>\n",
       "    </tr>\n",
       "    <tr>\n",
       "      <th>3046</th>\n",
       "      <td>7.00</td>\n",
       "      <td>hs_diploma</td>\n",
       "    </tr>\n",
       "    <tr>\n",
       "      <th>2189</th>\n",
       "      <td>5.37</td>\n",
       "      <td>hs_diploma</td>\n",
       "    </tr>\n",
       "    <tr>\n",
       "      <th>2901</th>\n",
       "      <td>3.54</td>\n",
       "      <td>hs_diploma</td>\n",
       "    </tr>\n",
       "    <tr>\n",
       "      <th>666</th>\n",
       "      <td>5.77</td>\n",
       "      <td>some_college</td>\n",
       "    </tr>\n",
       "    <tr>\n",
       "      <th>1852</th>\n",
       "      <td>6.72</td>\n",
       "      <td>hs_diploma</td>\n",
       "    </tr>\n",
       "    <tr>\n",
       "      <th>1938</th>\n",
       "      <td>4.25</td>\n",
       "      <td>some_college</td>\n",
       "    </tr>\n",
       "    <tr>\n",
       "      <th>2445</th>\n",
       "      <td>4.60</td>\n",
       "      <td>hs_diploma</td>\n",
       "    </tr>\n",
       "    <tr>\n",
       "      <th>222</th>\n",
       "      <td>4.00</td>\n",
       "      <td>some_college</td>\n",
       "    </tr>\n",
       "    <tr>\n",
       "      <th>2008</th>\n",
       "      <td>2.87</td>\n",
       "      <td>some_college</td>\n",
       "    </tr>\n",
       "    <tr>\n",
       "      <th>2527</th>\n",
       "      <td>3.42</td>\n",
       "      <td>some_college</td>\n",
       "    </tr>\n",
       "    <tr>\n",
       "      <th>1539</th>\n",
       "      <td>3.59</td>\n",
       "      <td>hs_diploma</td>\n",
       "    </tr>\n",
       "    <tr>\n",
       "      <th>1117</th>\n",
       "      <td>6.16</td>\n",
       "      <td>hs_diploma</td>\n",
       "    </tr>\n",
       "    <tr>\n",
       "      <th>889</th>\n",
       "      <td>3.96</td>\n",
       "      <td>some_college</td>\n",
       "    </tr>\n",
       "    <tr>\n",
       "      <th>1540</th>\n",
       "      <td>5.90</td>\n",
       "      <td>hs_diploma</td>\n",
       "    </tr>\n",
       "    <tr>\n",
       "      <th>417</th>\n",
       "      <td>5.85</td>\n",
       "      <td>some_college</td>\n",
       "    </tr>\n",
       "    <tr>\n",
       "      <th>1958</th>\n",
       "      <td>4.80</td>\n",
       "      <td>some_college</td>\n",
       "    </tr>\n",
       "    <tr>\n",
       "      <th>1361</th>\n",
       "      <td>5.52</td>\n",
       "      <td>some_college</td>\n",
       "    </tr>\n",
       "    <tr>\n",
       "      <th>2065</th>\n",
       "      <td>4.26</td>\n",
       "      <td>some_college</td>\n",
       "    </tr>\n",
       "    <tr>\n",
       "      <th>2643</th>\n",
       "      <td>7.44</td>\n",
       "      <td>hs_diploma</td>\n",
       "    </tr>\n",
       "    <tr>\n",
       "      <th>2921</th>\n",
       "      <td>6.26</td>\n",
       "      <td>hs_diploma</td>\n",
       "    </tr>\n",
       "    <tr>\n",
       "      <th>2977</th>\n",
       "      <td>7.04</td>\n",
       "      <td>some_college</td>\n",
       "    </tr>\n",
       "    <tr>\n",
       "      <th>59</th>\n",
       "      <td>6.54</td>\n",
       "      <td>hs_diploma</td>\n",
       "    </tr>\n",
       "  </tbody>\n",
       "</table>\n",
       "</div>"
      ],
      "text/plain": [
       "      unemployment_rate    median_edu\n",
       "1294               7.15  some_college\n",
       "960                3.33  some_college\n",
       "105                7.57  some_college\n",
       "692                4.73  some_college\n",
       "502                5.28    hs_diploma\n",
       "1824               7.94  some_college\n",
       "335                4.14  some_college\n",
       "2510               2.96  some_college\n",
       "6                  5.49    hs_diploma\n",
       "649                4.88  some_college\n",
       "248                1.64  some_college\n",
       "982                3.20  some_college\n",
       "3057               2.94  some_college\n",
       "2269               6.93    hs_diploma\n",
       "3014               7.50    hs_diploma\n",
       "2931               6.09    hs_diploma\n",
       "2646               7.23    hs_diploma\n",
       "732                2.97    hs_diploma\n",
       "1501               3.48  some_college\n",
       "2514               4.36    hs_diploma\n",
       "60                 4.96    hs_diploma\n",
       "45                 5.65    hs_diploma\n",
       "879                2.75  some_college\n",
       "2630               7.39    hs_diploma\n",
       "2550               3.87    hs_diploma\n",
       "2533               3.53  some_college\n",
       "2192               3.80  some_college\n",
       "558                4.78  some_college\n",
       "3046               7.00    hs_diploma\n",
       "2189               5.37    hs_diploma\n",
       "2901               3.54    hs_diploma\n",
       "666                5.77  some_college\n",
       "1852               6.72    hs_diploma\n",
       "1938               4.25  some_college\n",
       "2445               4.60    hs_diploma\n",
       "222                4.00  some_college\n",
       "2008               2.87  some_college\n",
       "2527               3.42  some_college\n",
       "1539               3.59    hs_diploma\n",
       "1117               6.16    hs_diploma\n",
       "889                3.96  some_college\n",
       "1540               5.90    hs_diploma\n",
       "417                5.85  some_college\n",
       "1958               4.80  some_college\n",
       "1361               5.52  some_college\n",
       "2065               4.26  some_college\n",
       "2643               7.44    hs_diploma\n",
       "2921               6.26    hs_diploma\n",
       "2977               7.04  some_college\n",
       "59                 6.54    hs_diploma"
      ]
     },
     "execution_count": 13,
     "metadata": {},
     "output_type": "execute_result"
    }
   ],
   "source": [
    "random_sample = clean_df.sample(n = 50, replace = False, random_state = 101)\n",
    "random_sample"
   ]
  },
  {
   "cell_type": "markdown",
   "metadata": {},
   "source": [
    "#### 2.2.2.  [0.5 pt]  Calculate the mean and standard deviation of this sample."
   ]
  },
  {
   "cell_type": "code",
   "execution_count": 14,
   "metadata": {},
   "outputs": [
    {
     "data": {
      "text/plain": [
       "5.028"
      ]
     },
     "execution_count": 14,
     "metadata": {},
     "output_type": "execute_result"
    }
   ],
   "source": [
    "rs_mean = random_sample['unemployment_rate'].mean()\n",
    "rs_mean"
   ]
  },
  {
   "cell_type": "code",
   "execution_count": 15,
   "metadata": {},
   "outputs": [
    {
     "data": {
      "text/plain": [
       "1.598841417261581"
      ]
     },
     "execution_count": 15,
     "metadata": {},
     "output_type": "execute_result"
    }
   ],
   "source": [
    "rs_std = random_sample['unemployment_rate'].std()\n",
    "rs_std"
   ]
  },
  {
   "cell_type": "markdown",
   "metadata": {},
   "source": [
    "#### 2.2.3.  [0.5 pt]  Plot the sample distribution of unemployment rates in a histogram.\n",
    "\n",
    "Make sure that you label the x-axis and title appropriately."
   ]
  },
  {
   "cell_type": "code",
   "execution_count": 16,
   "metadata": {},
   "outputs": [
    {
     "data": {
      "image/png": "[encoded data removed]",
      "text/plain": [
       "<Figure size 432x288 with 1 Axes>"
      ]
     },
     "metadata": {},
     "output_type": "display_data"
    }
   ],
   "source": [
    "ur_sample = random_sample['unemployment_rate']\n",
    "ur_sample.hist(color = 'orange')\n",
    "plt.title('Random Sample of Unemployment Rates')\n",
    "plt.xlabel('Unemployment Rates')\n",
    "plt.ylabel('Frequency')\n",
    "plt.show()"
   ]
  },
  {
   "cell_type": "markdown",
   "metadata": {},
   "source": [
    "### 2.3. Sampling Distribution - *Theoretical*\n",
    "\n",
    "Suppose we were to create a sampling distribution with many, many sample means unemployment rates, where each sample was of size 50 (drawn with replacement from the population of all county unemployment rates).\n",
    "\n",
    "#### 2.3.1.  [1 pt]  What would we *expect* the mean of this *theoretical* sampling distribution to be?\n",
    "\n",
    "<u>Hint</u>: *In this part, we are not actually looking for you to calculate the mean of an **actual** sampling distribution.*\n",
    "\n",
    "<u>Hint</u>: *In this part, you should assume that you know the population parameters.*"
   ]
  },
  {
   "cell_type": "code",
   "execution_count": 17,
   "metadata": {},
   "outputs": [
    {
     "data": {
      "text/plain": [
       "4.611443134756292"
      ]
     },
     "execution_count": 17,
     "metadata": {},
     "output_type": "execute_result"
    }
   ],
   "source": [
    "t_mean = pop_mean\n",
    "t_mean"
   ]
  },
  {
   "cell_type": "markdown",
   "metadata": {},
   "source": [
    "We would expect the mean of this theoretical sampling distribution to be the same as the population mean because the conditions for the Central Limit Theorem are met by the sample. Therefore the population distribution will match for the entire population."
   ]
  },
  {
   "cell_type": "markdown",
   "metadata": {},
   "source": [
    "#### 2.3.2  [1 pt]  What would we *expect* the standard deviation of this *theoretical* sampling distribution to be?\n",
    "\n",
    "<u>Hint</u>: *In this part, we are not actually looking for you to calculate the standard deviation of an **actual** sampling distribution.*\n",
    "\n",
    "<u>Hint</u>: *In this part, you should assume that you know the population parameters.*"
   ]
  },
  {
   "cell_type": "code",
   "execution_count": 18,
   "metadata": {},
   "outputs": [
    {
     "data": {
      "text/plain": [
       "0.2331700288400381"
      ]
     },
     "execution_count": 18,
     "metadata": {},
     "output_type": "execute_result"
    }
   ],
   "source": [
    "t_std = pop_std / np.sqrt(50)\n",
    "t_std"
   ]
  },
  {
   "cell_type": "markdown",
   "metadata": {},
   "source": [
    "We would expect the standard deviation to be 0.233 because it should be similar to the population's standard deviation but we have to divide it by the square root of 50 to account for the sample size of 50."
   ]
  },
  {
   "cell_type": "markdown",
   "metadata": {},
   "source": [
    "#### 2.3.3.  [0.75 pt]  Will this sampling distribution of sample means be approximately normal? Explain why."
   ]
  },
  {
   "cell_type": "markdown",
   "metadata": {},
   "source": [
    "Yes, because the sample is collected via random sampling and n > 30."
   ]
  },
  {
   "cell_type": "markdown",
   "metadata": {},
   "source": [
    "#### 2.3.4.  [0.5 pt]  Calculate the probability that a randomly selected sample mean unemployment rate (from this sampling distribution) is greater than or equal to the sample mean that we calculated in (2.2.2). "
   ]
  },
  {
   "cell_type": "code",
   "execution_count": 24,
   "metadata": {},
   "outputs": [],
   "source": [
    "sample_mean = 1 - norm.cdf(rs_mean, loc = pop_mean, scale = pop_std)"
   ]
  },
  {
   "cell_type": "code",
   "execution_count": 25,
   "metadata": {},
   "outputs": [
    {
     "data": {
      "text/plain": [
       "0.4002699591000919"
      ]
     },
     "execution_count": 25,
     "metadata": {},
     "output_type": "execute_result"
    }
   ],
   "source": [
    "sample_mean"
   ]
  },
  {
   "cell_type": "markdown",
   "metadata": {},
   "source": [
    "#### 2.3.5  [0.25 pt]  What is the value of a sample mean that is equally far away from the population mean (as the one from 2.2.2 is), but is less than the population mean)?"
   ]
  },
  {
   "cell_type": "code",
   "execution_count": 26,
   "metadata": {},
   "outputs": [],
   "source": [
    "diff = pop_mean - sample_mean"
   ]
  },
  {
   "cell_type": "code",
   "execution_count": 27,
   "metadata": {},
   "outputs": [
    {
     "data": {
      "text/plain": [
       "4.2111731756562"
      ]
     },
     "execution_count": 27,
     "metadata": {},
     "output_type": "execute_result"
    }
   ],
   "source": [
    "diff"
   ]
  },
  {
   "cell_type": "markdown",
   "metadata": {},
   "source": [
    "#### 2.3.6. [0.5 pt] Calculate the probability that a randomly selected sample mean (from this sampling distribution) is less than or equal to the sample mean that we calculated in (2.3.5.). "
   ]
  },
  {
   "cell_type": "code",
   "execution_count": 28,
   "metadata": {},
   "outputs": [],
   "source": [
    "prob = norm.cdf(diff, loc = pop_mean, scale = pop_std)"
   ]
  },
  {
   "cell_type": "code",
   "execution_count": 29,
   "metadata": {},
   "outputs": [
    {
     "data": {
      "text/plain": [
       "0.4040917343522654"
      ]
     },
     "execution_count": 29,
     "metadata": {},
     "output_type": "execute_result"
    }
   ],
   "source": [
    "prob"
   ]
  },
  {
   "cell_type": "markdown",
   "metadata": {},
   "source": [
    "### 2.4. Sampling Distribution - *Actual*\n",
    "\n",
    "#### 2.4.1 [1 pt] Create an actual sampling distribution\n",
    "\n",
    "Now, using your population of county unemployment rates, create an **actual sampling distribution** of sample mean unemployment rates. We would like our sampling distribution to contain 1000 sample means, each calculated on samples of size 50.\n"
   ]
  },
  {
   "cell_type": "code",
   "execution_count": 30,
   "metadata": {},
   "outputs": [],
   "source": [
    "def get_sample_dist(df):\n",
    "    for i in range(1000):\n",
    "        sample = df.sample(n = 50, replace = False)\n",
    "    return sample"
   ]
  },
  {
   "cell_type": "code",
   "execution_count": 31,
   "metadata": {},
   "outputs": [
    {
     "data": {
      "text/plain": [
       "483      4.28\n",
       "2124     6.83\n",
       "688      4.13\n",
       "885      3.21\n",
       "2176     7.82\n",
       "1068     4.30\n",
       "1951     4.64\n",
       "534      4.56\n",
       "599      2.85\n",
       "2197     5.86\n",
       "1689     2.52\n",
       "21       3.71\n",
       "1010     4.44\n",
       "2089     6.17\n",
       "2468     3.40\n",
       "880      2.91\n",
       "1859     6.21\n",
       "489      6.64\n",
       "499      4.54\n",
       "2864     3.46\n",
       "2232     4.42\n",
       "1763     5.05\n",
       "1827     6.66\n",
       "913      2.52\n",
       "2985     7.26\n",
       "2745     5.00\n",
       "2654     2.61\n",
       "1028     8.14\n",
       "2728     3.19\n",
       "1041     4.56\n",
       "571      2.28\n",
       "2328     4.35\n",
       "1924     4.67\n",
       "992      5.19\n",
       "1232     8.42\n",
       "1551     4.37\n",
       "2337     5.52\n",
       "855      3.69\n",
       "1058    10.08\n",
       "2660     3.95\n",
       "438      5.32\n",
       "2771     3.97\n",
       "417      5.85\n",
       "2803     3.46\n",
       "2273     5.92\n",
       "180      5.29\n",
       "3126     2.82\n",
       "201      8.87\n",
       "2207     4.21\n",
       "1369     3.96\n",
       "Name: unemployment_rate, dtype: float64"
      ]
     },
     "execution_count": 31,
     "metadata": {},
     "output_type": "execute_result"
    }
   ],
   "source": [
    "sample_dist = get_sample_dist(ur)\n",
    "sample_dist"
   ]
  },
  {
   "cell_type": "markdown",
   "metadata": {},
   "source": [
    "#### 2.4.2 [0.5 pt] Calculate the mean and the standard deviation of this sampling distribution you *actually* created in 2.4.1."
   ]
  },
  {
   "cell_type": "code",
   "execution_count": 32,
   "metadata": {},
   "outputs": [
    {
     "data": {
      "text/plain": [
       "4.881600000000001"
      ]
     },
     "execution_count": 32,
     "metadata": {},
     "output_type": "execute_result"
    }
   ],
   "source": [
    "random_mean = sample_dist.mean()\n",
    "random_mean"
   ]
  },
  {
   "cell_type": "code",
   "execution_count": 33,
   "metadata": {},
   "outputs": [
    {
     "data": {
      "text/plain": [
       "1.7692871388194278"
      ]
     },
     "execution_count": 33,
     "metadata": {},
     "output_type": "execute_result"
    }
   ],
   "source": [
    "random_std = sample_dist.std()\n",
    "random_std"
   ]
  },
  {
   "cell_type": "markdown",
   "metadata": {},
   "source": [
    "#### 2.4.3. [0.25 pt] How do these values compare to the sampling distribution mean and the standard deviation that you *theoretically* calculated in 2.3.1 and 2.3.2?"
   ]
  },
  {
   "cell_type": "code",
   "execution_count": 34,
   "metadata": {},
   "outputs": [
    {
     "data": {
      "text/plain": [
       "0.27015686524370874"
      ]
     },
     "execution_count": 34,
     "metadata": {},
     "output_type": "execute_result"
    }
   ],
   "source": [
    "mean_diff = abs(random_mean - t_mean)\n",
    "mean_diff"
   ]
  },
  {
   "cell_type": "code",
   "execution_count": 35,
   "metadata": {},
   "outputs": [
    {
     "data": {
      "text/plain": [
       "1.5361171099793898"
      ]
     },
     "execution_count": 35,
     "metadata": {},
     "output_type": "execute_result"
    }
   ],
   "source": [
    "mean_std = abs(random_std - t_std)\n",
    "mean_std"
   ]
  },
  {
   "cell_type": "markdown",
   "metadata": {},
   "source": [
    "#### 2.4.4. [0.25 pt] Plot the histogram of this sampling distribution.\n",
    "\n",
    "Make sure to appropriately label the x-axis and title of this plot."
   ]
  },
  {
   "cell_type": "code",
   "execution_count": 36,
   "metadata": {},
   "outputs": [
    {
     "data": {
      "image/png": "[encoded data removed]",
      "text/plain": [
       "<Figure size 432x288 with 1 Axes>"
      ]
     },
     "metadata": {},
     "output_type": "display_data"
    }
   ],
   "source": [
    "sample_dist.hist(color = 'green')\n",
    "plt.title('Actual Sampling Distribution of Unemployment Rates')\n",
    "plt.xlabel('Unemployment Rates')\n",
    "plt.ylabel('Frequency')\n",
    "plt.show()"
   ]
  },
  {
   "cell_type": "markdown",
   "metadata": {},
   "source": [
    "## 3. Confidence Intervals for a Population Mean\n",
    "\n",
    "While we technically have the population of all U.S. county unemployment rates (and can therefore *actually* calculate the population mean), we would still like to calculate a confidence interval for this population mean to learn more about how confidence intervals behave. (By having a population, it allows us to \"check\" our answers to see how well our confidence intervals did.)\n",
    "\n",
    "### 3.1. Constructing a Single 92% Confidence Interval for Population Mean Unemployment\n",
    "First, we would like to construct a *single* 92% confidence interval for the average unemployment rate of ALL U.S. counties.\n",
    "\n",
    "#### 3.1.1.  [0.5 pt]  Check the conditions for creating a confidence interval for average unemployment rate of ALL U.S. counties."
   ]
  },
  {
   "cell_type": "markdown",
   "metadata": {},
   "source": [
    "1. The observations are independent -- The sample was collected via random sampling and n < 10% of the population of ALL U.S counties.\n",
    "2. Either n > 30 OR the population distribution is normal -- Out sample size is n = 50 which is greater than 30, so this condition is met."
   ]
  },
  {
   "cell_type": "markdown",
   "metadata": {},
   "source": [
    "#### 3.1.2.  [2.25 pt] Now create this 92% confidence interval using the random sample that you collected in 2.2.\n",
    "\n",
    "**ASSUME THAT YOU DO NOT KNOW WHAT THE POPULATION STANDARD DEVIATION UNEMPLOYMENT RATE IS.**"
   ]
  },
  {
   "cell_type": "code",
   "execution_count": 37,
   "metadata": {},
   "outputs": [
    {
     "data": {
      "text/plain": [
       "1.4050715603096329"
      ]
     },
     "execution_count": 37,
     "metadata": {},
     "output_type": "execute_result"
    }
   ],
   "source": [
    "from scipy.stats import norm\n",
    "critical_value = norm.ppf(0.92)\n",
    "critical_value"
   ]
  },
  {
   "cell_type": "code",
   "execution_count": 38,
   "metadata": {},
   "outputs": [],
   "source": [
    "lower_bound = rs_mean - critical_value * (pop_mean / np.sqrt(clean_df.shape[0]))\n",
    "upper_bound = rs_mean + critical_value * (pop_mean / np.sqrt(clean_df.shape[0]))"
   ]
  },
  {
   "cell_type": "code",
   "execution_count": 39,
   "metadata": {},
   "outputs": [
    {
     "name": "stdout",
     "output_type": "stream",
     "text": [
      "4.912351596142501 , 5.143648403857498\n"
     ]
    }
   ],
   "source": [
    "print(lower_bound, ',', upper_bound)"
   ]
  },
  {
   "cell_type": "markdown",
   "metadata": {},
   "source": [
    "#### 3.1.3 [0.75 pt]  Now put this confidence interval into words."
   ]
  },
  {
   "cell_type": "markdown",
   "metadata": {},
   "source": [
    "We are 92% confident that the mean unemployment rate of all U.S counties is between 4.912 and 5.144."
   ]
  },
  {
   "cell_type": "markdown",
   "metadata": {},
   "source": [
    "#### 3.1.4  [0.5 pt] Check your answer.\n",
    "Because we *actually* know the unemployment rate of all U.S. counties, check whether this population mean falls within this confidence interval you just calculated."
   ]
  },
  {
   "cell_type": "markdown",
   "metadata": {},
   "source": [
    "The population mean was 4.61 and so it does fall into the confidence interval I just created."
   ]
  },
  {
   "cell_type": "markdown",
   "metadata": {},
   "source": [
    "<hr style=\"height:1px;border:none;color:#333;background-color:#333;\" />\n",
    "\n",
    "#### <u> Tutorial</u> ANDS and ORS in if-statements\n",
    "\n",
    "We can check multiple conditions in an if-statement by using the 'and' and the 'or' operators as shown below.\n"
   ]
  },
  {
   "cell_type": "code",
   "execution_count": 40,
   "metadata": {},
   "outputs": [
    {
     "name": "stdout",
     "output_type": "stream",
     "text": [
      "a is between 10 and 30\n"
     ]
    }
   ],
   "source": [
    "a=20\n",
    "\n",
    "if a < 30 and a>10:\n",
    "    print('a is between 10 and 30')\n",
    "else:\n",
    "    print('otherwise')"
   ]
  },
  {
   "cell_type": "code",
   "execution_count": 41,
   "metadata": {},
   "outputs": [
    {
     "name": "stdout",
     "output_type": "stream",
     "text": [
      "otherwise\n"
     ]
    }
   ],
   "source": [
    "if a >= 30 or a <=10:\n",
    "    print('a is at most 10 or at least 30')\n",
    "else:\n",
    "    print('otherwise')"
   ]
  },
  {
   "cell_type": "markdown",
   "metadata": {},
   "source": [
    "<hr style=\"height:1px;border:none;color:#333;background-color:#333;\" />\n",
    "\n",
    "### 3.2. Constructing Many 92% Confidence Intervals for Population Mean Unemployment\n",
    "Next, let's construct 1000 92% confidence intervals for the average unemployment rate of ALL U.S. counties.\n",
    "\n",
    "#### 3.2.1  [1.5 pt] Create a function that does the following.\n",
    "* <u>Input</u> The input for your function should take in the following values.\n",
    "    - a lower bound of a confidence interval\n",
    "    - an upper bound of a confidence interval\n",
    "    - a population mean $\\mu$\n",
    "* <u>What it does</u>\n",
    "    - Your function should check whether $lower \\: bound\\leq \\mu\\leq upper\\: bound$.\n",
    "    - If this is the case, it should return True\n",
    "    - If this is not the case, then it should return False."
   ]
  },
  {
   "cell_type": "code",
   "execution_count": 42,
   "metadata": {},
   "outputs": [],
   "source": [
    "def find_CI(upper_bound, lower_bound, mean):\n",
    "    if lower_bound <= mean and upper_bound >= mean:\n",
    "        return True\n",
    "    else:\n",
    "        return False"
   ]
  },
  {
   "cell_type": "code",
   "execution_count": null,
   "metadata": {},
   "outputs": [],
   "source": []
  },
  {
   "cell_type": "code",
   "execution_count": null,
   "metadata": {},
   "outputs": [],
   "source": []
  },
  {
   "cell_type": "markdown",
   "metadata": {},
   "source": [
    "#### 3.2.2  [0.5 pt]  Test your function out using the population mean and the confidence interval from 3.1."
   ]
  },
  {
   "cell_type": "code",
   "execution_count": 43,
   "metadata": {},
   "outputs": [
    {
     "data": {
      "text/plain": [
       "False"
      ]
     },
     "execution_count": 43,
     "metadata": {},
     "output_type": "execute_result"
    }
   ],
   "source": [
    "find_CI(4.912, 5.144, 1.405)"
   ]
  },
  {
   "cell_type": "markdown",
   "metadata": {},
   "source": [
    "#### 3.2.3.  [1.5 pt]  Use your function above to do the following:\n",
    "* Collect 1000 random samples (each of size 50 without replacement) from the population of all U.S. county unemployment rates.\n",
    "* Calculate the sample mean unemployment rate and sample standard deviation of each of these random samples.\n",
    "* Create a 92% confidence interval around each of these sample means (assume that you don't know the population standard deviation).\n",
    "\n",
    "**What percent of these 1000 confidence intervals *actually* contained the population mean unemployment rate?**"
   ]
  },
  {
   "cell_type": "code",
   "execution_count": 44,
   "metadata": {},
   "outputs": [
    {
     "name": "stdout",
     "output_type": "stream",
     "text": [
      "sample mean: 4.630199999999999 \n",
      "sample standard deviation: 1.6170677544398007 \n",
      "92% CI is: ( 4.912406820214344 , 5.143593179785655 )\n"
     ]
    }
   ],
   "source": [
    "unemployment = df['unemployment_rate']\n",
    "for i in range(1000):\n",
    "    sample = unemployment.sample(n = 50, replace = False)\n",
    "sample_mean = sample.mean()\n",
    "sample_std = sample.std()\n",
    "critical_value = norm.ppf(0.92)\n",
    "lower_bound = rs_mean - critical_value * (pop_mean / np.sqrt(unemployment.shape[0]))\n",
    "upper_bound = rs_mean + critical_value * (pop_mean / np.sqrt(unemployment.shape[0]))\n",
    "print('sample mean:',sample_mean,\n",
    "      '\\nsample standard deviation:', sample_std, \n",
    "      '\\n92% CI is: (', lower_bound, ',', upper_bound,')')"
   ]
  },
  {
   "cell_type": "code",
   "execution_count": 75,
   "metadata": {
    "scrolled": false
   },
   "outputs": [
    {
     "data": {
      "text/plain": [
       "False"
      ]
     },
     "execution_count": 75,
     "metadata": {},
     "output_type": "execute_result"
    }
   ],
   "source": [
    "check = []\n",
    "for i in range(1000):\n",
    "    check.append(find_CI(5.1435, 4.9124, 4.4836))\n",
    "check[:20]\n",
    "any(check) #this checks if there are any 'True' values in the list"
   ]
  },
  {
   "cell_type": "markdown",
   "metadata": {},
   "source": [
    "Out of a sample of n = 1000, none of the sample means fall in the 92% confidence interval."
   ]
  },
  {
   "cell_type": "markdown",
   "metadata": {},
   "source": [
    "#### 3.2.4.  [0.25 pt]  What is the difference between this percentage from (3.2.3) and your confidence level?"
   ]
  },
  {
   "cell_type": "code",
   "execution_count": 46,
   "metadata": {},
   "outputs": [
    {
     "data": {
      "text/plain": [
       "92"
      ]
     },
     "execution_count": 46,
     "metadata": {},
     "output_type": "execute_result"
    }
   ],
   "source": [
    "difference = 92 - 0\n",
    "difference"
   ]
  },
  {
   "cell_type": "markdown",
   "metadata": {},
   "source": [
    "## 4. <u>Central Limit Theorem (for Sample Proportions) Exploration</u>\n",
    "\n",
    "### 4.1. *Population* of County Median Education Levels\n",
    "\n",
    "Let's assume that the median education level in this cleaned dataset represents a **population**, where the population is the median education level of ALL counties in the U.S.\n",
    "\n",
    "#### 4.1.1. [0.5 pt] Calculate the population proportion of counties in the U.S. that have 'some_college' as the median education level."
   ]
  },
  {
   "cell_type": "code",
   "execution_count": 47,
   "metadata": {},
   "outputs": [
    {
     "data": {
      "text/plain": [
       "0.5396623128384836"
      ]
     },
     "execution_count": 47,
     "metadata": {},
     "output_type": "execute_result"
    }
   ],
   "source": [
    "prop = len(clean_df[clean_df['median_edu'] == 'some_college'])/len(clean_df)\n",
    "prop"
   ]
  },
  {
   "cell_type": "markdown",
   "metadata": {},
   "source": [
    "### 4.2. *Random Sample* of County Median Education Levels\n",
    "\n",
    "#### 4.2.1. [0.5 pt] Collect a random sample of 40 counties from this population (using a random state of 101) WITHOUT replacement."
   ]
  },
  {
   "cell_type": "code",
   "execution_count": 48,
   "metadata": {},
   "outputs": [
    {
     "data": {
      "text/html": [
       "<div>\n",
       "<style scoped>\n",
       "    .dataframe tbody tr th:only-of-type {\n",
       "        vertical-align: middle;\n",
       "    }\n",
       "\n",
       "    .dataframe tbody tr th {\n",
       "        vertical-align: top;\n",
       "    }\n",
       "\n",
       "    .dataframe thead th {\n",
       "        text-align: right;\n",
       "    }\n",
       "</style>\n",
       "<table border=\"1\" class=\"dataframe\">\n",
       "  <thead>\n",
       "    <tr style=\"text-align: right;\">\n",
       "      <th></th>\n",
       "      <th>unemployment_rate</th>\n",
       "      <th>median_edu</th>\n",
       "    </tr>\n",
       "  </thead>\n",
       "  <tbody>\n",
       "    <tr>\n",
       "      <th>1294</th>\n",
       "      <td>7.15</td>\n",
       "      <td>some_college</td>\n",
       "    </tr>\n",
       "    <tr>\n",
       "      <th>960</th>\n",
       "      <td>3.33</td>\n",
       "      <td>some_college</td>\n",
       "    </tr>\n",
       "    <tr>\n",
       "      <th>105</th>\n",
       "      <td>7.57</td>\n",
       "      <td>some_college</td>\n",
       "    </tr>\n",
       "    <tr>\n",
       "      <th>692</th>\n",
       "      <td>4.73</td>\n",
       "      <td>some_college</td>\n",
       "    </tr>\n",
       "    <tr>\n",
       "      <th>502</th>\n",
       "      <td>5.28</td>\n",
       "      <td>hs_diploma</td>\n",
       "    </tr>\n",
       "    <tr>\n",
       "      <th>1824</th>\n",
       "      <td>7.94</td>\n",
       "      <td>some_college</td>\n",
       "    </tr>\n",
       "    <tr>\n",
       "      <th>335</th>\n",
       "      <td>4.14</td>\n",
       "      <td>some_college</td>\n",
       "    </tr>\n",
       "    <tr>\n",
       "      <th>2510</th>\n",
       "      <td>2.96</td>\n",
       "      <td>some_college</td>\n",
       "    </tr>\n",
       "    <tr>\n",
       "      <th>6</th>\n",
       "      <td>5.49</td>\n",
       "      <td>hs_diploma</td>\n",
       "    </tr>\n",
       "    <tr>\n",
       "      <th>649</th>\n",
       "      <td>4.88</td>\n",
       "      <td>some_college</td>\n",
       "    </tr>\n",
       "    <tr>\n",
       "      <th>248</th>\n",
       "      <td>1.64</td>\n",
       "      <td>some_college</td>\n",
       "    </tr>\n",
       "    <tr>\n",
       "      <th>982</th>\n",
       "      <td>3.20</td>\n",
       "      <td>some_college</td>\n",
       "    </tr>\n",
       "    <tr>\n",
       "      <th>3057</th>\n",
       "      <td>2.94</td>\n",
       "      <td>some_college</td>\n",
       "    </tr>\n",
       "    <tr>\n",
       "      <th>2269</th>\n",
       "      <td>6.93</td>\n",
       "      <td>hs_diploma</td>\n",
       "    </tr>\n",
       "    <tr>\n",
       "      <th>3014</th>\n",
       "      <td>7.50</td>\n",
       "      <td>hs_diploma</td>\n",
       "    </tr>\n",
       "    <tr>\n",
       "      <th>2931</th>\n",
       "      <td>6.09</td>\n",
       "      <td>hs_diploma</td>\n",
       "    </tr>\n",
       "    <tr>\n",
       "      <th>2646</th>\n",
       "      <td>7.23</td>\n",
       "      <td>hs_diploma</td>\n",
       "    </tr>\n",
       "    <tr>\n",
       "      <th>732</th>\n",
       "      <td>2.97</td>\n",
       "      <td>hs_diploma</td>\n",
       "    </tr>\n",
       "    <tr>\n",
       "      <th>1501</th>\n",
       "      <td>3.48</td>\n",
       "      <td>some_college</td>\n",
       "    </tr>\n",
       "    <tr>\n",
       "      <th>2514</th>\n",
       "      <td>4.36</td>\n",
       "      <td>hs_diploma</td>\n",
       "    </tr>\n",
       "    <tr>\n",
       "      <th>60</th>\n",
       "      <td>4.96</td>\n",
       "      <td>hs_diploma</td>\n",
       "    </tr>\n",
       "    <tr>\n",
       "      <th>45</th>\n",
       "      <td>5.65</td>\n",
       "      <td>hs_diploma</td>\n",
       "    </tr>\n",
       "    <tr>\n",
       "      <th>879</th>\n",
       "      <td>2.75</td>\n",
       "      <td>some_college</td>\n",
       "    </tr>\n",
       "    <tr>\n",
       "      <th>2630</th>\n",
       "      <td>7.39</td>\n",
       "      <td>hs_diploma</td>\n",
       "    </tr>\n",
       "    <tr>\n",
       "      <th>2550</th>\n",
       "      <td>3.87</td>\n",
       "      <td>hs_diploma</td>\n",
       "    </tr>\n",
       "    <tr>\n",
       "      <th>2533</th>\n",
       "      <td>3.53</td>\n",
       "      <td>some_college</td>\n",
       "    </tr>\n",
       "    <tr>\n",
       "      <th>2192</th>\n",
       "      <td>3.80</td>\n",
       "      <td>some_college</td>\n",
       "    </tr>\n",
       "    <tr>\n",
       "      <th>558</th>\n",
       "      <td>4.78</td>\n",
       "      <td>some_college</td>\n",
       "    </tr>\n",
       "    <tr>\n",
       "      <th>3046</th>\n",
       "      <td>7.00</td>\n",
       "      <td>hs_diploma</td>\n",
       "    </tr>\n",
       "    <tr>\n",
       "      <th>2189</th>\n",
       "      <td>5.37</td>\n",
       "      <td>hs_diploma</td>\n",
       "    </tr>\n",
       "    <tr>\n",
       "      <th>2901</th>\n",
       "      <td>3.54</td>\n",
       "      <td>hs_diploma</td>\n",
       "    </tr>\n",
       "    <tr>\n",
       "      <th>666</th>\n",
       "      <td>5.77</td>\n",
       "      <td>some_college</td>\n",
       "    </tr>\n",
       "    <tr>\n",
       "      <th>1852</th>\n",
       "      <td>6.72</td>\n",
       "      <td>hs_diploma</td>\n",
       "    </tr>\n",
       "    <tr>\n",
       "      <th>1938</th>\n",
       "      <td>4.25</td>\n",
       "      <td>some_college</td>\n",
       "    </tr>\n",
       "    <tr>\n",
       "      <th>2445</th>\n",
       "      <td>4.60</td>\n",
       "      <td>hs_diploma</td>\n",
       "    </tr>\n",
       "    <tr>\n",
       "      <th>222</th>\n",
       "      <td>4.00</td>\n",
       "      <td>some_college</td>\n",
       "    </tr>\n",
       "    <tr>\n",
       "      <th>2008</th>\n",
       "      <td>2.87</td>\n",
       "      <td>some_college</td>\n",
       "    </tr>\n",
       "    <tr>\n",
       "      <th>2527</th>\n",
       "      <td>3.42</td>\n",
       "      <td>some_college</td>\n",
       "    </tr>\n",
       "    <tr>\n",
       "      <th>1539</th>\n",
       "      <td>3.59</td>\n",
       "      <td>hs_diploma</td>\n",
       "    </tr>\n",
       "    <tr>\n",
       "      <th>1117</th>\n",
       "      <td>6.16</td>\n",
       "      <td>hs_diploma</td>\n",
       "    </tr>\n",
       "  </tbody>\n",
       "</table>\n",
       "</div>"
      ],
      "text/plain": [
       "      unemployment_rate    median_edu\n",
       "1294               7.15  some_college\n",
       "960                3.33  some_college\n",
       "105                7.57  some_college\n",
       "692                4.73  some_college\n",
       "502                5.28    hs_diploma\n",
       "1824               7.94  some_college\n",
       "335                4.14  some_college\n",
       "2510               2.96  some_college\n",
       "6                  5.49    hs_diploma\n",
       "649                4.88  some_college\n",
       "248                1.64  some_college\n",
       "982                3.20  some_college\n",
       "3057               2.94  some_college\n",
       "2269               6.93    hs_diploma\n",
       "3014               7.50    hs_diploma\n",
       "2931               6.09    hs_diploma\n",
       "2646               7.23    hs_diploma\n",
       "732                2.97    hs_diploma\n",
       "1501               3.48  some_college\n",
       "2514               4.36    hs_diploma\n",
       "60                 4.96    hs_diploma\n",
       "45                 5.65    hs_diploma\n",
       "879                2.75  some_college\n",
       "2630               7.39    hs_diploma\n",
       "2550               3.87    hs_diploma\n",
       "2533               3.53  some_college\n",
       "2192               3.80  some_college\n",
       "558                4.78  some_college\n",
       "3046               7.00    hs_diploma\n",
       "2189               5.37    hs_diploma\n",
       "2901               3.54    hs_diploma\n",
       "666                5.77  some_college\n",
       "1852               6.72    hs_diploma\n",
       "1938               4.25  some_college\n",
       "2445               4.60    hs_diploma\n",
       "222                4.00  some_college\n",
       "2008               2.87  some_college\n",
       "2527               3.42  some_college\n",
       "1539               3.59    hs_diploma\n",
       "1117               6.16    hs_diploma"
      ]
     },
     "execution_count": 48,
     "metadata": {},
     "output_type": "execute_result"
    }
   ],
   "source": [
    "edu_sample = clean_df.sample(n = 40, replace = False, random_state = 101)\n",
    "edu_sample"
   ]
  },
  {
   "cell_type": "markdown",
   "metadata": {},
   "source": [
    "#### 4.2.2.  [0.5 pt]  Calculate the proportion of counties in this sample that have a median education level of 'some_college.'"
   ]
  },
  {
   "cell_type": "code",
   "execution_count": 49,
   "metadata": {},
   "outputs": [
    {
     "data": {
      "text/plain": [
       "0.525"
      ]
     },
     "execution_count": 49,
     "metadata": {},
     "output_type": "execute_result"
    }
   ],
   "source": [
    "sample_prop = len(edu_sample[edu_sample['median_edu'] == 'some_college'])/len(edu_sample)\n",
    "sample_prop"
   ]
  },
  {
   "cell_type": "markdown",
   "metadata": {},
   "source": [
    "### 4.3. Sampling Distribution - *Theoretical*\n",
    "\n",
    "Suppose we were to create a sampling distribution with many, many proportions of counties in a sample that had a median education level of 'some_college'. Specifically, in this sampling distribution, each sample was of size 40 (drawn with replacement from the population of all county median education levels).\n",
    "\n",
    "#### 4.3.1.  [1 pt]  What would we *expect* the mean of this *theoretical* sampling distribution to be?\n",
    "\n",
    "<u>Hint</u>: *In this part, we are not actually looking for you to calculate the mean of an **actual** sampling distribution.*\n",
    "\n",
    "<u>Hint</u>: *In this part, you can assume that you know what the population proportion p is.*"
   ]
  },
  {
   "cell_type": "code",
   "execution_count": 50,
   "metadata": {},
   "outputs": [
    {
     "data": {
      "text/plain": [
       "0.525"
      ]
     },
     "execution_count": 50,
     "metadata": {},
     "output_type": "execute_result"
    }
   ],
   "source": [
    "theor_mean = sample_prop\n",
    "theor_mean"
   ]
  },
  {
   "cell_type": "markdown",
   "metadata": {},
   "source": [
    "#### 4.3.2  [1 pt]  What would we *expect* the standard deviation of this *theoretical* sampling distribution to be?\n",
    "\n",
    "<u>Hint</u>: *In this part, we are not actually looking for you to calculate the standard deviation of an **actual** sampling distribution.*\n",
    "\n",
    "<u>Hint</u>: *In this part, you can assume that you know what the population proportion p is.*"
   ]
  },
  {
   "cell_type": "code",
   "execution_count": 51,
   "metadata": {},
   "outputs": [
    {
     "data": {
      "text/plain": [
       "0.07895805848676878"
      ]
     },
     "execution_count": 51,
     "metadata": {},
     "output_type": "execute_result"
    }
   ],
   "source": [
    "theor_std = np.sqrt((theor_mean*(1 - theor_mean))/40)\n",
    "theor_std"
   ]
  },
  {
   "cell_type": "markdown",
   "metadata": {},
   "source": [
    "## <u>5. Confidence Interval for a Population Proportion</u>\n",
    "\n",
    "### 5.1. Confidence Interval for the Proportion of All U.S. Counties that have Median Education Level of Some College\n",
    "\n",
    "Finally, we would like to create a 98% confidence interval for the proportion of all U.S. counties that have a median education level of some college.\n",
    "\n",
    "#### 5.1.1. [0.75 pt] Check the conditions for creating a confidence interval for the proportion of all U.S. counties that have median education level of some college.\n",
    "\n",
    "*Important: You should no longer assume that you know what the population proportion p is in this part.*\n",
    "\n",
    "\n"
   ]
  },
  {
   "cell_type": "markdown",
   "metadata": {},
   "source": [
    "1. The observations are independent -- the sample is collected via random sampling and n < 10% of the population of all U.S counties that have a median education level of some college.\n",
    "2. n > 30"
   ]
  },
  {
   "cell_type": "markdown",
   "metadata": {},
   "source": [
    "#### 5.1.2. [2.25 pt] Create a 98% confidence interval for the proportion of all U.S. counties that have median education level of some college."
   ]
  },
  {
   "cell_type": "code",
   "execution_count": 52,
   "metadata": {},
   "outputs": [
    {
     "data": {
      "text/plain": [
       "2.0537489106318225"
      ]
     },
     "execution_count": 52,
     "metadata": {},
     "output_type": "execute_result"
    }
   ],
   "source": [
    "cv = norm.ppf(0.98)\n",
    "cv"
   ]
  },
  {
   "cell_type": "code",
   "execution_count": 53,
   "metadata": {},
   "outputs": [],
   "source": [
    "lower_bound = sample_prop - critical_value * (prop / np.sqrt(clean_df.shape[0]))\n",
    "upper_bound = sample_prop + critical_value * (prop / np.sqrt(clean_df.shape[0]))"
   ]
  },
  {
   "cell_type": "code",
   "execution_count": 54,
   "metadata": {},
   "outputs": [
    {
     "name": "stdout",
     "output_type": "stream",
     "text": [
      "0.5114660403960256 , 0.5385339596039744\n"
     ]
    }
   ],
   "source": [
    "print(lower_bound, ',', upper_bound)"
   ]
  },
  {
   "cell_type": "markdown",
   "metadata": {},
   "source": [
    "#### 5.1.3. [0.25 pt] Put your confidence interval into words."
   ]
  },
  {
   "cell_type": "markdown",
   "metadata": {},
   "source": [
    "We are 98% confident that the proportion of all U.S counties that have a median education level of some college is between 0.5115 and 0.5385."
   ]
  },
  {
   "cell_type": "code",
   "execution_count": null,
   "metadata": {},
   "outputs": [],
   "source": []
  }
 ],
 "metadata": {
  "kernelspec": {
   "display_name": "Python 3",
   "language": "python",
   "name": "python3"
  },
  "language_info": {
   "codemirror_mode": {
    "name": "ipython",
    "version": 3
   },
   "file_extension": ".py",
   "mimetype": "text/x-python",
   "name": "python",
   "nbconvert_exporter": "python",
   "pygments_lexer": "ipython3",
   "version": "3.7.3"
  }
 },
 "nbformat": 4,
 "nbformat_minor": 2
}
