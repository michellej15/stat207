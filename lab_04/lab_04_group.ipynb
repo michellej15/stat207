{
 "cells": [
  {
   "cell_type": "markdown",
   "metadata": {},
   "source": [
    "# STAT 207 Lab 4 - Group Part - [5 total points]\n",
    "\n",
    "## Random Variables"
   ]
  },
  {
   "cell_type": "markdown",
   "metadata": {},
   "source": [
    "Due: Tuesday, September 21, 11:59pm CST\n",
    "\n",
    "### <u>Case Study</u>: Online Advertising Campaign\n",
    "\n",
    "#### Target Population Identification\n",
    "Suppose that you own an Etsy store and you are interested in advertising your products online. You have already conducted quite a lot of research, identifying a large population of people (along with their corresponding browser ids) that would be *most* likely to buy your product. We call this the **target population**. You decide to only advertise to these people in the target population with online ads. \n",
    "\n",
    "*(If you're interested to learn more about you would do this, STAT430-Unsupervised Learning can be a useful class).*\n",
    "\n",
    "#### Online Advertising Effectiveness\n",
    "From your prior research, you have determined that once a person in the target population has been exposed to an online ad for your product, there is a 25% chance that they will actually buy the product.\n",
    "\n",
    "#### Inventory Decisions\n",
    "Unfortunately, your product can only be made in 'batches' of size 5. So once, you have sold your fifth product, you would need to stop your advertising campaign to make another batch.\n",
    "\n",
    "### <u>Defining a Random Variable</u>\n",
    "To help us learn more about our advertising campaign, let's define a random variable:\n",
    "\n",
    "**X = the number of people in the target population that you have to advertise your product to until 5 of these people have purchased your product.**\n",
    "\n",
    "<hr>\n",
    "\n",
    "### 1. [2.5 pt] <u>Simulation Design</u>\n",
    "Design and execute a simulation that randomly generates a value for this random variable X that we defined above.\n",
    "\n",
    "*Hint: You might find the dataframe created below useful in your simulation. What is the probability of randomly sampling a person from this 'simulated_pop' that has purchased the product? What is the probabilty of randomly sampling a person from this 'simulated_pop' that has not purchased the product?*"
   ]
  },
  {
   "cell_type": "code",
   "execution_count": 26,
   "metadata": {},
   "outputs": [
    {
     "data": {
      "text/html": [
       "<div>\n",
       "<style scoped>\n",
       "    .dataframe tbody tr th:only-of-type {\n",
       "        vertical-align: middle;\n",
       "    }\n",
       "\n",
       "    .dataframe tbody tr th {\n",
       "        vertical-align: top;\n",
       "    }\n",
       "\n",
       "    .dataframe thead th {\n",
       "        text-align: right;\n",
       "    }\n",
       "</style>\n",
       "<table border=\"1\" class=\"dataframe\">\n",
       "  <thead>\n",
       "    <tr style=\"text-align: right;\">\n",
       "      <th></th>\n",
       "      <th>purchased_product</th>\n",
       "    </tr>\n",
       "  </thead>\n",
       "  <tbody>\n",
       "    <tr>\n",
       "      <th>0</th>\n",
       "      <td>yes</td>\n",
       "    </tr>\n",
       "    <tr>\n",
       "      <th>1</th>\n",
       "      <td>no</td>\n",
       "    </tr>\n",
       "    <tr>\n",
       "      <th>2</th>\n",
       "      <td>no</td>\n",
       "    </tr>\n",
       "    <tr>\n",
       "      <th>3</th>\n",
       "      <td>no</td>\n",
       "    </tr>\n",
       "  </tbody>\n",
       "</table>\n",
       "</div>"
      ],
      "text/plain": [
       "  purchased_product\n",
       "0               yes\n",
       "1                no\n",
       "2                no\n",
       "3                no"
      ]
     },
     "execution_count": 26,
     "metadata": {},
     "output_type": "execute_result"
    }
   ],
   "source": [
    "import pandas as pd\n",
    "import numpy as np\n",
    "simulated_pop=pd.DataFrame({'purchased_product':['yes','no','no','no']})\n",
    "simulated_pop"
   ]
  },
  {
   "cell_type": "code",
   "execution_count": 42,
   "metadata": {},
   "outputs": [],
   "source": [
    "Y = simulated_pop[simulated_pop['purchased_product'] == 'yes']"
   ]
  },
  {
   "cell_type": "code",
   "execution_count": 43,
   "metadata": {},
   "outputs": [],
   "source": [
    "X = simulated_pop[simulated_pop['purchased_product'] == 'no']"
   ]
  },
  {
   "cell_type": "code",
   "execution_count": 63,
   "metadata": {},
   "outputs": [
    {
     "name": "stdout",
     "output_type": "stream",
     "text": [
      "Item Status: yes\n",
      "Item Status: no\n",
      "Item Status: yes\n",
      "Item Status: no\n",
      "Item Status: no\n",
      "Item Status: no\n",
      "Item Status: no\n",
      "Item Status: yes\n",
      "Item Status: no\n",
      "Item Status: no\n",
      "Item Status: no\n",
      "Item Status: no\n",
      "Item Status: no\n",
      "Item Status: yes\n",
      "Item Status: no\n",
      "Item Status: no\n",
      "Item Status: no\n",
      "Item Status: yes\n",
      "18\n"
     ]
    }
   ],
   "source": [
    "y = 0\n",
    "x = 0\n",
    "while y < 5:\n",
    "    sample = simulated_pop.sample(1)['purchased_product'].item()\n",
    "    print(\"Item Status:\", sample)\n",
    "    x += 1\n",
    "    if (sample == 'yes'):\n",
    "        y += 1\n",
    "print(x)"
   ]
  },
  {
   "cell_type": "code",
   "execution_count": null,
   "metadata": {},
   "outputs": [],
   "source": []
  },
  {
   "cell_type": "markdown",
   "metadata": {},
   "source": [
    "### 2. [2 pt] <u>Multiple Random Variable Values Generation</u>\n",
    "\n",
    "Now, use this simulation that you created above to randomly generate **100** values for the random variable X. Put these 100 random variable values that you generated in a dataframe."
   ]
  },
  {
   "cell_type": "code",
   "execution_count": 57,
   "metadata": {},
   "outputs": [
    {
     "name": "stdout",
     "output_type": "stream",
     "text": [
      "[22, 28, 14, 14, 17, 16, 29, 9, 11, 19, 25, 30, 13, 11, 22, 24, 9, 15, 15, 58, 24, 23, 23, 10, 9, 16, 28, 13, 27, 28, 15, 16, 16, 15, 13, 15, 22, 35, 15, 17, 12, 27, 9, 30, 18, 21, 21, 15, 14, 19, 14, 13, 29, 17, 17, 15, 17, 19, 9, 15, 9, 27, 19, 15, 25, 33, 14, 14, 19, 22, 23, 14, 8, 26, 14, 13, 17, 27, 20, 25, 20, 24, 19, 16, 25, 28, 21, 14, 18, 57, 20, 20, 18, 19, 17, 36, 29, 24, 20, 26]\n"
     ]
    }
   ],
   "source": [
    "output = []\n",
    "for i in range(100):\n",
    "    y = 0\n",
    "    count = 0\n",
    "    while y < 5:\n",
    "        sample = simulated_pop.sample(1)['purchased_product'].item()\n",
    "        if (sample == 'yes'):\n",
    "            y += 1\n",
    "        count += 1\n",
    "    output.append(count)\n",
    "print(output)"
   ]
  },
  {
   "cell_type": "code",
   "execution_count": 58,
   "metadata": {},
   "outputs": [],
   "source": [
    "df = pd.DataFrame(output)"
   ]
  },
  {
   "cell_type": "code",
   "execution_count": 59,
   "metadata": {},
   "outputs": [
    {
     "data": {
      "text/html": [
       "<div>\n",
       "<style scoped>\n",
       "    .dataframe tbody tr th:only-of-type {\n",
       "        vertical-align: middle;\n",
       "    }\n",
       "\n",
       "    .dataframe tbody tr th {\n",
       "        vertical-align: top;\n",
       "    }\n",
       "\n",
       "    .dataframe thead th {\n",
       "        text-align: right;\n",
       "    }\n",
       "</style>\n",
       "<table border=\"1\" class=\"dataframe\">\n",
       "  <thead>\n",
       "    <tr style=\"text-align: right;\">\n",
       "      <th></th>\n",
       "      <th>0</th>\n",
       "    </tr>\n",
       "  </thead>\n",
       "  <tbody>\n",
       "    <tr>\n",
       "      <th>0</th>\n",
       "      <td>22</td>\n",
       "    </tr>\n",
       "    <tr>\n",
       "      <th>1</th>\n",
       "      <td>28</td>\n",
       "    </tr>\n",
       "    <tr>\n",
       "      <th>2</th>\n",
       "      <td>14</td>\n",
       "    </tr>\n",
       "    <tr>\n",
       "      <th>3</th>\n",
       "      <td>14</td>\n",
       "    </tr>\n",
       "    <tr>\n",
       "      <th>4</th>\n",
       "      <td>17</td>\n",
       "    </tr>\n",
       "    <tr>\n",
       "      <th>...</th>\n",
       "      <td>...</td>\n",
       "    </tr>\n",
       "    <tr>\n",
       "      <th>95</th>\n",
       "      <td>36</td>\n",
       "    </tr>\n",
       "    <tr>\n",
       "      <th>96</th>\n",
       "      <td>29</td>\n",
       "    </tr>\n",
       "    <tr>\n",
       "      <th>97</th>\n",
       "      <td>24</td>\n",
       "    </tr>\n",
       "    <tr>\n",
       "      <th>98</th>\n",
       "      <td>20</td>\n",
       "    </tr>\n",
       "    <tr>\n",
       "      <th>99</th>\n",
       "      <td>26</td>\n",
       "    </tr>\n",
       "  </tbody>\n",
       "</table>\n",
       "<p>100 rows × 1 columns</p>\n",
       "</div>"
      ],
      "text/plain": [
       "     0\n",
       "0   22\n",
       "1   28\n",
       "2   14\n",
       "3   14\n",
       "4   17\n",
       "..  ..\n",
       "95  36\n",
       "96  29\n",
       "97  24\n",
       "98  20\n",
       "99  26\n",
       "\n",
       "[100 rows x 1 columns]"
      ]
     },
     "execution_count": 59,
     "metadata": {},
     "output_type": "execute_result"
    }
   ],
   "source": [
    "df"
   ]
  },
  {
   "cell_type": "code",
   "execution_count": null,
   "metadata": {},
   "outputs": [],
   "source": []
  },
  {
   "cell_type": "markdown",
   "metadata": {},
   "source": [
    "### 3. [0.5 pt] <u>Average Number of Ads</u> \n",
    "\n",
    "Use these 100 randomly genereated values from #2 to approximate the **average** number of online ads you need to show to your target population in order to sell the five products in your inventory."
   ]
  },
  {
   "cell_type": "code",
   "execution_count": 61,
   "metadata": {},
   "outputs": [
    {
     "data": {
      "text/plain": [
       "0    19.87\n",
       "dtype: float64"
      ]
     },
     "execution_count": 61,
     "metadata": {},
     "output_type": "execute_result"
    }
   ],
   "source": [
    "df.mean()"
   ]
  },
  {
   "cell_type": "code",
   "execution_count": null,
   "metadata": {},
   "outputs": [],
   "source": []
  },
  {
   "cell_type": "code",
   "execution_count": null,
   "metadata": {},
   "outputs": [],
   "source": []
  },
  {
   "cell_type": "markdown",
   "metadata": {},
   "source": [
    "### 4. <u>Contribution Report</u>"
   ]
  },
  {
   "cell_type": "markdown",
   "metadata": {},
   "source": [
    "Ethan Wee &\n",
    "Samvit Dedhia"
   ]
  },
  {
   "cell_type": "code",
   "execution_count": null,
   "metadata": {},
   "outputs": [],
   "source": []
  }
 ],
 "metadata": {
  "kernelspec": {
   "display_name": "Python 3",
   "language": "python",
   "name": "python3"
  },
  "language_info": {
   "codemirror_mode": {
    "name": "ipython",
    "version": 3
   },
   "file_extension": ".py",
   "mimetype": "text/x-python",
   "name": "python",
   "nbconvert_exporter": "python",
   "pygments_lexer": "ipython3",
   "version": "3.7.3"
  }
 },
 "nbformat": 4,
 "nbformat_minor": 2
}
