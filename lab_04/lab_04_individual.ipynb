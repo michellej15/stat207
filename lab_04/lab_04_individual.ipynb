{
 "cells": [
  {
   "cell_type": "markdown",
   "metadata": {},
   "source": [
    "# STAT 207 Lab 4 - Individual Part - [25 total points] - Solutions\n",
    "\n",
    "## Random Variables"
   ]
  },
  {
   "cell_type": "markdown",
   "metadata": {},
   "source": [
    "Due: Tuesday, September 21, 11:59pm CST\n",
    "\n"
   ]
  },
  {
   "cell_type": "markdown",
   "metadata": {},
   "source": [
    "### Imports"
   ]
  },
  {
   "cell_type": "code",
   "execution_count": 94,
   "metadata": {},
   "outputs": [],
   "source": [
    "import pandas as pd\n",
    "import numpy as np\n",
    "import matplotlib.pyplot as plt\n",
    "import seaborn as sns; sns.set()\n",
    "from scipy.stats import norm\n",
    "from scipy.stats import geom\n",
    "from scipy.stats import bernoulli"
   ]
  },
  {
   "cell_type": "markdown",
   "metadata": {},
   "source": [
    "## <u>Case Study 1</u>: UIUC Acceptance Study\n",
    "\n",
    "In the previous year (2020), the acceptance rate at UIUC was 59\\%. Suppose we conduct an experiment where we randomly select one of the UIUC applicants from the previous year and observe whether they were accepted into UIUC or not. We're interested to know if the applicant was accepted.\n",
    "\n",
    "\n",
    "The Bernoulli random variable object in Python uses the same functions that other discrete random variables that we have discussed in this class. The documentation for the functions that correspond to the bernoulli random variable are shown here.\n",
    "https://docs.scipy.org/doc/scipy/reference/generated/scipy.stats.bernoulli.html\n",
    "\n",
    "### 1.1 [2 pts] Defining a Bernoulli Random Variable\n",
    "\n",
    "Define a Bernoulli random variable that models this experiment.\n",
    "* Make sure you define any parameters that pertain to this random variable as well as define the success level.\n",
    "(Just put it into words)."
   ]
  },
  {
   "cell_type": "markdown",
   "metadata": {},
   "source": [
    "Let X = the acceptance rate at UIUC where P(X = 1) = 0.59 and P(X = 0) = 0.41."
   ]
  },
  {
   "cell_type": "markdown",
   "metadata": {},
   "source": [
    "### 1.2 [2 pts]  Mean, Variance, and Standard Deviation of Random Variable\n",
    "Calculate the mean, variance, and standard deviation of this random variable."
   ]
  },
  {
   "cell_type": "markdown",
   "metadata": {},
   "source": [
    "The mean is 1.786, the variance is 1.403, and the standard deviation is 1.185 for this random variable."
   ]
  },
  {
   "cell_type": "code",
   "execution_count": 146,
   "metadata": {},
   "outputs": [],
   "source": [
    "p = 0.59"
   ]
  },
  {
   "cell_type": "code",
   "execution_count": 147,
   "metadata": {},
   "outputs": [
    {
     "data": {
      "text/plain": [
       "0.59"
      ]
     },
     "execution_count": 147,
     "metadata": {},
     "output_type": "execute_result"
    }
   ],
   "source": [
    "rv_mean = p\n",
    "rv_mean"
   ]
  },
  {
   "cell_type": "code",
   "execution_count": 148,
   "metadata": {},
   "outputs": [
    {
     "data": {
      "text/plain": [
       "0.41000000000000003"
      ]
     },
     "execution_count": 148,
     "metadata": {},
     "output_type": "execute_result"
    }
   ],
   "source": [
    "rv_var = 1 * (1- p)\n",
    "rv_var"
   ]
  },
  {
   "cell_type": "code",
   "execution_count": 149,
   "metadata": {},
   "outputs": [
    {
     "data": {
      "text/plain": [
       "0.6403124237432849"
      ]
     },
     "execution_count": 149,
     "metadata": {},
     "output_type": "execute_result"
    }
   ],
   "source": [
    "rv_std = np.sqrt(rv_var)\n",
    "rv_std"
   ]
  },
  {
   "cell_type": "markdown",
   "metadata": {},
   "source": [
    "### 1.3 [2 pts] Generating Random Variable Values\n",
    "Generate 5000 random values for this random variable and put them into a pandas dataframe."
   ]
  },
  {
   "cell_type": "code",
   "execution_count": 150,
   "metadata": {},
   "outputs": [
    {
     "data": {
      "text/html": [
       "<div>\n",
       "<style scoped>\n",
       "    .dataframe tbody tr th:only-of-type {\n",
       "        vertical-align: middle;\n",
       "    }\n",
       "\n",
       "    .dataframe tbody tr th {\n",
       "        vertical-align: top;\n",
       "    }\n",
       "\n",
       "    .dataframe thead th {\n",
       "        text-align: right;\n",
       "    }\n",
       "</style>\n",
       "<table border=\"1\" class=\"dataframe\">\n",
       "  <thead>\n",
       "    <tr style=\"text-align: right;\">\n",
       "      <th></th>\n",
       "      <th>Bernoulli Variable</th>\n",
       "    </tr>\n",
       "  </thead>\n",
       "  <tbody>\n",
       "    <tr>\n",
       "      <th>0</th>\n",
       "      <td>1</td>\n",
       "    </tr>\n",
       "    <tr>\n",
       "      <th>1</th>\n",
       "      <td>0</td>\n",
       "    </tr>\n",
       "    <tr>\n",
       "      <th>2</th>\n",
       "      <td>0</td>\n",
       "    </tr>\n",
       "    <tr>\n",
       "      <th>3</th>\n",
       "      <td>1</td>\n",
       "    </tr>\n",
       "    <tr>\n",
       "      <th>4</th>\n",
       "      <td>0</td>\n",
       "    </tr>\n",
       "    <tr>\n",
       "      <th>...</th>\n",
       "      <td>...</td>\n",
       "    </tr>\n",
       "    <tr>\n",
       "      <th>4995</th>\n",
       "      <td>1</td>\n",
       "    </tr>\n",
       "    <tr>\n",
       "      <th>4996</th>\n",
       "      <td>1</td>\n",
       "    </tr>\n",
       "    <tr>\n",
       "      <th>4997</th>\n",
       "      <td>0</td>\n",
       "    </tr>\n",
       "    <tr>\n",
       "      <th>4998</th>\n",
       "      <td>0</td>\n",
       "    </tr>\n",
       "    <tr>\n",
       "      <th>4999</th>\n",
       "      <td>1</td>\n",
       "    </tr>\n",
       "  </tbody>\n",
       "</table>\n",
       "<p>5000 rows × 1 columns</p>\n",
       "</div>"
      ],
      "text/plain": [
       "      Bernoulli Variable\n",
       "0                      1\n",
       "1                      0\n",
       "2                      0\n",
       "3                      1\n",
       "4                      0\n",
       "...                  ...\n",
       "4995                   1\n",
       "4996                   1\n",
       "4997                   0\n",
       "4998                   0\n",
       "4999                   1\n",
       "\n",
       "[5000 rows x 1 columns]"
      ]
     },
     "execution_count": 150,
     "metadata": {},
     "output_type": "execute_result"
    }
   ],
   "source": [
    "df = bernoulli.rvs(p = 0.56, size = 5000)\n",
    "df = pd.DataFrame({'Bernoulli Variable': df})\n",
    "df"
   ]
  },
  {
   "cell_type": "markdown",
   "metadata": {},
   "source": [
    "### 1.4 [2 pts]  Mean, Variance, and Standard Deviation of Randomly Generated values\n",
    "\n",
    "Calculate the *actual* mean, variance, and standard deviation of these 500 values you just randomly generated in 1.3."
   ]
  },
  {
   "cell_type": "code",
   "execution_count": 151,
   "metadata": {},
   "outputs": [
    {
     "data": {
      "text/plain": [
       "0.5604"
      ]
     },
     "execution_count": 151,
     "metadata": {},
     "output_type": "execute_result"
    }
   ],
   "source": [
    "df_mean = df['Bernoulli Variable'].mean()\n",
    "df_mean"
   ]
  },
  {
   "cell_type": "code",
   "execution_count": 152,
   "metadata": {},
   "outputs": [
    {
     "data": {
      "text/plain": [
       "0.2464011202240448"
      ]
     },
     "execution_count": 152,
     "metadata": {},
     "output_type": "execute_result"
    }
   ],
   "source": [
    "df_var = df['Bernoulli Variable'].var()\n",
    "df_var"
   ]
  },
  {
   "cell_type": "code",
   "execution_count": 153,
   "metadata": {},
   "outputs": [
    {
     "data": {
      "text/plain": [
       "0.496388074216177"
      ]
     },
     "execution_count": 153,
     "metadata": {},
     "output_type": "execute_result"
    }
   ],
   "source": [
    "df_std = df['Bernoulli Variable'].std()\n",
    "df_std"
   ]
  },
  {
   "cell_type": "markdown",
   "metadata": {},
   "source": [
    "### 1.5 [0.5 pts]  Theoretical vs. Approximated Summary Statistic Comparisons\n",
    "How close are your mean, variance, and standard deviation from 1.4 to the mean, variance, and standard deviation that you calculated in 1.2?"
   ]
  },
  {
   "cell_type": "code",
   "execution_count": 154,
   "metadata": {},
   "outputs": [
    {
     "data": {
      "text/plain": [
       "0.02959999999999996"
      ]
     },
     "execution_count": 154,
     "metadata": {},
     "output_type": "execute_result"
    }
   ],
   "source": [
    "abs(df_mean - rv_mean)"
   ]
  },
  {
   "cell_type": "code",
   "execution_count": 155,
   "metadata": {},
   "outputs": [
    {
     "data": {
      "text/plain": [
       "0.16359887977595522"
      ]
     },
     "execution_count": 155,
     "metadata": {},
     "output_type": "execute_result"
    }
   ],
   "source": [
    "abs(df_var - rv_var)"
   ]
  },
  {
   "cell_type": "code",
   "execution_count": 156,
   "metadata": {},
   "outputs": [
    {
     "data": {
      "text/plain": [
       "0.14392434952710792"
      ]
     },
     "execution_count": 156,
     "metadata": {},
     "output_type": "execute_result"
    }
   ],
   "source": [
    "abs(df_std - rv_std)"
   ]
  },
  {
   "cell_type": "markdown",
   "metadata": {},
   "source": [
    "The mean, variance, and standard deviation from 1.4 is very close to the mean, variance, and standard deviation in 1.2."
   ]
  },
  {
   "cell_type": "markdown",
   "metadata": {},
   "source": [
    "## <u>Case Study 2</u>: Slot Machine Gambling\n",
    "\n",
    "Suppose a gambler has a strategy to keep playing a slot matchine until they wins a round. After the gambler **wins** a round, they stops playing for the day. The probability of **winning** any given slot machine round is 0.02.\n",
    "\n",
    "### 2.1 [1.5 pts]  Average Number of Rounds\n",
    "\n",
    "On average, how many rounds of the slot machine will the gambler play before stopping for the day? \n",
    "\n"
   ]
  },
  {
   "cell_type": "markdown",
   "metadata": {},
   "source": [
    "\n"
   ]
  },
  {
   "cell_type": "code",
   "execution_count": 134,
   "metadata": {},
   "outputs": [
    {
     "data": {
      "text/plain": [
       "50.0"
      ]
     },
     "execution_count": 134,
     "metadata": {},
     "output_type": "execute_result"
    }
   ],
   "source": [
    "geom.mean(p=0.02)"
   ]
  },
  {
   "cell_type": "markdown",
   "metadata": {},
   "source": [
    "On average, a person will have to play 50 games before they win."
   ]
  },
  {
   "cell_type": "markdown",
   "metadata": {},
   "source": [
    "### 2.2 [2 pts]  Borrowing Money Gambling Strategy\n",
    "Suppose that it costs $\\$1$ to play each round of the slot machine. The gambler always brings $\\$100$ with them to play the slot machine each day. If they run out of this $\\$100$ (ie. they play the game more than 100 times), then they go to borrow money from their friend and keeps playing the slot machine until they win. What percent of days does does the gambler need to borrow money from this friend?"
   ]
  },
  {
   "cell_type": "code",
   "execution_count": 157,
   "metadata": {},
   "outputs": [
    {
     "data": {
      "text/plain": [
       "0.36416968008711703"
      ]
     },
     "execution_count": 157,
     "metadata": {},
     "output_type": "execute_result"
    }
   ],
   "source": [
    "1 - geom.cdf(50, p=0.02)"
   ]
  },
  {
   "cell_type": "markdown",
   "metadata": {},
   "source": [
    "## <u>Case Study 3</u>: SAT Score Scholarship Analysis\n",
    "\n",
    "Suppose the distribution of SAT scores for the seniors at a local high school (just math and verbal) has an average of 1000, a standard deviation of 100, and follows a normal distribution. "
   ]
  },
  {
   "cell_type": "markdown",
   "metadata": {},
   "source": [
    "### 3.1 [2 pts] Probability Calculation\n",
    "What is the probability that randomly selected senior from the high school scored more than 1250?"
   ]
  },
  {
   "cell_type": "code",
   "execution_count": 76,
   "metadata": {},
   "outputs": [
    {
     "data": {
      "text/plain": [
       "0.006209665325776159"
      ]
     },
     "execution_count": 76,
     "metadata": {},
     "output_type": "execute_result"
    }
   ],
   "source": [
    "mean = 1000\n",
    "sd = 100\n",
    "above_1200 = 1 - norm.cdf(1250, loc = mean, scale = sd)\n",
    "above_1200"
   ]
  },
  {
   "cell_type": "code",
   "execution_count": null,
   "metadata": {},
   "outputs": [],
   "source": []
  },
  {
   "cell_type": "code",
   "execution_count": null,
   "metadata": {},
   "outputs": [],
   "source": []
  },
  {
   "cell_type": "markdown",
   "metadata": {},
   "source": [
    "### 3.2 [2 pts]  Percentage Calculation\n",
    "What percent of seniors at the school made score between a 900 and 950?"
   ]
  },
  {
   "cell_type": "code",
   "execution_count": 72,
   "metadata": {},
   "outputs": [
    {
     "data": {
      "text/plain": [
       "0.1498822847945298"
      ]
     },
     "execution_count": 72,
     "metadata": {},
     "output_type": "execute_result"
    }
   ],
   "source": [
    "norm.cdf(950, loc = mean, scale = sd) - norm.cdf(900, loc = mean, scale = sd)"
   ]
  },
  {
   "cell_type": "code",
   "execution_count": null,
   "metadata": {},
   "outputs": [],
   "source": []
  },
  {
   "cell_type": "code",
   "execution_count": null,
   "metadata": {},
   "outputs": [],
   "source": []
  },
  {
   "cell_type": "markdown",
   "metadata": {},
   "source": [
    "### 3.3 [3 pts]  Scholarship Analysis\n",
    "Suppose that all seniors at the school who score higher than a 1200 get a scholarship from the county. Suppose that we randomly select a student that we KNOW got the scholarship. GIVEN that we know that the student has the scholarship, what is the probability that this student's SAT score was less than 1300?\n",
    "\n",
    "#### Hint: You might need to consider some of the probability rules discussed in STAT107 (also in Unit 7 section 2 lecture notes)."
   ]
  },
  {
   "cell_type": "code",
   "execution_count": 120,
   "metadata": {},
   "outputs": [
    {
     "data": {
      "text/plain": [
       "0.021400233916549105"
      ]
     },
     "execution_count": 120,
     "metadata": {},
     "output_type": "execute_result"
    }
   ],
   "source": [
    "bw_1300_and_1200 = norm.cdf(1300, loc = mean, scale = sd) - norm.cdf(1200, loc = mean, scale = sd)\n",
    "bw_1300_and_1200"
   ]
  },
  {
   "cell_type": "code",
   "execution_count": 160,
   "metadata": {},
   "outputs": [],
   "source": [
    "prob = bw_1300_and_1200 / (1 - norm.cdf(1200, loc = mean, scale = sd))"
   ]
  },
  {
   "cell_type": "code",
   "execution_count": 161,
   "metadata": {},
   "outputs": [
    {
     "data": {
      "text/plain": [
       "0.9406641669285728"
      ]
     },
     "execution_count": 161,
     "metadata": {},
     "output_type": "execute_result"
    }
   ],
   "source": [
    "prob"
   ]
  },
  {
   "cell_type": "markdown",
   "metadata": {},
   "source": [
    "## <u>Case Study 4</u>: [2 pt] Farm Worker Salaries\n",
    "\n",
    "Suppose the standard deviation of the hourly wage of a farm worker in Illinois is 4 dollars per hour and the distribution of hourly farm worker wages follows the normal distribution. Suppose that we know that 25 % of farm workers in Illinois make at least 15 dollars per hour.\n",
    "\n",
    "What is the average hourly wage of farm workers in Illinois?\n",
    "\n"
   ]
  },
  {
   "cell_type": "code",
   "execution_count": 136,
   "metadata": {},
   "outputs": [
    {
     "data": {
      "text/plain": [
       "-0.6744897501960817"
      ]
     },
     "execution_count": 136,
     "metadata": {},
     "output_type": "execute_result"
    }
   ],
   "source": [
    "z_score = norm.ppf(0.25)\n",
    "z_score"
   ]
  },
  {
   "cell_type": "code",
   "execution_count": 145,
   "metadata": {},
   "outputs": [
    {
     "data": {
      "text/plain": [
       "17.697959000784326"
      ]
     },
     "execution_count": 145,
     "metadata": {},
     "output_type": "execute_result"
    }
   ],
   "source": [
    "mu = 15 - (z_score * 4)\n",
    "mu"
   ]
  },
  {
   "cell_type": "markdown",
   "metadata": {},
   "source": [
    "## <u>Case Study 5</u>: Exploring Properties of the Sample Mean Random Variable\n",
    "\n",
    "Let's revisit our distribution of SAT scores for the seniors at a local high school (just math and verbal) that had an average of 1000, a standard deviation of 100, and followed a normal distribution from case study 3.\n",
    "\n",
    "Let's define **$X_1$=SAT score of a randomly selected high school senior**"
   ]
  },
  {
   "cell_type": "markdown",
   "metadata": {},
   "source": [
    "### 5.1 [2 pts] What is $E[X_1]$,  $V[X_1]$, and $SD[X_1]$? (looking for actual numbers)."
   ]
  },
  {
   "cell_type": "markdown",
   "metadata": {},
   "source": [
    "𝐸[𝑋1]= 1000,\n",
    "𝑉[𝑋1] = 10000,\n",
    "𝑆𝐷[𝑋1] = 100"
   ]
  },
  {
   "cell_type": "markdown",
   "metadata": {},
   "source": [
    "### <u>Tutorial</u>: Functions of Random Variables\n",
    "\n",
    "Remember from Unit 7, that we can create new random variables by adding and multiplying random variable by other random variables or other numbers.\n",
    "\n",
    "For instance, if we have the two following random variables,\n",
    "\n",
    "**$X_1$=SAT score of a randomly selected high school senior**\n",
    "\n",
    "**$X_2$=SAT score of a randomly selected high school senior**\n",
    "\n",
    "then $\\bar{X}=\\frac{X_1+X_2}{2}$ is also a random variable."
   ]
  },
  {
   "cell_type": "markdown",
   "metadata": {},
   "source": [
    "### <u>Tutorial</u>: Properties of the $E[ ]$ function and the $V[]$ function.\n",
    "\n",
    "* Recall that if we are dealing with a random variable Y that is associated with an experiment, then \n",
    "    - if we were to repeat this experiment many, many times, calculate the value of Y for the outcome of each of these experiments, and then take the **average** of these Y values, we would expect this average to be very close to $E[Y]$.\n",
    "    - if we were to repeat this experiment many, many times, calculate the value of Y for the outcome of each of these experiments, and then take the **variance** of these Y values, we would expect this average to be very close to $V[Y]$.\n",
    "    \n",
    "\n",
    "We can think of these $E[ ]$ and $V[]$ as **functions** that also happen to have certain properties.\n",
    "\n",
    "\n",
    "#### <u>Property of the $E[ ]$ function</u>\n",
    "For instance, if X and Y are random variables and a and b are coefficients, then the following property holds:\n",
    "$$E[aX+bY] = a\\cdot E[X]+b\\cdot E[Y]$$.\n",
    "\n",
    "For instance:\n",
    "\n",
    "$E[7X_1+4X_2] = 7\\cdot E[X_1]+4\\cdot E[X_2]$."
   ]
  },
  {
   "cell_type": "markdown",
   "metadata": {},
   "source": [
    "### 5.2  [2 pts] Calculating $E[\\bar{X}]$.\n",
    "Let's define the following four random variables:\n",
    "\n",
    "* **$X_1$=SAT score of a randomly selected high school senior**\n",
    "\n",
    "* **$X_2$=SAT score of a randomly selected high school senior**\n",
    "\n",
    "* **$X_3$=SAT score of a randomly selected high school senior**\n",
    "\n",
    "* **$X_4$=SAT score of a randomly selected high school senior**.\n",
    "\n",
    "Specifically, we say that $X_i \\sim N(\\mu = 1000, \\sigma=100)$ for i=1, i=2, i=3, and i=4.\n",
    "\n",
    "Finally, let's define one more random variable as:\n",
    "* **$\\bar{X}=\\frac{X_1+X_2+X_3+X_4}{4}$**\n",
    "\n",
    "\n",
    "#### Use the properties from the tutorials above to calculate $E[\\bar{X}]$.\n",
    "\n",
    "This is a proof, so show your work! I'm looking for an actual number in the end."
   ]
  },
  {
   "cell_type": "markdown",
   "metadata": {},
   "source": [
    "𝐸[𝑋] = 1000"
   ]
  },
  {
   "cell_type": "markdown",
   "metadata": {},
   "source": [
    "The expected value for each X is 1000 and since we are finding 4 random variables, the overall expected value comes out to 1000."
   ]
  },
  {
   "cell_type": "code",
   "execution_count": null,
   "metadata": {},
   "outputs": [],
   "source": []
  }
 ],
 "metadata": {
  "kernelspec": {
   "display_name": "Python 3",
   "language": "python",
   "name": "python3"
  },
  "language_info": {
   "codemirror_mode": {
    "name": "ipython",
    "version": 3
   },
   "file_extension": ".py",
   "mimetype": "text/x-python",
   "name": "python",
   "nbconvert_exporter": "python",
   "pygments_lexer": "ipython3",
   "version": "3.7.3"
  }
 },
 "nbformat": 4,
 "nbformat_minor": 2
}
